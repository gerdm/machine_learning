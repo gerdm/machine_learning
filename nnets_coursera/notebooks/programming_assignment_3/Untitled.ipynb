{
 "cells": [
  {
   "cell_type": "code",
   "execution_count": 1,
   "metadata": {},
   "outputs": [
    {
     "name": "stdout",
     "output_type": "stream",
     "text": [
      "\n",
      "The loss on the training data is 2.302585\n",
      "The classification error rate on the training data is 0.900000\n",
      "\n",
      "The loss on the validation data is 2.302585\n",
      "The classification error rate on the validation data is 0.900000\n",
      "\n",
      "The loss on the test data is 2.302585\n",
      "The classification error rate on the test data is 0.900000\n"
     ]
    }
   ],
   "source": [
    "a3(0, 0, 0, 0, 0, false, 0)"
   ]
  },
  {
   "cell_type": "code",
   "execution_count": 3,
   "metadata": {},
   "outputs": [
    {
     "name": "stdout",
     "output_type": "stream",
     "text": [
      "error: Theta element #46, with value 5.253220e-02, has finite difference gradient 5.253220e+05 but analytic gradient 5.253220e-01. That looks like an error.\n"
     ]
    }
   ],
   "source": [
    "a3(1e7, 7, 10, 0, 0, false, 4)"
   ]
  },
  {
   "cell_type": "raw",
   "metadata": {},
   "source": [
    "a3(1e7, 7, 10, 0, 0, false, 4)"
   ]
  },
  {
   "cell_type": "markdown",
   "metadata": {
    "collapsed": true
   },
   "source": [
    "softmax"
   ]
  },
  {
   "cell_type": "markdown",
   "metadata": {},
   "source": [
    "$$\n",
    "\\frac{e^{x_j \\theta_j}}{\\sum_i e^{x_i\\theta_i}}\n",
    "$$"
   ]
  },
  {
   "cell_type": "code",
   "execution_count": 12,
   "metadata": {},
   "outputs": [
    {
     "name": "stdout",
     "output_type": "stream",
     "text": [
      "x1\n"
     ]
    }
   ],
   "source": [
    "%%python\n",
    "from sympy import symbols, exp, init_printing\n",
    "init_printing()\n",
    "\n",
    "x1, x2, x3 = symbols(\"x1 x2 x3\")\n",
    "print(x1)"
   ]
  }
 ],
 "metadata": {
  "kernelspec": {
   "display_name": "Octave",
   "language": "octave",
   "name": "octave"
  },
  "language_info": {
   "file_extension": ".m",
   "help_links": [
    {
     "text": "GNU Octave",
     "url": "https://www.gnu.org/software/octave/support.html"
    },
    {
     "text": "Octave Kernel",
     "url": "https://github.com/Calysto/octave_kernel"
    },
    {
     "text": "MetaKernel Magics",
     "url": "https://github.com/calysto/metakernel/blob/master/metakernel/magics/README.md"
    }
   ],
   "mimetype": "text/x-octave",
   "name": "octave",
   "version": "4.2.1"
  }
 },
 "nbformat": 4,
 "nbformat_minor": 2
}
