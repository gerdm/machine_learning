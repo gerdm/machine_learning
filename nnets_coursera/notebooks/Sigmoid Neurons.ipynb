{
 "cells": [
  {
   "cell_type": "markdown",
   "metadata": {},
   "source": [
    "# Sigmoid Neurons\n",
    "#### Backpropagation in action"
   ]
  },
  {
   "cell_type": "markdown",
   "metadata": {},
   "source": [
    "## $\\Delta$-rule for semiliear activation functions\n",
    "Let $f\\in C^{(1)}$; $p$ an element of $P$: the set of training cases\n",
    "\n",
    "Denote $O_{pj} = f_j(net_{pj})$ the output for the $p$-th training case, at the $j$-th neuron; and $net_{pj} = \\sum_{i} w_{ji}O_{pi}$. Where, $w_{ji}O_{pi}$ denotes the weight of the $i$-th neuron connected to the $j$-th neuron (one level above) times the output of the $i$-th neuron at the $p$-th training case.\n",
    "\n",
    "If $i$ is an input unit, we denote $I_{pi} = O_{pi}$."
   ]
  },
  {
   "cell_type": "markdown",
   "metadata": {},
   "source": [
    "![Neural Net Example](./misc/neural_net.png)"
   ]
  },
  {
   "cell_type": "markdown",
   "metadata": {},
   "source": [
    "Denote $T_{pj}$ the target for the $j$-th output layer, at the training case $p$. We want to minimize \n",
    "$$\n",
    "    E_p = \\frac{1}{2}\\sum_k(T_{pk} - O_{pk})^2 \\ \\forall \\ \\text{$k$ in output layer}\n",
    "$$"
   ]
  }
 ],
 "metadata": {
  "kernelspec": {
   "display_name": "Python 3",
   "language": "python",
   "name": "python3"
  },
  "language_info": {
   "codemirror_mode": {
    "name": "ipython",
    "version": 3
   },
   "file_extension": ".py",
   "mimetype": "text/x-python",
   "name": "python",
   "nbconvert_exporter": "python",
   "pygments_lexer": "ipython3",
   "version": "3.6.2"
  }
 },
 "nbformat": 4,
 "nbformat_minor": 2
}
