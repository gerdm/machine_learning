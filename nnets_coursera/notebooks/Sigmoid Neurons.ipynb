{
 "cells": [
  {
   "cell_type": "markdown",
   "metadata": {},
   "source": [
    "# Sigmoid Neurons\n",
    "#### Backpropagation in action"
   ]
  },
  {
   "cell_type": "markdown",
   "metadata": {},
   "source": [
    "## $\\Delta$-rule for semiliear activation functions\n",
    "Let $f\\in C^{(1)}$; $p$ an element of $P$: the set of training cases\n",
    "\n",
    "Denote $O_{pj} = f_j(net_{pj})$ the output for the $p$-th training case, at the $j$-th neuron; and $net_{pj} = \\sum_{i} w_{ji}O_{pi}$. Where, $w_{ji}O_{pi}$ denotes the weight of the $i$-th neuron connected to the $j$-th neuron (one level above) times the output of the $i$-th neuron at the $p$-th training case.\n",
    "\n",
    "If $i$ is an input unit, we denote $I_{pi} = O_{pi}$."
   ]
  },
  {
   "cell_type": "markdown",
   "metadata": {},
   "source": [
    "![Neural Net Example](./misc/neural_net.png)"
   ]
  },
  {
   "cell_type": "markdown",
   "metadata": {},
   "source": [
    "Denote $T_{pj}$ the target for the $j$-th output layer, at the training case $p$. We want to minimize \n",
    "$$\n",
    "    E_p = \\frac{1}{2}\\sum_k(T_{pk} - O_{pk})^2 \\ \\forall \\ \\text{$k$ in output layer}\n",
    "$$"
   ]
  },
  {
   "cell_type": "markdown",
   "metadata": {},
   "source": [
    "$(2, 3, 1)$"
   ]
  },
  {
   "cell_type": "code",
   "execution_count": 37,
   "metadata": {
    "collapsed": true
   },
   "outputs": [],
   "source": [
    "import numpy as np\n",
    "from numpy.random import normal, seed\n",
    "import matplotlib.pyplot as plt"
   ]
  },
  {
   "cell_type": "code",
   "execution_count": 45,
   "metadata": {},
   "outputs": [
    {
     "data": {
      "text/plain": [
       "array([[ 0.39033589, -0.80968558, -1.65430627],\n",
       "       [ 0.79395038, -0.32517131, -0.70884448]])"
      ]
     },
     "execution_count": 45,
     "metadata": {},
     "output_type": "execute_result"
    }
   ],
   "source": [
    "W1 = normal(size=(2, 3)); W1"
   ]
  },
  {
   "cell_type": "code",
   "execution_count": 44,
   "metadata": {},
   "outputs": [
    {
     "data": {
      "text/plain": [
       "array([[-0.96156982],\n",
       "       [-2.67258903],\n",
       "       [ 2.10182453]])"
      ]
     },
     "execution_count": 44,
     "metadata": {},
     "output_type": "execute_result"
    }
   ],
   "source": [
    "W2 = normal(size=(3, 1)); W2"
   ]
  },
  {
   "cell_type": "code",
   "execution_count": 38,
   "metadata": {
    "collapsed": true
   },
   "outputs": [],
   "source": [
    "seed(1969)\n",
    "s1 = normal(loc=1, size=(100,2))\n",
    "s2 = normal(loc=-2, size=(100,2))"
   ]
  },
  {
   "cell_type": "code",
   "execution_count": 57,
   "metadata": {},
   "outputs": [
    {
     "data": {
      "text/plain": [
       "(2, 3)"
      ]
     },
     "execution_count": 57,
     "metadata": {},
     "output_type": "execute_result"
    }
   ],
   "source": [
    "W1.shape"
   ]
  },
  {
   "cell_type": "code",
   "execution_count": 63,
   "metadata": {
    "collapsed": true
   },
   "outputs": [],
   "source": [
    "arch = (3, 2, 3)"
   ]
  },
  {
   "cell_type": "code",
   "execution_count": 82,
   "metadata": {
    "collapsed": true
   },
   "outputs": [],
   "source": [
    "weights = []\n",
    "for ix, el in enumerate(arch[1:]):\n",
    "    w_size = (arch[ix], el)\n",
    "    w_mat = normal(size=w_size)\n",
    "    weights.append(w_mat)"
   ]
  },
  {
   "cell_type": "code",
   "execution_count": 84,
   "metadata": {},
   "outputs": [
    {
     "data": {
      "text/plain": [
       "array([ array([[-0.36390375, -0.35342143],\n",
       "       [-0.84966952, -0.26672927],\n",
       "       [ 0.10255627,  0.84604958]]),\n",
       "       array([[ 0.25331434, -0.67979964, -0.00605364],\n",
       "       [ 1.84504333, -0.61948305,  0.49265519]])], dtype=object)"
      ]
     },
     "execution_count": 84,
     "metadata": {},
     "output_type": "execute_result"
    }
   ],
   "source": [
    "np.array(weights)"
   ]
  },
  {
   "cell_type": "code",
   "execution_count": 52,
   "metadata": {},
   "outputs": [
    {
     "data": {
      "text/plain": [
       "array([[-8.07946063],\n",
       "       [-2.3907663 ],\n",
       "       [-3.63898099],\n",
       "       [ 0.23659066],\n",
       "       [-1.72571986],\n",
       "       [-1.30724104],\n",
       "       [-4.06683989],\n",
       "       [-4.31863742],\n",
       "       [-1.27747109],\n",
       "       [-8.62204961],\n",
       "       [-4.87108185],\n",
       "       [-5.16152808],\n",
       "       [-5.57744451],\n",
       "       [-4.66024191],\n",
       "       [-4.36829465],\n",
       "       [-2.913296  ],\n",
       "       [-5.21065012],\n",
       "       [-1.59589206],\n",
       "       [-6.26598029],\n",
       "       [-2.59620044],\n",
       "       [-3.88343645],\n",
       "       [-5.63991156],\n",
       "       [-1.08982978],\n",
       "       [-3.58717211],\n",
       "       [-0.7275912 ],\n",
       "       [-3.35985546],\n",
       "       [-4.54190553],\n",
       "       [-6.63863941],\n",
       "       [-2.30271119],\n",
       "       [-6.03738417],\n",
       "       [-2.14485092],\n",
       "       [-3.67691598],\n",
       "       [-4.47342489],\n",
       "       [-2.77621334],\n",
       "       [-4.81368097],\n",
       "       [-1.28463987],\n",
       "       [-0.13992477],\n",
       "       [-2.15155176],\n",
       "       [-5.68307607],\n",
       "       [-1.53376773],\n",
       "       [-0.08952225],\n",
       "       [-1.66766538],\n",
       "       [-4.26998408],\n",
       "       [-6.41570861],\n",
       "       [-3.70156292],\n",
       "       [-5.48632549],\n",
       "       [-1.24479183],\n",
       "       [-3.44387656],\n",
       "       [-0.19631799],\n",
       "       [-2.20647319],\n",
       "       [-4.75155602],\n",
       "       [-2.18767227],\n",
       "       [-2.21821232],\n",
       "       [-3.99367902],\n",
       "       [ 0.98150315],\n",
       "       [-5.71427003],\n",
       "       [-4.80018528],\n",
       "       [-4.01140566],\n",
       "       [-1.38965709],\n",
       "       [-1.9306265 ],\n",
       "       [-5.71123443],\n",
       "       [-5.94288767],\n",
       "       [-4.43963907],\n",
       "       [-7.70977706],\n",
       "       [-5.25232927],\n",
       "       [ 2.62629868],\n",
       "       [-0.80929351],\n",
       "       [-3.23580247],\n",
       "       [-2.17095985],\n",
       "       [-1.83523844],\n",
       "       [-5.25299796],\n",
       "       [-0.83143237],\n",
       "       [-2.82895938],\n",
       "       [-3.10580169],\n",
       "       [-6.63198936],\n",
       "       [-1.19634705],\n",
       "       [-1.36984277],\n",
       "       [-5.90980913],\n",
       "       [-4.00499914],\n",
       "       [-3.18696799],\n",
       "       [-3.01535807],\n",
       "       [-5.16624869],\n",
       "       [-0.59229861],\n",
       "       [-2.75658619],\n",
       "       [-2.524504  ],\n",
       "       [-2.99160831],\n",
       "       [-1.82246926],\n",
       "       [-2.11752811],\n",
       "       [-0.34337378],\n",
       "       [-4.01213323],\n",
       "       [-2.05321137],\n",
       "       [-1.7154606 ],\n",
       "       [-0.33258719],\n",
       "       [-4.51285735],\n",
       "       [-3.13907884],\n",
       "       [-6.07315691],\n",
       "       [-6.75731466],\n",
       "       [-1.54331348],\n",
       "       [-1.86293866],\n",
       "       [-1.23584531]])"
      ]
     },
     "execution_count": 52,
     "metadata": {},
     "output_type": "execute_result"
    }
   ],
   "source": [
    "((s1 @ W1) @ W2)"
   ]
  },
  {
   "cell_type": "code",
   "execution_count": 39,
   "metadata": {},
   "outputs": [
    {
     "data": {
      "image/png": "[encoded data removed]",
      "text/plain": [
       "<matplotlib.figure.Figure at 0x10b69a6d8>"
      ]
     },
     "metadata": {},
     "output_type": "display_data"
    }
   ],
   "source": [
    "for p1, p2 in zip(s1, s2):\n",
    "    plt.scatter(*p1, color=\"teal\")\n",
    "    plt.scatter(*p2, color=\"crimson\")\n",
    "plt.show()"
   ]
  }
 ],
 "metadata": {
  "kernelspec": {
   "display_name": "Python 3",
   "language": "python",
   "name": "python3"
  },
  "language_info": {
   "codemirror_mode": {
    "name": "ipython",
    "version": 3
   },
   "file_extension": ".py",
   "mimetype": "text/x-python",
   "name": "python",
   "nbconvert_exporter": "python",
   "pygments_lexer": "ipython3",
   "version": "3.6.2"
  }
 },
 "nbformat": 4,
 "nbformat_minor": 2
}
