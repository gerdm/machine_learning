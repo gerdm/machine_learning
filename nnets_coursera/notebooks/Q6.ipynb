{
 "cells": [
  {
   "cell_type": "markdown",
   "metadata": {},
   "source": [
    "# Programming assignment 1"
   ]
  },
  {
   "cell_type": "code",
   "execution_count": 1,
   "metadata": {
    "collapsed": true
   },
   "outputs": [],
   "source": [
    "import numpy as np\n",
    "import requests\n",
    "from io import BytesIO\n",
    "from zipfile import ZipFile\n",
    "from scipy.io import loadmat\n",
    "import os\n",
    "from matplotlib import pyplot as plt\n",
    "%matplotlib notebook"
   ]
  },
  {
   "cell_type": "code",
   "execution_count": 2,
   "metadata": {
    "collapsed": true
   },
   "outputs": [],
   "source": [
    "if not os.path.exists(\"./quiz6/\"):\n",
    "    zipquiz = (\"http://spark-public.s3.amazonaws.com\"\n",
    "               \"/neuralnets/Programming%20Assignments\"\n",
    "               \"/Programming%20Assignment%201/Assignment1.zip\")\n",
    "    quiz_req = requests.get(zipquiz)\n",
    "    zipped = ZipFile(BytesIO(quiz_req.content))\n",
    "    zipped.extractall(path=\"./quiz6/\")"
   ]
  },
  {
   "cell_type": "markdown",
   "metadata": {},
   "source": [
    "** Datasets **\n",
    " 1. `neg_example_nobias`: Matrix containing examples belonging to class 0\n",
    " 2. `pos_example_nobias`: Matrix containing examples belloinging to class 1\n",
    " 3. `w_init`: Some initial weight vector\n",
    " 4. `w_gen_feas`: A generously feasible weight vector"
   ]
  },
  {
   "cell_type": "code",
   "execution_count": 3,
   "metadata": {},
   "outputs": [
    {
     "data": {
      "text/plain": [
       "{'__globals__': [],\n",
       " '__header__': b'MATLAB 5.0 MAT-file, written by Octave 3.2.4, 2012-10-03 23:31:57 UTC',\n",
       " '__version__': '1.0',\n",
       " 'neg_examples_nobias': array([[-0.80857143,  0.8372093 ],\n",
       "        [ 0.35714286,  0.85049834],\n",
       "        [-0.75142857, -0.73089701],\n",
       "        [-0.3       ,  0.12624585]]),\n",
       " 'pos_examples_nobias': array([[ 0.87142857,  0.62458472],\n",
       "        [-0.02      , -0.92358804],\n",
       "        [ 0.36285714, -0.31893688],\n",
       "        [ 0.88857143, -0.87043189]]),\n",
       " 'w_gen_feas': array([[ 4.3496526 ],\n",
       "        [-2.60997235],\n",
       "        [-0.69414749]]),\n",
       " 'w_init': array([[-0.62170147],\n",
       "        [ 0.76091527],\n",
       "        [ 0.77187205]])}"
      ]
     },
     "execution_count": 3,
     "metadata": {},
     "output_type": "execute_result"
    }
   ],
   "source": [
    "dataset1 = loadmat(\"./quiz6/Datasets/dataset1.mat\")\n",
    "dataset1"
   ]
  },
  {
   "cell_type": "code",
   "execution_count": 63,
   "metadata": {},
   "outputs": [],
   "source": [
    "vect1 = np.ones(len(dataset1[\"neg_examples_nobias\"]))\n",
    "\n",
    "Xtest_neg = np.c_[dataset1[\"neg_examples_nobias\"], vect1]\n",
    "Xtest_pos = np.c_[dataset1[\"pos_examples_nobias\"], vect1]"
   ]
  },
  {
   "cell_type": "code",
   "execution_count": 70,
   "metadata": {},
   "outputs": [],
   "source": [
    "predict_neg = Xtest_neg @ dataset1[\"w_init\"]\n",
    "predict_pos = Xtest_pos @ dataset1[\"w_init\"]"
   ]
  },
  {
   "cell_type": "code",
   "execution_count": 106,
   "metadata": {},
   "outputs": [
    {
     "data": {
      "text/plain": [
       "array([0, 1, 2, 3])"
      ]
     },
     "execution_count": 106,
     "metadata": {},
     "output_type": "execute_result"
    }
   ],
   "source": [
    "np.flatnonzero(predict_neg >= 0)"
   ]
  },
  {
   "cell_type": "code",
   "execution_count": 107,
   "metadata": {},
   "outputs": [
    {
     "data": {
      "text/plain": [
       "array([[ 0.18686995, -0.07629403, -0.22812795],\n",
       "       [-0.97884433, -0.08958307, -0.22812795],\n",
       "       [ 0.1297271 ,  1.49181228, -0.22812795],\n",
       "       [-0.32170147,  0.63466943, -0.22812795]])"
      ]
     },
     "execution_count": 107,
     "metadata": {},
     "output_type": "execute_result"
    }
   ],
   "source": [
    "dataset1[\"w_init\"].T - Xtest_neg[_,:]"
   ]
  },
  {
   "cell_type": "code",
   "execution_count": 103,
   "metadata": {},
   "outputs": [
    {
     "data": {
      "text/plain": [
       "array([3])"
      ]
     },
     "execution_count": 103,
     "metadata": {},
     "output_type": "execute_result"
    }
   ],
   "source": [
    "np.flatnonzero(predict_pos < 0)"
   ]
  },
  {
   "cell_type": "code",
   "execution_count": 104,
   "metadata": {},
   "outputs": [
    {
     "data": {
      "text/plain": [
       "array([[ 0.26686995, -0.10951662,  1.77187205]])"
      ]
     },
     "execution_count": 104,
     "metadata": {},
     "output_type": "execute_result"
    }
   ],
   "source": [
    "dataset1[\"w_init\"].T + Xtest_pos[_,:]"
   ]
  },
  {
   "cell_type": "markdown",
   "metadata": {},
   "source": [
    "# Testing the Perceptron Class"
   ]
  },
  {
   "cell_type": "code",
   "execution_count": 4,
   "metadata": {
    "collapsed": true
   },
   "outputs": [],
   "source": [
    "import sys\n",
    "sys.path.append(\"..\")\n",
    "from perceptron import Perceptron"
   ]
  },
  {
   "cell_type": "code",
   "execution_count": 5,
   "metadata": {},
   "outputs": [],
   "source": [
    "neg_examples = dataset1[\"neg_examples_nobias\"]\n",
    "pos_examples = dataset1[\"pos_examples_nobias\"]\n",
    "\n",
    "perc1 = Perceptron(neg_examples, pos_examples)"
   ]
  }
 ],
 "metadata": {
  "kernelspec": {
   "display_name": "Python 3",
   "language": "python",
   "name": "python3"
  },
  "language_info": {
   "codemirror_mode": {
    "name": "ipython",
    "version": 3
   },
   "file_extension": ".py",
   "mimetype": "text/x-python",
   "name": "python",
   "nbconvert_exporter": "python",
   "pygments_lexer": "ipython3",
   "version": "3.6.2"
  }
 },
 "nbformat": 4,
 "nbformat_minor": 2
}
