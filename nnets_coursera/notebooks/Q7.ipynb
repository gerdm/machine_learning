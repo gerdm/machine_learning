{
 "cells": [
  {
   "cell_type": "markdown",
   "metadata": {},
   "source": [
    "# Quiz 7 "
   ]
  },
  {
   "cell_type": "markdown",
   "metadata": {},
   "source": [
    "### Question 3\n",
    "The figure below shows a Recurrent Neural Network (RNN) with one input unit x, one logistic hidden unit h, and one linear output unit $y$\n",
    "\n",
    "The RNN is unrolled in time for T=0,1, and 2.\n",
    "\n",
    "![RNN1](misc/rnn1.png)\n",
    "\n",
    "The network parameters are: $W_{xh} = 0.5, W_{hh} = -1.0, W_{hy} = -0.7$, $h_{bias}=-0.1$ and $y_{bias}=0.0$. Remember, $\\sigma(k) = \\frac{1}{1 + e^{-k}}$.\n",
    "\n",
    "The inputs at various time steps are the following:\n",
    "\n",
    "$T$ | $x$ (input)\n",
    "--- | ---\n",
    "0 | 9\n",
    "1 | 4\n",
    "2 | -2\n",
    "\n",
    "\n",
    "What is the value of the output y at $T=1$?"
   ]
  },
  {
   "cell_type": "markdown",
   "metadata": {},
   "source": [
    "**How to forward propagate in a recurrent neural network?**\n",
    "\n",
    "We can think of the given neural net as a growing rnn where, after each time-step, an input is produced, the output of the net at time $t$ does not affect the hidden units in the forward progation. It then follows that in order to find the output at time 2 of this RNN, we only forward propagate twice with the same hidden units (using the logistic function), and compute the output with the linear activation function"
   ]
  },
  {
   "cell_type": "code",
   "execution_count": 27,
   "metadata": {},
   "outputs": [
    {
     "name": "stdout",
     "output_type": "stream",
     "text": [
      "-0.49940485619669833\n"
     ]
    }
   ],
   "source": [
    "from math import exp\n",
    "sigma = lambda k: 1 / (1 + exp(-k))\n",
    "X = [9, 4]\n",
    "Wxh, Whh, Why = 0.5, -1.0, -0.7\n",
    "hbias = -0.1\n",
    "\n",
    "# hidden from time 0:\n",
    "#    Input to hidden state\n",
    "o1 = sigma(X[0] * Wxh + hbias)\n",
    "# hidden from time 1:\n",
    "#    output from time 0 and input from time 1\n",
    "o2 = sigma((o1 * Whh) + (X[1] * Wxh) + hbias)\n",
    "# output from time 1\n",
    "output = o2 * Why\n",
    "print(output)"
   ]
  },
  {
   "cell_type": "markdown",
   "metadata": {},
   "source": [
    "### Question 4\n",
    "Consider the RNN architecture above.\n",
    "\n",
    "The network parameters are:\n",
    "\n",
    "Params | Values\n",
    "--- | ---\n",
    "$W_{xh}$ | -0.1\n",
    "$W_{hh}$ | 0.5\n",
    "$W_{hy}$ | 0.25\n",
    "$h_{bias}$ | 0.4\n",
    "$y_{bias}$ | 0.0\n",
    "\n",
    "And the inputs are (verify)\n",
    "\n",
    "$T$ |  $x_i$ | $h_i$ | $y_i$ | $t_i$\n",
    "--- |    --- |   --- | ---   | ---\n",
    "0   | 18     | 0.2   | 0.05 | 0.1\n",
    "1   | 9      | 0.4   | 0.1   | -0.1\n",
    "2   | -8     | 0.8   | 0.2   | -0.2\n",
    "\n",
    "And the following sequence of equations are required to calculate the RSS\n",
    "\n",
    "$$\n",
    "\\begin{align}\n",
    "    z_0 &= W_{xh} x_0 + h_{bias}\\Rightarrow h_0 = \\sigma(z_0)\\\\\n",
    "    z_1 &= W_{xh} x_1 + W_{hh}h_{0} + h_{bias} \\Rightarrow  h_1 = \\sigma(z_1)\\\\\n",
    "    z_2 &= W_{xh} x_2 + W_{hh}h_{1} + h_{bias} \\Rightarrow  h_2 = \\sigma(z_2)\n",
    "\\end{align}\n",
    "$$\n",
    "\n",
    "$$\n",
    "\\begin{align}\n",
    "y_0 &= W_{hy} h_0 + y_{bias} \\Rightarrow E_0 = \\frac{1}{2}(t_0 - y_0)^2 \\\\\n",
    "y_1 &= W_{hy} h_1 + y_{bias} \\Rightarrow E_1 = \\frac{1}{2}(t_1 - y_1)^2 \\\\\n",
    "y_2 &= W_{hy} h_1 + y_{bias} \\Rightarrow E_2 = \\frac{1}{2}(t_2 - y_2)^2\n",
    "\\end{align}\n",
    "$$\n",
    "\n",
    "$$\n",
    "E = E_0 + E_1 + E_2\n",
    "$$"
   ]
  },
  {
   "cell_type": "code",
   "execution_count": 12,
   "metadata": {
    "collapsed": true
   },
   "outputs": [],
   "source": [
    "X = [18, 9, -8]\n",
    "Wxh, Whh, Why = -0.1, 0.5, 0.25\n",
    "hbias = 0.4\n",
    "ti = [0.1, -0.1, -0.2]"
   ]
  },
  {
   "cell_type": "code",
   "execution_count": 13,
   "metadata": {},
   "outputs": [
    {
     "data": {
      "text/plain": [
       "[0.2, 0.4, 0.8]"
      ]
     },
     "execution_count": 13,
     "metadata": {},
     "output_type": "execute_result"
    }
   ],
   "source": [
    "# Finding the hidden values.\n",
    "hi = []\n",
    "for ix, x in enumerate(X):\n",
    "    if ix >= 1:\n",
    "        h_i = sigma(Wxh * x + Whh * hs[ix-1] + hbias)\n",
    "    else:\n",
    "        h_i = sigma(Wxh * x + hbias)\n",
    "        \n",
    "    # Rounding to be consistent with the data given.\n",
    "    hi.append(round(h_i,2))\n",
    "    \n",
    "hi"
   ]
  },
  {
   "cell_type": "code",
   "execution_count": 17,
   "metadata": {},
   "outputs": [
    {
     "data": {
      "text/plain": [
       "[0.05, 0.1, 0.2]"
      ]
     },
     "execution_count": 17,
     "metadata": {},
     "output_type": "execute_result"
    }
   ],
   "source": [
    "# Finding the output values.\n",
    "yi = [Why * h for h in hi]\n",
    "yi"
   ]
  },
  {
   "cell_type": "markdown",
   "metadata": {},
   "source": [
    "Finally, $\\frac{\\partial E}{\\partial z_1}$ is given by\n",
    "$$\n",
    "    \\frac{\\partial E}{\\partial z_1} = [y_1 - t_1](W_{hy} [h_1(1-h_1)]) + [y_2 - t_2](W_{hy} [h_2(1-h_2)])(W_{hh} [h_1(1-h_1)]) \n",
    "$$"
   ]
  },
  {
   "cell_type": "code",
   "execution_count": 21,
   "metadata": {},
   "outputs": [
    {
     "data": {
      "text/plain": [
       "0.01392"
      ]
     },
     "execution_count": 21,
     "metadata": {},
     "output_type": "execute_result"
    }
   ],
   "source": [
    "(yi[1] - ti[1]) * (Why * (hi[1] * (1 - hi[1]))) + \\\n",
    "(yi[2] - ti[2]) * (Why * (hi[2] * (1 - hi[2]))) * (Whh * (hi[1] * (1 - hi[1])))"
   ]
  }
 ],
 "metadata": {
  "kernelspec": {
   "display_name": "Python 3",
   "language": "python",
   "name": "python3"
  },
  "language_info": {
   "codemirror_mode": {
    "name": "ipython",
    "version": 3
   },
   "file_extension": ".py",
   "mimetype": "text/x-python",
   "name": "python",
   "nbconvert_exporter": "python",
   "pygments_lexer": "ipython3",
   "version": "3.6.2"
  }
 },
 "nbformat": 4,
 "nbformat_minor": 2
}
