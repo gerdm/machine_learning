{
 "cells": [
  {
   "cell_type": "markdown",
   "metadata": {},
   "source": [
    "In this assignment we will design a neural net language model. The model will learn to predict the next word given the previous three words. The network looks like this:\n",
    "\n",
    "![Network](https://d3c33hcgiwev3.cloudfront.net/imageAssetProxy.v1/16K1A4zBEeaWMg4j3ZhH-w_606f7dd99a80d81c9340ada660e85624_network.png?expiry=1504569600000&hmac=YIZlCVGpzcAd5T0lyDDGEzK2iJP0BiFAZcOJsDz39Iw)\n",
    "\n",
    "The starter code implements a basic framework for training neural nets with mini-batch gradient descent. Your job is to **write code to complete the implementation of forward and back propagation**. See the README file for a description of the dataset, starter code and how to run it."
   ]
  }
 ],
 "metadata": {
  "kernelspec": {
   "display_name": "Octave",
   "language": "octave",
   "name": "octave"
  },
  "language_info": {
   "file_extension": ".m",
   "help_links": [
    {
     "text": "GNU Octave",
     "url": "https://www.gnu.org/software/octave/support.html"
    },
    {
     "text": "Octave Kernel",
     "url": "https://github.com/Calysto/octave_kernel"
    },
    {
     "text": "MetaKernel Magics",
     "url": "https://github.com/calysto/metakernel/blob/master/metakernel/magics/README.md"
    }
   ],
   "mimetype": "text/x-octave",
   "name": "octave",
   "version": "4.2.1"
  }
 },
 "nbformat": 4,
 "nbformat_minor": 2
}
