{
 "cells": [
  {
   "cell_type": "markdown",
   "metadata": {},
   "source": [
    "# Quiz 5"
   ]
  },
  {
   "cell_type": "code",
   "execution_count": 132,
   "metadata": {
    "collapsed": true
   },
   "outputs": [],
   "source": [
    "import numpy as np\n",
    "import re as r\n",
    "from sympy import *\n",
    "init_printing()"
   ]
  },
  {
   "cell_type": "code",
   "execution_count": 134,
   "metadata": {},
   "outputs": [
    {
     "name": "stdout",
     "output_type": "stream",
     "text": [
      "[1,1]: 4\n",
      "[1,2]: 8\n",
      "[2,1]: 2\n",
      "[2,2]: 4\n"
     ]
    }
   ],
   "source": [
    "def coordinates_weights():\n",
    "    for i in range(1, 5):\n",
    "        for j in range(1, 5):\n",
    "            yield(i, j)\n",
    "            \n",
    "def total_weight(x0, y0, weight_vector, x_vector):\n",
    "    total_sum = 0\n",
    "    coords = coordinates_weights()\n",
    "    for coord in coords:\n",
    "        x, y = coord\n",
    "        wii = \"w{}{}\".format(x,y)\n",
    "        xii = \"x{}{}\".format(x + x0 - 1,y + y0 - 1)\n",
    "        total_sum += weight_vector[wii] * x_vector[xii]\n",
    "    return total_sum\n",
    "\n",
    "xarray = [0, 1, 1, 1, 0,\n",
    "          0, 0, 0, 1, 0,\n",
    "          0, 1, 1, 1, 0,\n",
    "          0, 0, 0, 1, 0,\n",
    "          0, 1, 1, 1, 0]\n",
    "          \n",
    "xvector = dict()\n",
    "ix = 0\n",
    "for i in range(1, 6):\n",
    "    for j in range(1, 6):\n",
    "        label = \"x{}{}\".format(i, j)\n",
    "        xvector[label] = xarray[ix]\n",
    "        ix += 1\n",
    "\n",
    "weights_string = \"w11w21w31w41=1=0=1=0w12w22w32w42=1=0=1=0w13w23w33w43=1=1=1=1w14w24w34w44=0=0=0=0\"\n",
    "weights = r.findall(\"w[0-9]{2}\", weights_string)\n",
    "values = r.findall(\"=[0-9]{1}\", weights_string)\n",
    "\n",
    "wvector = dict()\n",
    "for weight, value in zip(weights, values):\n",
    "    wvector[weight] = int(value[1:])\n",
    "\n",
    "for i in range(1,3):\n",
    "    for j in range(1,3):\n",
    "        print(\"[{},{}]: {}\".format(i, j, \n",
    "                                   total_weight(i, j, wvector, xvector)))"
   ]
  },
  {
   "cell_type": "code",
   "execution_count": 140,
   "metadata": {
    "collapsed": true
   },
   "outputs": [],
   "source": [
    "subs_keys = {h1: \"h1\", h2: \"h2\", y: \"y\", z1:\"z1\", z2:\"z2\"}\n",
    "\n",
    "sigmoid = lambda x: 1 / (1 + exp(-x))\n",
    "x1, x2, x3, w1, w2, w3, w4 = symbols(\"x1 x2 x3 w1 w2 w3 w4\")\n",
    "u1, u2, t = symbols(\"u1 u2 t\")\n",
    "\n",
    "z1 = w1 * x1 + w2 * x2\n",
    "z2 = w3 * x2 + w4 * x3\n",
    "\n",
    "h1 = sigmoid(z1)\n",
    "h2 = sigmoid(z2)\n",
    "\n",
    "y = h1 * u1 + h2 * u2\n",
    "\n",
    "E = (t - y) ** 2 / 2"
   ]
  },
  {
   "cell_type": "code",
   "execution_count": 142,
   "metadata": {},
   "outputs": [
    {
     "data": {
      "image/png": "[encoded data removed]",
      "text/latex": [
       "$$\\frac{1}{2} \\left(t - \\frac{u_{1}}{e^{- w_{1} x_{1} - w_{2} x_{2}} + 1} - \\frac{u_{2}}{e^{- w_{3} x_{2} - w_{4} x_{3}} + 1}\\right)^{2}$$"
      ],
      "text/plain": [
       "                                               2\n",
       "⎛             u₁                    u₂        ⎞ \n",
       "⎜t - ─────────────────── - ───────────────────⎟ \n",
       "⎜     -w₁⋅x₁ - w₂⋅x₂        -w₃⋅x₂ - w₄⋅x₃    ⎟ \n",
       "⎝    ℯ               + 1   ℯ               + 1⎠ \n",
       "────────────────────────────────────────────────\n",
       "                       2                        "
      ]
     },
     "execution_count": 142,
     "metadata": {},
     "output_type": "execute_result"
    }
   ],
   "source": [
    "E"
   ]
  },
  {
   "cell_type": "code",
   "execution_count": 181,
   "metadata": {},
   "outputs": [
    {
     "data": {
      "image/png": "[encoded data removed]",
      "text/latex": [
       "$$- h_{1}^{2} u_{1} \\left(t - y\\right) \\left(x_{1} + x_{2}\\right) e^{- z_{1}}$$"
      ],
      "text/plain": [
       "   2                       -z₁\n",
       "-h₁ ⋅u₁⋅(t - y)⋅(x₁ + x₂)⋅ℯ   "
      ]
     },
     "execution_count": 181,
     "metadata": {},
     "output_type": "execute_result"
    }
   ],
   "source": [
    "(E.diff(w1) + E.diff(w2)).subs(subs_keys).simplify()"
   ]
  },
  {
   "cell_type": "code",
   "execution_count": 182,
   "metadata": {},
   "outputs": [
    {
     "data": {
      "image/png": "[encoded data removed]",
      "text/latex": [
       "$$- x_{2} \\left(t - y\\right) \\left(h_{1}^{2} u_{1} e^{z_{2}} + h_{2}^{2} u_{2} e^{z_{1}}\\right) e^{- z_{1} - z_{2}}$$"
      ],
      "text/plain": [
       "            ⎛  2     z₂     2     z₁⎞  -z₁ - z₂\n",
       "-x₂⋅(t - y)⋅⎝h₁ ⋅u₁⋅ℯ   + h₂ ⋅u₂⋅ℯ  ⎠⋅ℯ        "
      ]
     },
     "execution_count": 182,
     "metadata": {},
     "output_type": "execute_result"
    }
   ],
   "source": [
    "(E.diff(w2) + E.diff(w3)).subs(subs_keys).simplify()"
   ]
  }
 ],
 "metadata": {
  "kernelspec": {
   "display_name": "Python 3",
   "language": "python",
   "name": "python3"
  },
  "language_info": {
   "codemirror_mode": {
    "name": "ipython",
    "version": 3
   },
   "file_extension": ".py",
   "mimetype": "text/x-python",
   "name": "python",
   "nbconvert_exporter": "python",
   "pygments_lexer": "ipython3",
   "version": "3.6.2"
  }
 },
 "nbformat": 4,
 "nbformat_minor": 2
}
