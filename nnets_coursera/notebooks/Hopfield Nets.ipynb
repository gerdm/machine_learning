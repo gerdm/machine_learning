{
 "cells": [
  {
   "cell_type": "markdown",
   "metadata": {},
   "source": [
    "# Hopfield Networks "
   ]
  },
  {
   "cell_type": "code",
   "execution_count": 161,
   "metadata": {},
   "outputs": [],
   "source": [
    "import numpy as np\n",
    "from numpy.random import randint\n",
    "from numpy import exp"
   ]
  },
  {
   "cell_type": "code",
   "execution_count": 99,
   "metadata": {
    "collapsed": true
   },
   "outputs": [],
   "source": [
    "# States of the network\n",
    "S = np.array([[1, 0, 1, 0, 0]], dtype=float).T\n",
    "\n",
    "# values of connections in the nework\n",
    "wvalues = np.array([0, -4, 3, 2, 0, # from state 0 to states 0, 1, 2, 3, 4\n",
    "                    0, 0, 3, 3,     # from state 1 to states 1, 2, 3, 4\n",
    "                    0, -1, 0,       # from state 2 to states 2, 3, 4\n",
    "                    0, -1,          # from state 3 to states 3, 4\n",
    "                    0])             # from state 4 to state  4\n",
    "\n",
    "# Weight matrix\n",
    "W = np.zeros((5,5))\n",
    "W[np.triu_indices(5)] = wvalues\n",
    "\n",
    "# Transition matrix for states\n",
    "S_conn = np.triu(S @ S.T)\n",
    "S_conn[np.diag_indices(5)] = 0"
   ]
  },
  {
   "cell_type": "code",
   "execution_count": 174,
   "metadata": {},
   "outputs": [],
   "source": [
    "class Hopfield:\n",
    "    def __init__(self, states, weights):\n",
    "        self.states = states\n",
    "        self.num_states = len(states)\n",
    "        self.weights = weights\n",
    "        self.states_conn = self.connections(states)\n",
    "    \n",
    "    def connections(self, states):\n",
    "        S_conn = np.triu(self.states @ self.states.T)\n",
    "        S_conn[np.diag_indices(self.num_states)] = 0\n",
    "        return S_conn"
   ]
  },
  {
   "cell_type": "code",
   "execution_count": 175,
   "metadata": {
    "collapsed": true
   },
   "outputs": [],
   "source": [
    "h = Hopfield(S, W)"
   ]
  },
  {
   "cell_type": "code",
   "execution_count": 176,
   "metadata": {},
   "outputs": [
    {
     "data": {
      "text/plain": [
       "array([[ 0.,  0.,  0.,  1.,  0.],\n",
       "       [ 0.,  0.,  0.,  0.,  0.],\n",
       "       [ 0.,  0.,  0.,  0.,  0.],\n",
       "       [ 0.,  0.,  0.,  0.,  0.],\n",
       "       [ 0.,  0.,  0.,  0.,  0.]])"
      ]
     },
     "execution_count": 176,
     "metadata": {},
     "output_type": "execute_result"
    }
   ],
   "source": [
    "h.states_conn"
   ]
  },
  {
   "cell_type": "code",
   "execution_count": 135,
   "metadata": {},
   "outputs": [
    {
     "data": {
      "text/plain": [
       "3.0"
      ]
     },
     "execution_count": 135,
     "metadata": {},
     "output_type": "execute_result"
    }
   ],
   "source": [
    "# Current state of the network\n",
    "np.sum(S_conn * W)"
   ]
  },
  {
   "cell_type": "code",
   "execution_count": 139,
   "metadata": {},
   "outputs": [
    {
     "data": {
      "text/plain": [
       "3.0"
      ]
     },
     "execution_count": 139,
     "metadata": {},
     "output_type": "execute_result"
    }
   ],
   "source": [
    "# Value above 0 -> off\n",
    "target = 1\n",
    "S.T @ W[:,target]\n",
    "S[target] = 0\n",
    "\n",
    "np.sum(S_conn * W)"
   ]
  },
  {
   "cell_type": "code",
   "execution_count": 148,
   "metadata": {},
   "outputs": [
    {
     "data": {
      "text/plain": [
       "3.0"
      ]
     },
     "execution_count": 148,
     "metadata": {},
     "output_type": "execute_result"
    }
   ],
   "source": [
    "# Value above 0 -> on\n",
    "target = 2\n",
    "S.T @ W[:,target]\n",
    "S[target] = 0\n",
    "\n",
    "np.sum(S_conn * W)"
   ]
  },
  {
   "cell_type": "code",
   "execution_count": 156,
   "metadata": {},
   "outputs": [
    {
     "data": {
      "text/plain": [
       "2.0"
      ]
     },
     "execution_count": 156,
     "metadata": {},
     "output_type": "execute_result"
    }
   ],
   "source": [
    "# Value above 0 -> on; state changes, total energy goes down\n",
    "target = 3\n",
    "delta_state = 1 if S.T @ W[:,target] > 0 else 0\n",
    "S[target] = delta_state\n",
    "S_conn = np.triu(S @ S.T)\n",
    "\n",
    "np.sum(S_conn * W)"
   ]
  },
  {
   "cell_type": "markdown",
   "metadata": {},
   "source": [
    "If $\\Delta E = -3$, then $P(s=1)$ increases when $T$ increases.\n",
    "\n",
    "Recall: \n",
    "$$\n",
    "    P(s_i=1) = \\frac{1}{1 + e^{-\\Delta E_i / T}}\n",
    "$$"
   ]
  },
  {
   "cell_type": "code",
   "execution_count": 169,
   "metadata": {},
   "outputs": [
    {
     "data": {
      "text/plain": [
       "array([ 0.04742587,  0.18242552,  0.26894142,  0.3208213 ,  0.35434369])"
      ]
     },
     "execution_count": 169,
     "metadata": {},
     "output_type": "execute_result"
    }
   ],
   "source": [
    "p = np.vectorize(lambda deltaE, T: 1 / (1 + exp(-deltaE / T)))\n",
    "p(-3, [1,2,3,4,5])"
   ]
  }
 ],
 "metadata": {
  "kernelspec": {
   "display_name": "Python 3",
   "language": "python",
   "name": "python3"
  },
  "language_info": {
   "codemirror_mode": {
    "name": "ipython",
    "version": 3
   },
   "file_extension": ".py",
   "mimetype": "text/x-python",
   "name": "python",
   "nbconvert_exporter": "python",
   "pygments_lexer": "ipython3",
   "version": "3.6.2"
  }
 },
 "nbformat": 4,
 "nbformat_minor": 2
}
