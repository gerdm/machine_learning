{
 "cells": [
  {
   "cell_type": "markdown",
   "metadata": {},
   "source": [
    "# Hopfield Networks "
   ]
  },
  {
   "cell_type": "code",
   "execution_count": 58,
   "metadata": {
    "collapsed": true
   },
   "outputs": [],
   "source": [
    "import numpy as np\n",
    "from numpy.random import randint, choice\n",
    "from numpy import exp"
   ]
  },
  {
   "cell_type": "code",
   "execution_count": 305,
   "metadata": {},
   "outputs": [],
   "source": [
    "class Hopfield:\n",
    "    def __init__(self, nunits, weights, initial_states=None):\n",
    "        self.nunits = nunits\n",
    "        self.states = self.init_states(initial_states)\n",
    "        self.weights = self.init_weights(weights)\n",
    "        self.transition_states = self.update_transitions()\n",
    "        \n",
    "    def init_states(self, initial_states):\n",
    "        if initial_states is None:\n",
    "            return choice([0,1], size=self.nunits).reshape(-1,1)\n",
    "        else:\n",
    "            return initial_states.reshape(-1,1)\n",
    "            \n",
    "    def init_weights(self, weights):\n",
    "        W = np.zeros((self.nunits, self.nunits))\n",
    "        W[np.triu_indices(self.nunits, k=1)] = weights\n",
    "        return W\n",
    "    \n",
    "    def update_transitions(self):\n",
    "        transitions = np.triu(self.states @ self.states.T)\n",
    "        transitions[np.diag_indices(self.nunits)] = 0\n",
    "        return transitions\n",
    "    \n",
    "    def get_energy(self):\n",
    "        return -np.sum(self.transition_states * self.weights)\n",
    "    \n",
    "    def update_random_state(self):\n",
    "        target = randint(0, self.nunits)\n",
    "        delta_state = 1 if self.states.T @ self.weights[:, target] > 0 else 0\n",
    "        self.states[target] = delta_state\n",
    "        self.transition_states = self.update_transitions()\n",
    "    \n",
    "    def minimize_energy(self, iterations=10, verbose=False):\n",
    "        print(f\"Initial energy: {self.get_energy()}\")\n",
    "        for it in range(iterations):\n",
    "            self.update_random_state()\n",
    "            if verbose:\n",
    "                print(f\"At iteration {it}, energy {self.get_energy()}\")"
   ]
  },
  {
   "cell_type": "code",
   "execution_count": 306,
   "metadata": {},
   "outputs": [],
   "source": [
    "weights = [0, 1, -2, 0, 1, 0, -3, 2, 2, 3]\n",
    "\n",
    "weights = [-4, 3, 2, 0, 0, 3, 3, -1, 0, -1]\n",
    "states0 = np.array([[1, 0, 1, 0, 0]], dtype=float)\n",
    "hnet = Hopfield(5, weights, initial_states=states0)"
   ]
  },
  {
   "cell_type": "code",
   "execution_count": 307,
   "metadata": {},
   "outputs": [
    {
     "name": "stdout",
     "output_type": "stream",
     "text": [
      "Initial energy: -3.0\n",
      "At iteration 0, energy -4.0\n",
      "At iteration 1, energy -4.0\n",
      "At iteration 2, energy -4.0\n",
      "At iteration 3, energy -4.0\n",
      "At iteration 4, energy -4.0\n",
      "At iteration 5, energy 1.0\n",
      "At iteration 6, energy 1.0\n",
      "At iteration 7, energy 1.0\n",
      "At iteration 8, energy -0.0\n",
      "At iteration 9, energy -0.0\n"
     ]
    }
   ],
   "source": [
    "hnet.minimize_energy(iterations=10, verbose=True)"
   ]
  },
  {
   "cell_type": "code",
   "execution_count": 139,
   "metadata": {
    "collapsed": true
   },
   "outputs": [],
   "source": [
    "# States of the network\n",
    "S = np.array([[1, 0, 1, 0, 0]], dtype=float).T\n",
    "\n",
    "# values of connections in the nework\n",
    "wvalues = np.array([0, -4, 3, 2, 0, # from state 0 to states 0, 1, 2, 3, 4\n",
    "                    0, 0, 3, 3,     # from state 1 to states 1, 2, 3, 4\n",
    "                    0, -1, 0,       # from state 2 to states 2, 3, 4\n",
    "                    0, -1,          # from state 3 to states 3, 4\n",
    "                    0])             # from state 4 to state  4\n",
    "\n",
    "# Weight matrix\n",
    "W = np.zeros((5,5))\n",
    "W[np.triu_indices(5)] = wvalues\n",
    "\n",
    "# Transition matrix for states\n",
    "S_conn = np.triu(S @ S.T)\n",
    "S_conn[np.diag_indices(5)] = 0"
   ]
  },
  {
   "cell_type": "code",
   "execution_count": 142,
   "metadata": {},
   "outputs": [
    {
     "data": {
      "text/plain": [
       "array([[ 0.,  0.,  1.,  0.,  0.],\n",
       "       [ 0.,  0.,  0.,  0.,  0.],\n",
       "       [ 0.,  0.,  0.,  0.,  0.],\n",
       "       [ 0.,  0.,  0.,  0.,  0.],\n",
       "       [ 0.,  0.,  0.,  0.,  0.]])"
      ]
     },
     "execution_count": 142,
     "metadata": {},
     "output_type": "execute_result"
    }
   ],
   "source": [
    "S_conn"
   ]
  },
  {
   "cell_type": "code",
   "execution_count": 135,
   "metadata": {},
   "outputs": [
    {
     "data": {
      "text/plain": [
       "3.0"
      ]
     },
     "execution_count": 135,
     "metadata": {},
     "output_type": "execute_result"
    }
   ],
   "source": [
    "# Current state of the network\n",
    "np.sum(S_conn * W)"
   ]
  },
  {
   "cell_type": "code",
   "execution_count": 139,
   "metadata": {},
   "outputs": [
    {
     "data": {
      "text/plain": [
       "3.0"
      ]
     },
     "execution_count": 139,
     "metadata": {},
     "output_type": "execute_result"
    }
   ],
   "source": [
    "# Value below 0 -> off\n",
    "target = 1\n",
    "S.T @ W[:,target]\n",
    "S[target] = 0\n",
    "\n",
    "np.sum(S_conn * W)"
   ]
  },
  {
   "cell_type": "code",
   "execution_count": 148,
   "metadata": {},
   "outputs": [
    {
     "data": {
      "text/plain": [
       "3.0"
      ]
     },
     "execution_count": 148,
     "metadata": {},
     "output_type": "execute_result"
    }
   ],
   "source": [
    "# Value above 0 -> on\n",
    "target = 2\n",
    "S.T @ W[:,target]\n",
    "S[target] = 0\n",
    "\n",
    "np.sum(S_conn * W)"
   ]
  },
  {
   "cell_type": "code",
   "execution_count": 156,
   "metadata": {},
   "outputs": [
    {
     "data": {
      "text/plain": [
       "2.0"
      ]
     },
     "execution_count": 156,
     "metadata": {},
     "output_type": "execute_result"
    }
   ],
   "source": [
    "# Value above 0 -> on; state changes, total energy goes down\n",
    "target = 3\n",
    "delta_state = 1 if S.T @ W[:,target] > 0 else 0\n",
    "S[target] = delta_state\n",
    "S_conn = np.triu(S @ S.T)\n",
    "\n",
    "np.sum(S_conn * W)"
   ]
  },
  {
   "cell_type": "markdown",
   "metadata": {},
   "source": [
    "If $\\Delta E = -3$, then $P(s=1)$ increases when $T$ increases.\n",
    "\n",
    "Recall: \n",
    "$$\n",
    "    P(s_i=1) = \\frac{1}{1 + e^{-\\Delta E_i / T}}\n",
    "$$"
   ]
  },
  {
   "cell_type": "code",
   "execution_count": 4,
   "metadata": {},
   "outputs": [
    {
     "data": {
      "text/plain": [
       "array([ 0.04742587,  0.18242552,  0.26894142,  0.3208213 ,  0.35434369])"
      ]
     },
     "execution_count": 4,
     "metadata": {},
     "output_type": "execute_result"
    }
   ],
   "source": [
    "p = np.vectorize(lambda deltaE, T: 1 / (1 + exp(-deltaE / T)))\n",
    "p(-3, [1,2,3,4,5])"
   ]
  },
  {
   "cell_type": "markdown",
   "metadata": {},
   "source": [
    "## Boltzmann-Machine"
   ]
  },
  {
   "cell_type": "code",
   "execution_count": 28,
   "metadata": {},
   "outputs": [],
   "source": [
    "import matplotlib.pyplot as plt\n",
    "from ipywidgets import interact, FloatSlider"
   ]
  },
  {
   "cell_type": "code",
   "execution_count": 38,
   "metadata": {
    "collapsed": true
   },
   "outputs": [],
   "source": [
    "def plot_temperature(t):\n",
    "    temperatures = p(np.linspace(-5, 5, 500), t)\n",
    "    plt.figure(figsize=(15,10))\n",
    "    plt.plot(temperatures, label=f\"T={t}\")\n",
    "    plt.ylim(0, 1.1)\n",
    "    plt.legend()\n",
    "    plt.show()"
   ]
  },
  {
   "cell_type": "code",
   "execution_count": 40,
   "metadata": {},
   "outputs": [
    {
     "data": {
      "application/vnd.jupyter.widget-view+json": {
       "model_id": "4be9c69e16b441bdb350418bc8cd5a35",
       "version_major": 2,
       "version_minor": 0
      },
      "text/plain": [
       "A Jupyter Widget"
      ]
     },
     "metadata": {},
     "output_type": "display_data"
    },
    {
     "data": {
      "text/plain": [
       "<function __main__.plot_temperature>"
      ]
     },
     "execution_count": 40,
     "metadata": {},
     "output_type": "execute_result"
    }
   ],
   "source": [
    "interact(plot_temperature, t=FloatSlider(min=0.1, max=1, step=0.1, value=0.5))"
   ]
  },
  {
   "cell_type": "code",
   "execution_count": 44,
   "metadata": {},
   "outputs": [
    {
     "data": {
      "image/png": "[encoded data removed]",
      "text/plain": [
       "<matplotlib.figure.Figure at 0x110bafda0>"
      ]
     },
     "metadata": {},
     "output_type": "display_data"
    }
   ],
   "source": [
    "plot_temperature(0.01)"
   ]
  },
  {
   "cell_type": "code",
   "execution_count": null,
   "metadata": {
    "collapsed": true
   },
   "outputs": [],
   "source": [
    "0.3655"
   ]
  }
 ],
 "metadata": {
  "kernelspec": {
   "display_name": "Python 3",
   "language": "python",
   "name": "python3"
  },
  "language_info": {
   "codemirror_mode": {
    "name": "ipython",
    "version": 3
   },
   "file_extension": ".py",
   "mimetype": "text/x-python",
   "name": "python",
   "nbconvert_exporter": "python",
   "pygments_lexer": "ipython3",
   "version": "3.6.2"
  }
 },
 "nbformat": 4,
 "nbformat_minor": 2
}
