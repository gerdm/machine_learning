{
 "cells": [
  {
   "cell_type": "code",
   "execution_count": 15,
   "metadata": {
    "collapsed": true
   },
   "outputs": [],
   "source": [
    "import numpy as np\n",
    "from numpy.random import seed, normal"
   ]
  },
  {
   "cell_type": "markdown",
   "metadata": {},
   "source": [
    "For the following Neural Network,\n",
    "\n",
    "![Example of a Neural Net](https://d3c33hcgiwev3.cloudfront.net/imageAssetProxy.v1/ZuchtDG-EeeuNhKwhdsJZA_fdb0be3455dc53be00de4c21a952f435_NN-_2_.png?expiry=1502323200000&hmac=mNNwwZAOzAhdes9P9vM88YthDGmqrP57e8KDZUNWV5U)\n",
    "\n",
    "The connection of weights can be represented as an array of matrices\n",
    "\n",
    "$$\n",
    "A = \\begin{bmatrix}\n",
    "0.2 & -0.4 & 0 \\\\\n",
    "0.3 & 0.5 & 1\n",
    "\\end{bmatrix}\n",
    "$$\n",
    "And, \n",
    "$$\n",
    "B = \\begin{bmatrix}\n",
    "2  \\\\\n",
    "-1 \\\\\n",
    "5 \n",
    "\\end{bmatrix}\n",
    "$$\n",
    "\n",
    "Where the element $x_{ij} \\in X$ represents the weight for the $i$-th neuron in the layer going to the $j$-th neuron in the next layer.\n",
    "\n",
    "For example, the weight going from the first neuron in the input layer to the first neuron in hidden layer is $a_{11} = 0.2$. Similarly, the second neuron in the hidden layer going to the *only* neuron in the output layer is presented as $b_{21} = -1$. Where $a_{11} \\in A$ and $b_{21} \\in B$"
   ]
  },
  {
   "cell_type": "code",
   "execution_count": 43,
   "metadata": {},
   "outputs": [],
   "source": [
    "logit = lambda z: 1 / (1 + np.exp(-z))\n",
    "\n",
    "# Implementing a Feed-Forward Neural Net\n",
    "def prediction(W1, W2, X):\n",
    "    \"\"\"\n",
    "    Implementation of Forward Propagation using a Feed-Forward neural network\n",
    "    with one hidden layer. The hidden layer is composed of logistic neurons,\n",
    "    and the output later is a linear neuron. There will be no bias in the network.\n",
    "    \n",
    "    W1 is in Mat(nxm, R) (i.e. n inputs to m hidden units)\n",
    "    W2 is in Mat(mx1, R) (i.e. m hidden units to the output unit)\n",
    "    X is in Mat(kxn, R)  (i.e. k data points and n number of features (or inputs))\n",
    "    \"\"\"\n",
    "    # Forward hidden layer (output of input layer)\n",
    "    z = X @ W1\n",
    "    # Transform output of the input layer,\n",
    "    # the input of the hidden layer is the logit function,\n",
    "    # send it to the output layer multiplicating its weights\n",
    "    output = logit(z) @ W2\n",
    "    return output"
   ]
  },
  {
   "cell_type": "code",
   "execution_count": 21,
   "metadata": {},
   "outputs": [],
   "source": [
    "# Let k = 5, n = 2, m = 3\n",
    "seed(2708)\n",
    "Xtest = np.random.normal(size=(5,2))\n",
    "W1test = np.array([\n",
    "    [0.2, -0.4, 0.0],\n",
    "    [0.3,  0.5, 1.0],\n",
    "])\n",
    "W2test = np.array([[2,-1,5]]).T"
   ]
  },
  {
   "cell_type": "code",
   "execution_count": 45,
   "metadata": {},
   "outputs": [
    {
     "data": {
      "text/plain": [
       "array([[ 3.85273885],\n",
       "       [ 2.89713217],\n",
       "       [ 4.55171145],\n",
       "       [ 0.70971389],\n",
       "       [ 2.19338312]])"
      ]
     },
     "execution_count": 45,
     "metadata": {},
     "output_type": "execute_result"
    }
   ],
   "source": [
    "prediction(W1test, W2test, Xtest)"
   ]
  },
  {
   "cell_type": "markdown",
   "metadata": {},
   "source": [
    "Note that the output layer is $k = 5$ in the example (the number of training cases)"
   ]
  },
  {
   "cell_type": "code",
   "execution_count": 56,
   "metadata": {},
   "outputs": [
    {
     "data": {
      "text/plain": [
       "[[1.0962964395772472, 0.5091163315246435],\n",
       " [-2.113774097567954, 0.23717416424820859],\n",
       " [0.8351921692578441, 1.2195064106699236],\n",
       " [-0.7935269549509552, -2.4009957887008246],\n",
       " [-0.2889302002574475, -0.6051208242567099]]"
      ]
     },
     "execution_count": 56,
     "metadata": {},
     "output_type": "execute_result"
    }
   ],
   "source": [
    "Xtest.tolist()"
   ]
  }
 ],
 "metadata": {
  "kernelspec": {
   "display_name": "Python 3",
   "language": "python",
   "name": "python3"
  },
  "language_info": {
   "codemirror_mode": {
    "name": "ipython",
    "version": 3
   },
   "file_extension": ".py",
   "mimetype": "text/x-python",
   "name": "python",
   "nbconvert_exporter": "python",
   "pygments_lexer": "ipython3",
   "version": "3.6.2"
  }
 },
 "nbformat": 4,
 "nbformat_minor": 2
}
