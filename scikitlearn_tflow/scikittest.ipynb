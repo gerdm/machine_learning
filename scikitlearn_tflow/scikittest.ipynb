{
 "cells": [
  {
   "cell_type": "markdown",
   "metadata": {},
   "source": [
    "# Scikit-Learn Basics"
   ]
  },
  {
   "cell_type": "code",
   "execution_count": 1,
   "metadata": {
    "collapsed": true
   },
   "outputs": [],
   "source": [
    "import numpy as np\n",
    "from numpy.random import normal, seed, shuffle\n",
    "import matplotlib.pyplot as plt"
   ]
  },
  {
   "cell_type": "code",
   "execution_count": 2,
   "metadata": {
    "collapsed": true
   },
   "outputs": [],
   "source": [
    "def shuffle_dataset(x, y):\n",
    "    _, cols = x.shape\n",
    "    dataset = np.c_[x, y]\n",
    "    shuffle(dataset)\n",
    "    xout, yout = dataset[:,:cols], dataset[:,cols]\n",
    "    return xout, yout"
   ]
  },
  {
   "cell_type": "code",
   "execution_count": 4,
   "metadata": {
    "collapsed": true
   },
   "outputs": [],
   "source": [
    "seed(42)\n",
    "X1 = normal(loc=-0.8, size=(100, 2))\n",
    "X2 = normal(loc=+0.8, size=(100, 2))\n",
    "\n",
    "train_x = np.r_[X1, X2]\n",
    "train_y = np.r_[np.zeros(100), np.ones(100)]\n",
    "train_x, train_y = shuffle_dataset(train_x, train_y)"
   ]
  },
  {
   "cell_type": "code",
   "execution_count": 5,
   "metadata": {},
   "outputs": [
    {
     "data": {
      "image/png": "[encoded data removed]",
      "text/plain": [
       "<matplotlib.figure.Figure at 0x1101ee518>"
      ]
     },
     "metadata": {},
     "output_type": "display_data"
    }
   ],
   "source": [
    "plt.scatter(*X1.T, color=\"teal\")\n",
    "plt.scatter(*X2.T, color=\"crimson\")\n",
    "plt.show()"
   ]
  },
  {
   "cell_type": "code",
   "execution_count": 7,
   "metadata": {},
   "outputs": [
    {
     "data": {
      "text/plain": [
       "LogisticRegression(C=1.0, class_weight=None, dual=False, fit_intercept=True,\n",
       "          intercept_scaling=1, max_iter=100, multi_class='ovr', n_jobs=1,\n",
       "          penalty='l2', random_state=None, solver='liblinear', tol=0.0001,\n",
       "          verbose=0, warm_start=False)"
      ]
     },
     "execution_count": 7,
     "metadata": {},
     "output_type": "execute_result"
    }
   ],
   "source": [
    "from sklearn.linear_model import LogisticRegression\n",
    "\n",
    "lr = LogisticRegression()\n",
    "lr.fit(train_x, train_y)"
   ]
  },
  {
   "cell_type": "markdown",
   "metadata": {},
   "source": [
    "** The Confusion Matrix**\n",
    "\n",
    "|   | F | T\n",
    "|---| --- | ---\n",
    "| **F** |TN | FP\n",
    "| **T** | FN | TP\n",
    "\n",
    "How well you predicted:\n",
    "$$\n",
    "    \\text{Precision} = \\frac{TP}{TP + FP}\n",
    "$$\n",
    "\n",
    "How *not* bad you missed:\n",
    "$$\n",
    "    \\text{Recall} = \\frac{TP}{TP + FN}\n",
    "$$\n",
    "\n",
    "The F1: Harmonic Mean\n",
    "$$\n",
    "    F_1 = \\frac{2}{\\frac{1}{\\text{Precision}} + \\frac{1}{\\text{Recall}}}\n",
    "$$"
   ]
  },
  {
   "cell_type": "code",
   "execution_count": 8,
   "metadata": {
    "collapsed": true
   },
   "outputs": [],
   "source": [
    "from sklearn.metrics import confusion_matrix, precision_score, recall_score, f1_score\n",
    "from sklearn.model_selection import cross_val_predict\n",
    "\n",
    "# Prediction over cross-validated data\n",
    "train_cv_pred = cross_val_predict(lr, train_x, train_y, cv=3)"
   ]
  },
  {
   "cell_type": "code",
   "execution_count": 9,
   "metadata": {},
   "outputs": [
    {
     "data": {
      "text/plain": [
       "array([[88, 12],\n",
       "       [10, 90]])"
      ]
     },
     "execution_count": 9,
     "metadata": {},
     "output_type": "execute_result"
    }
   ],
   "source": [
    "confusion_matrix(train_y, train_cv_pred, labels=[0,1])"
   ]
  },
  {
   "cell_type": "code",
   "execution_count": 10,
   "metadata": {},
   "outputs": [
    {
     "data": {
      "text/plain": [
       "0.88235294117647056"
      ]
     },
     "execution_count": 10,
     "metadata": {},
     "output_type": "execute_result"
    }
   ],
   "source": [
    "precision_score(train_y, train_cv_pred)"
   ]
  },
  {
   "cell_type": "code",
   "execution_count": 11,
   "metadata": {},
   "outputs": [
    {
     "data": {
      "text/plain": [
       "0.90000000000000002"
      ]
     },
     "execution_count": 11,
     "metadata": {},
     "output_type": "execute_result"
    }
   ],
   "source": [
    "recall_score(train_y, train_cv_pred)"
   ]
  },
  {
   "cell_type": "code",
   "execution_count": 12,
   "metadata": {},
   "outputs": [
    {
     "data": {
      "text/plain": [
       "0.8910891089108911"
      ]
     },
     "execution_count": 12,
     "metadata": {},
     "output_type": "execute_result"
    }
   ],
   "source": [
    "# Whereas the regular mean treats all values equally,\n",
    "# the harmonic mean gives much more weight to low values.\n",
    "f1_score(train_y, train_cv_pred)"
   ]
  },
  {
   "cell_type": "code",
   "execution_count": 13,
   "metadata": {},
   "outputs": [
    {
     "data": {
      "text/plain": [
       "0.89117647058823524"
      ]
     },
     "execution_count": 13,
     "metadata": {},
     "output_type": "execute_result"
    }
   ],
   "source": [
    "# Arithmetic Mean\n",
    "(precision_score(train_y, train_cv_pred) + recall_score(train_y, train_cv_pred)) / 2"
   ]
  },
  {
   "cell_type": "markdown",
   "metadata": {},
   "source": [
    "We did better at *not* missing 1's than we did being sure it was 1, i.e., the model decided it was better to predict more 1's that weren't, rather than leaning towards a prediction of 0."
   ]
  },
  {
   "cell_type": "code",
   "execution_count": 14,
   "metadata": {
    "collapsed": true
   },
   "outputs": [],
   "source": [
    "train_y_scores = cross_val_predict(lr, train_x, train_y, cv=3, method=\"decision_function\")"
   ]
  },
  {
   "cell_type": "code",
   "execution_count": 30,
   "metadata": {},
   "outputs": [
    {
     "data": {
      "image/png": "[encoded data removed]",
      "text/plain": [
       "<matplotlib.figure.Figure at 0x1a1b0cc2e8>"
      ]
     },
     "metadata": {},
     "output_type": "display_data"
    },
    {
     "data": {
      "image/png": "[encoded data removed]",
      "text/plain": [
       "<matplotlib.figure.Figure at 0x1a1b2ddf60>"
      ]
     },
     "metadata": {},
     "output_type": "display_data"
    }
   ],
   "source": [
    "from sklearn.metrics import precision_recall_curve\n",
    "def plot_precision_recall_curve(y, scores):\n",
    "    plt.title(\"Precision-Recall Curve\")\n",
    "    precision, recall, threshold = precision_recall_curve(y, scores)\n",
    "    plt.plot(threshold, precision[:-1], label=\"precision\", color=\"teal\")\n",
    "    plt.plot(threshold, recall[:-1], label=\"recall\", color=\"crimson\")\n",
    "    plt.xlabel(\"Threshold\")\n",
    "    plt.legend(loc=\"best\")\n",
    "    plt.show()\n",
    "    \n",
    "\n",
    "def plot_precision_vs_recall(y, scores):\n",
    "    plt.title(\"Precision v.s. Recall\")\n",
    "    precision, recall, _ = precision_recall_curve(y, scores)\n",
    "    plt.plot(precision, recall)\n",
    "    plt.xlabel(\"Precision\")\n",
    "    plt.ylabel(\"Recall\")\n",
    "    plt.show()\n",
    "    \n",
    "plot_precision_recall_curve(train_y, train_y_scores[:,1])\n",
    "plot_precision_vs_recall(train_y, train_y_scores[:,1])"
   ]
  },
  {
   "cell_type": "markdown",
   "metadata": {},
   "source": [
    "### The ROC curve\n",
    "*Receiver Operating Characteristic*\n",
    "\n",
    "Plots the True positive rate agains the false negative rate. We compute the ROC curve by shifting the thresholds."
   ]
  },
  {
   "cell_type": "code",
   "execution_count": 50,
   "metadata": {},
   "outputs": [
    {
     "data": {
      "image/png": "[encoded data removed]",
      "text/plain": [
       "<matplotlib.figure.Figure at 0x1a1b179438>"
      ]
     },
     "metadata": {},
     "output_type": "display_data"
    }
   ],
   "source": [
    "from sklearn.metrics import roc_curve\n",
    "# false positive rate, true positive rate, thresholds\n",
    "fpr, tpr, thresholds = roc_curve(train_y, train_y_scores[:,1])\n",
    "\n",
    "def plot_roc_curve(fpr, tpr, label=None):\n",
    "    plt.plot(fpr, tpr, linewidth=1, label=label)\n",
    "    plt.plot([0,1], [0,1], \"k--\")\n",
    "    plt.axis([-0.01, 1, -0.01, 1])\n",
    "    plt.xlabel(\"False Positive Rate\")\n",
    "    plt.ylabel(\"True Positive Rate\")\n",
    "    \n",
    "plot_roc_curve(fpr, tpr)\n",
    "plt.show()"
   ]
  },
  {
   "cell_type": "markdown",
   "metadata": {},
   "source": [
    "### Model on the test dataset"
   ]
  },
  {
   "cell_type": "code",
   "execution_count": 173,
   "metadata": {
    "collapsed": true
   },
   "outputs": [],
   "source": [
    "nsamp = 50\n",
    "test_x = np.r_[normal(loc=-0.8, size=(nsamp, 2)),\n",
    "             normal(loc=+0.8, size=(nsamp, 2)),]\n",
    "test_y = np.r_[np.zeros(nsamp), np.ones(nsamp)]\n",
    "\n",
    "test_x, test_y = shuffle_dataset(test_x, test_y)"
   ]
  },
  {
   "cell_type": "code",
   "execution_count": 183,
   "metadata": {},
   "outputs": [
    {
     "data": {
      "text/plain": [
       "0.8035714285714286"
      ]
     },
     "execution_count": 183,
     "metadata": {},
     "output_type": "execute_result"
    }
   ],
   "source": [
    "# Total precision on the test dataset\n",
    "test_predict = lr.predict(test_x)\n",
    "precision_score(test_y, test_predict)"
   ]
  },
  {
   "cell_type": "code",
   "execution_count": 38,
   "metadata": {},
   "outputs": [
    {
     "data": {
      "text/plain": [
       "0.95829999999999993"
      ]
     },
     "execution_count": 38,
     "metadata": {},
     "output_type": "execute_result"
    }
   ],
   "source": [
    "from sklearn.metrics import roc_auc_score\n",
    "roc_auc_score(train_y, train_y_scores[:,1])"
   ]
  },
  {
   "cell_type": "markdown",
   "metadata": {},
   "source": [
    "## Trying a different classifier "
   ]
  },
  {
   "cell_type": "code",
   "execution_count": 57,
   "metadata": {},
   "outputs": [
    {
     "data": {
      "image/png": "[encoded data removed]",
      "text/plain": [
       "<matplotlib.figure.Figure at 0x1a1b072a90>"
      ]
     },
     "metadata": {},
     "output_type": "display_data"
    }
   ],
   "source": [
    "from sklearn.ensemble import RandomForestClassifier\n",
    "forest_clf = RandomForestClassifier(random_state=42)\n",
    "train_cv_proba_forest = cross_val_predict(forest_clf, train_x, train_y, method=\"predict_proba\")\n",
    "y_score_forest = train_cv_proba_forest[:,1]\n",
    "fpr_forest, tpr_forest, thresholds = roc_curve(train_y, y_score_forest)\n",
    "\n",
    "plt.plot(fpr, tpr, label=\"Logistic\")\n",
    "plt.plot(fpr_forest, tpr_forest, label=\"Random Forest\")\n",
    "plt.legend()\n",
    "plt.show()"
   ]
  },
  {
   "cell_type": "code",
   "execution_count": 62,
   "metadata": {},
   "outputs": [
    {
     "data": {
      "text/plain": [
       "0.90854999999999997"
      ]
     },
     "execution_count": 62,
     "metadata": {},
     "output_type": "execute_result"
    }
   ],
   "source": [
    "# ROC integral for random forests\n",
    "roc_auc_score(train_y, train_cv_proba_forest[:,1])"
   ]
  },
  {
   "cell_type": "code",
   "execution_count": 63,
   "metadata": {},
   "outputs": [
    {
     "data": {
      "text/plain": [
       "0.95829999999999993"
      ]
     },
     "execution_count": 63,
     "metadata": {},
     "output_type": "execute_result"
    }
   ],
   "source": [
    "# ROC integral for logistic regression\n",
    "roc_auc_score(train_y, train_y_scores[:,1])"
   ]
  },
  {
   "cell_type": "code",
   "execution_count": 184,
   "metadata": {},
   "outputs": [
    {
     "data": {
      "image/png": "[encoded data removed]",
      "text/plain": [
       "<matplotlib.figure.Figure at 0x1a1d8f1f60>"
      ]
     },
     "metadata": {},
     "output_type": "display_data"
    }
   ],
   "source": [
    "plt.figure(figsize=(10,7))\n",
    "for row in np.c_[test_x, test_y, test_predict]:\n",
    "    x1, x2, trueval, predval = row\n",
    "    \n",
    "    marker = \"*\" if trueval == 1 else \"o\"\n",
    "    color = \"teal\" if trueval == predval else \"crimson\"\n",
    "    \n",
    "    plt.scatter(x1, x2, marker=marker, color=color)\n",
    "    plt.text(-0.8, -0.8, \"C1\", fontsize=20)\n",
    "    plt.text(0.8, 0.8, \"C2\", fontsize=20)\n",
    "\n",
    "plt.show()"
   ]
  }
 ],
 "metadata": {
  "kernelspec": {
   "display_name": "Python 3",
   "language": "python",
   "name": "python3"
  },
  "language_info": {
   "codemirror_mode": {
    "name": "ipython",
    "version": 3
   },
   "file_extension": ".py",
   "mimetype": "text/x-python",
   "name": "python",
   "nbconvert_exporter": "python",
   "pygments_lexer": "ipython3",
   "version": "3.6.2"
  }
 },
 "nbformat": 4,
 "nbformat_minor": 2
}
