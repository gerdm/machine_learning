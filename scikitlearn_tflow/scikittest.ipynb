{
 "cells": [
  {
   "cell_type": "markdown",
   "metadata": {},
   "source": [
    "# Scikit-Learn Basics"
   ]
  },
  {
   "cell_type": "code",
   "execution_count": 42,
   "metadata": {
    "collapsed": true
   },
   "outputs": [],
   "source": [
    "import numpy as np\n",
    "from numpy.random import normal, seed, shuffle\n",
    "import matplotlib.pyplot as plt"
   ]
  },
  {
   "cell_type": "code",
   "execution_count": 88,
   "metadata": {
    "collapsed": true
   },
   "outputs": [],
   "source": [
    "def shuffle_dataset(x, y):\n",
    "    _, cols = x.shape\n",
    "    dataset = np.c_[x, y]\n",
    "    shuffle(dataset)\n",
    "    xout, yout = dataset[:,:cols], dataset[:,cols]\n",
    "    return xout, yout"
   ]
  },
  {
   "cell_type": "code",
   "execution_count": 190,
   "metadata": {
    "collapsed": true
   },
   "outputs": [],
   "source": [
    "seed(42)\n",
    "X1 = normal(loc=-0.8, size=(100, 2))\n",
    "X2 = normal(loc=+0.8, size=(100, 2))\n",
    "\n",
    "train_x = np.r_[X1, X2]\n",
    "train_y = np.r_[np.zeros(100), np.ones(100)]\n",
    "train_x, train_y = shuffle_dataset(values, targets)"
   ]
  },
  {
   "cell_type": "code",
   "execution_count": 191,
   "metadata": {},
   "outputs": [
    {
     "data": {
      "image/png": "[encoded data removed]",
      "text/plain": [
       "<matplotlib.figure.Figure at 0x11059b4e0>"
      ]
     },
     "metadata": {},
     "output_type": "display_data"
    }
   ],
   "source": [
    "plt.scatter(*X1.T, color=\"teal\")\n",
    "plt.scatter(*X2.T, color=\"crimson\")\n",
    "plt.show()"
   ]
  },
  {
   "cell_type": "code",
   "execution_count": 193,
   "metadata": {},
   "outputs": [
    {
     "data": {
      "text/plain": [
       "LogisticRegression(C=1.0, class_weight=None, dual=False, fit_intercept=True,\n",
       "          intercept_scaling=1, max_iter=100, multi_class='ovr', n_jobs=1,\n",
       "          penalty='l2', random_state=None, solver='liblinear', tol=0.0001,\n",
       "          verbose=0, warm_start=False)"
      ]
     },
     "execution_count": 193,
     "metadata": {},
     "output_type": "execute_result"
    }
   ],
   "source": [
    "from sklearn.linear_model import LogisticRegression\n",
    "from sklearn.metrics import precision_score\n",
    "\n",
    "lr = LogisticRegression()\n",
    "lr.fit(values, targets)"
   ]
  },
  {
   "cell_type": "code",
   "execution_count": 195,
   "metadata": {},
   "outputs": [
    {
     "data": {
      "text/plain": [
       "0.88461538461538458"
      ]
     },
     "execution_count": 195,
     "metadata": {},
     "output_type": "execute_result"
    }
   ],
   "source": [
    "# Total precision on the training dataset\n",
    "precision_score(targets, lr.predict(values))"
   ]
  },
  {
   "cell_type": "markdown",
   "metadata": {},
   "source": [
    "** The Confusion Matrix**\n",
    "\n",
    "|   | F | T\n",
    "|---| --- | ---\n",
    "| **F** |TN | FP\n",
    "| **T** | FN | TP\n",
    "\n",
    "How well you predicted:\n",
    "$$\n",
    "    \\text{Precision} = \\frac{TP}{TP + FP}\n",
    "$$\n",
    "\n",
    "How *not* bad you missed:\n",
    "$$\n",
    "    \\text{Recall} = \\frac{TP}{TP + FN}\n",
    "$$\n",
    "\n",
    "The F1: Harmonic Mean\n",
    "$$\n",
    "    F_1 = \\frac{2}{\\frac{1}{\\text{Precision}} + \\frac{1}{\\text{Recall}}}\n",
    "$$"
   ]
  },
  {
   "cell_type": "code",
   "execution_count": 203,
   "metadata": {},
   "outputs": [],
   "source": [
    "from sklearn.metrics import confusion_matrix, precision_score, recall_score, f1_score\n",
    "from sklearn.model_selection import cross_val_predict\n",
    "\n",
    "# Prediction over cross-validated data\n",
    "train_cv_pred = cross_val_predict(lr, train_x, train_y, cv=3)"
   ]
  },
  {
   "cell_type": "code",
   "execution_count": 204,
   "metadata": {},
   "outputs": [
    {
     "data": {
      "text/plain": [
       "array([[88, 12],\n",
       "       [ 8, 92]])"
      ]
     },
     "execution_count": 204,
     "metadata": {},
     "output_type": "execute_result"
    }
   ],
   "source": [
    "confusion_matrix(train_y, train_cv_pred, labels=[0,1])"
   ]
  },
  {
   "cell_type": "code",
   "execution_count": 200,
   "metadata": {},
   "outputs": [
    {
     "data": {
      "text/plain": [
       "0.88461538461538458"
      ]
     },
     "execution_count": 200,
     "metadata": {},
     "output_type": "execute_result"
    }
   ],
   "source": [
    "precision_score(train_y, train_cv_pred)"
   ]
  },
  {
   "cell_type": "code",
   "execution_count": 201,
   "metadata": {},
   "outputs": [
    {
     "data": {
      "text/plain": [
       "0.92000000000000004"
      ]
     },
     "execution_count": 201,
     "metadata": {},
     "output_type": "execute_result"
    }
   ],
   "source": [
    "recall_score(train_y, train_cv_pred)"
   ]
  },
  {
   "cell_type": "code",
   "execution_count": 205,
   "metadata": {},
   "outputs": [
    {
     "data": {
      "text/plain": [
       "0.90196078431372562"
      ]
     },
     "execution_count": 205,
     "metadata": {},
     "output_type": "execute_result"
    }
   ],
   "source": [
    "# Whereas the regular mean treats all values equally,\n",
    "# the harmonic mean gives much more weight to low values.\n",
    "f1_score(train_y, train_cv_pred)"
   ]
  },
  {
   "cell_type": "code",
   "execution_count": 207,
   "metadata": {},
   "outputs": [
    {
     "data": {
      "text/plain": [
       "0.90230769230769226"
      ]
     },
     "execution_count": 207,
     "metadata": {},
     "output_type": "execute_result"
    }
   ],
   "source": [
    "# Arithmetic Mean\n",
    "(precision_score(train_y, train_cv_pred) + recall_score(train_y, train_cv_pred)) / 2"
   ]
  },
  {
   "cell_type": "markdown",
   "metadata": {},
   "source": [
    "We did better at *not* missing 1's than we did being sure it was 1, i.e., the model decided it was better to predict more 1's that weren't, rather than leaning towards a prediction of 0."
   ]
  },
  {
   "cell_type": "markdown",
   "metadata": {},
   "source": [
    "### Model on the test dataset"
   ]
  },
  {
   "cell_type": "code",
   "execution_count": 173,
   "metadata": {
    "collapsed": true
   },
   "outputs": [],
   "source": [
    "nsamp = 50\n",
    "test_x = np.r_[normal(loc=-0.8, size=(nsamp, 2)),\n",
    "             normal(loc=+0.8, size=(nsamp, 2)),]\n",
    "test_y = np.r_[np.zeros(nsamp), np.ones(nsamp)]\n",
    "\n",
    "test_x, test_y = shuffle_dataset(test_x, test_y)"
   ]
  },
  {
   "cell_type": "code",
   "execution_count": 183,
   "metadata": {},
   "outputs": [
    {
     "data": {
      "text/plain": [
       "0.8035714285714286"
      ]
     },
     "execution_count": 183,
     "metadata": {},
     "output_type": "execute_result"
    }
   ],
   "source": [
    "# Total precision on the test dataset\n",
    "test_predict = lr.predict(test_x)\n",
    "precision_score(test_y, test_predict)"
   ]
  },
  {
   "cell_type": "code",
   "execution_count": 184,
   "metadata": {},
   "outputs": [
    {
     "data": {
      "image/png": "[encoded data removed]",
      "text/plain": [
       "<matplotlib.figure.Figure at 0x1a1d8f1f60>"
      ]
     },
     "metadata": {},
     "output_type": "display_data"
    }
   ],
   "source": [
    "plt.figure(figsize=(10,7))\n",
    "for row in np.c_[test_x, test_y, test_predict]:\n",
    "    x1, x2, trueval, predval = row\n",
    "    \n",
    "    marker = \"*\" if trueval == 1 else \"o\"\n",
    "    color = \"teal\" if trueval == predval else \"crimson\"\n",
    "    \n",
    "    plt.scatter(x1, x2, marker=marker, color=color)\n",
    "    plt.text(-0.8, -0.8, \"C1\", fontsize=20)\n",
    "    plt.text(0.8, 0.8, \"C2\", fontsize=20)\n",
    "\n",
    "plt.show()"
   ]
  }
 ],
 "metadata": {
  "kernelspec": {
   "display_name": "Python 3",
   "language": "python",
   "name": "python3"
  },
  "language_info": {
   "codemirror_mode": {
    "name": "ipython",
    "version": 3
   },
   "file_extension": ".py",
   "mimetype": "text/x-python",
   "name": "python",
   "nbconvert_exporter": "python",
   "pygments_lexer": "ipython3",
   "version": "3.6.2"
  }
 },
 "nbformat": 4,
 "nbformat_minor": 2
}
