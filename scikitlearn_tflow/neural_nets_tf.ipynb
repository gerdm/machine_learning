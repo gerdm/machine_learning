{
 "cells": [
  {
   "cell_type": "markdown",
   "metadata": {},
   "source": [
    "# Neural Networks With TensorFlow\n",
    "## Stable implementation"
   ]
  },
  {
   "cell_type": "code",
   "execution_count": 1,
   "metadata": {},
   "outputs": [],
   "source": [
    "import tensorflow as tf\n",
    "import numpy as np\n",
    "from tensorflow import variance_scaling_initializer # He-initializer\n",
    "import matplotlib.pyplot as plt\n",
    "from jupyter_tf_graph import show_graph"
   ]
  },
  {
   "cell_type": "code",
   "execution_count": 2,
   "metadata": {},
   "outputs": [],
   "source": [
    "(X_train, y_train), (X_test, y_test) = tf.keras.datasets.mnist.load_data()\n",
    "\n",
    "X_train = X_train.reshape(-1, 28 * 28) / 255.0\n",
    "X_test = X_test.reshape(-1, 28 * 28) / 255.0"
   ]
  },
  {
   "cell_type": "code",
   "execution_count": 3,
   "metadata": {},
   "outputs": [
    {
     "data": {
      "image/png": "[encoded data removed]",
      "text/plain": [
       "<Figure size 720x504 with 6 Axes>"
      ]
     },
     "metadata": {},
     "output_type": "display_data"
    }
   ],
   "source": [
    "np.random.seed(1643)\n",
    "img_ixs = np.random.randint(0, X_train.shape[0], 6)\n",
    "fig = plt.figure(figsize=(10, 7))\n",
    "fig.suptitle(\"Sample MNIST images\")\n",
    "for ix, img_ixs in enumerate(img_ixs):\n",
    "    ax = fig.add_subplot(3, 2, ix + 1)\n",
    "    ax.imshow(X_train[ix].reshape(28, 28))"
   ]
  },
  {
   "cell_type": "markdown",
   "metadata": {},
   "source": [
    "## Training a Fully Connected Deep Neural Network\n",
    "### FFNN V.01\n",
    "Feed forward neural network with sigmoid activation function and Gradient Descent Optimizer"
   ]
  },
  {
   "cell_type": "code",
   "execution_count": 67,
   "metadata": {},
   "outputs": [],
   "source": [
    "tf.reset_default_graph()\n",
    "\n",
    "logs = \"./tf_logs/ffnn_v01\"\n",
    "\n",
    "n_inputs = 28 * 28\n",
    "n_hidden = 100\n",
    "n_outputs = 10\n",
    "\n",
    "X = tf.placeholder(tf.float32, shape=(None, n_inputs), name=\"X\")\n",
    "y = tf.placeholder(tf.int32, shape=None, name=\"y\")\n",
    "\n",
    "with tf.name_scope(\"dnn\"):\n",
    "    hidden1 = tf.layers.dense(X, n_hidden, activation=tf.nn.sigmoid, name=\"hidden1\")\n",
    "    hidden2 = tf.layers.dense(hidden1, n_hidden, activation=tf.nn.sigmoid, name=\"hidden2\")\n",
    "    hidden3 = tf.layers.dense(hidden2, n_hidden, activation=tf.nn.sigmoid, name=\"hidden3\")\n",
    "    hidden4 = tf.layers.dense(hidden3, n_hidden, activation=tf.nn.sigmoid, name=\"hidden4\")\n",
    "    hidden5 = tf.layers.dense(hidden4, n_hidden, activation=tf.nn.sigmoid, name=\"hidden5\")\n",
    "    outputs = tf.layers.dense(hidden5, n_outputs, name=\"outputs\")\n",
    "\n",
    "with tf.name_scope(\"loss\"):\n",
    "    xentropy = tf.nn.sparse_softmax_cross_entropy_with_logits(\n",
    "        labels=y,\n",
    "        logits=outputs\n",
    "    )\n",
    "    loss = tf.reduce_mean(xentropy, name=\"loss\")\n",
    "    \n",
    "\n",
    "alpha = 0.001\n",
    "with tf.name_scope(\"train\"):\n",
    "    optimizer = tf.train.GradientDescentOptimizer(alpha)\n",
    "    train_step = optimizer.minimize(loss)\n",
    "\n",
    "with tf.name_scope(\"metrics\"):\n",
    "    correct = tf.nn.in_top_k(outputs, y, 1)\n",
    "    accuracy = tf.reduce_mean(tf.cast(correct, tf.float32), name=\"accuracy\")\n",
    "    tb_train_writer = tf.summary.FileWriter(logs + \"/train\", tf.get_default_graph())\n",
    "    tb_cv_writer = tf.summary.FileWriter(logs + \"/cv\", tf.get_default_graph())\n",
    "    tb_accuracy = tf.summary.scalar(\"Accuracy\", accuracy)\n",
    "    \n",
    "init = tf.global_variables_initializer()"
   ]
  },
  {
   "cell_type": "code",
   "execution_count": 68,
   "metadata": {
    "scrolled": true
   },
   "outputs": [
    {
     "name": "stdout",
     "output_type": "stream",
     "text": [
      "@Epoch  00: Train Accuracy 009.87% | Test Accuracy 009.80%\n",
      "@Epoch  40: Train Accuracy 009.87% | Test Accuracy 009.80%\n",
      "@Epoch  80: Train Accuracy 009.87% | Test Accuracy 009.80%\n",
      "@Epoch  120: Train Accuracy 009.87% | Test Accuracy 009.80%\n",
      "@Epoch  160: Train Accuracy 009.87% | Test Accuracy 009.80%\n",
      "@Epoch  200: Train Accuracy 009.87% | Test Accuracy 009.80%\n",
      "@Epoch  240: Train Accuracy 009.87% | Test Accuracy 009.80%\n",
      "@Epoch  280: Train Accuracy 011.24% | Test Accuracy 011.35%\n",
      "@Epoch  320: Train Accuracy 011.24% | Test Accuracy 011.35%\n",
      "@Epoch  360: Train Accuracy 011.24% | Test Accuracy 011.35%\n",
      "CPU times: user 24min 36s, sys: 4min 15s, total: 28min 51s%\n",
      "Wall time: 6min 50s\n"
     ]
    }
   ],
   "source": [
    "%%time\n",
    "epochs = 400\n",
    "with tf.Session() as sess:\n",
    "    sess.run(init)\n",
    "    for epoch in range(epochs):\n",
    "        sess.run(train_step, feed_dict={X: X_train, y: y_train})\n",
    "        acc, tb_acc = sess.run([accuracy, tb_accuracy], feed_dict={X: X_train, y: y_train})\n",
    "        cvacc, tb_cvacc = sess.run([accuracy, tb_accuracy], feed_dict={X: X_test, y: y_test})\n",
    "        tb_train_writer.add_summary(tb_acc, epoch)\n",
    "        tb_cv_writer.add_summary(tb_cvacc, epoch)\n",
    "        \n",
    "        end = \"\\n\" if epoch % 40 == 0 else \"\\r\"\n",
    "        print(f\"@Epoch {epoch: 03}: Train Accuracy {acc:07.2%} | Test Accuracy {cvacc:07.2%}\",\n",
    "              end=end)"
   ]
  },
  {
   "cell_type": "markdown",
   "metadata": {},
   "source": [
    "----\n",
    "### FFNN V.02\n",
    "Feed forward neural network with elu activation function and Gradient Descent Optimizer"
   ]
  },
  {
   "cell_type": "code",
   "execution_count": 69,
   "metadata": {},
   "outputs": [],
   "source": [
    "tf.reset_default_graph()\n",
    "\n",
    "logs = \"./tf_logs/ffnn_v02\"\n",
    "\n",
    "n_inputs = 28 * 28\n",
    "n_hidden = 100\n",
    "n_outputs = 10\n",
    "\n",
    "X = tf.placeholder(tf.float32, shape=(None, n_inputs), name=\"X\")\n",
    "y = tf.placeholder(tf.int32, shape=None, name=\"y\")\n",
    "\n",
    "with tf.name_scope(\"dnn\"):\n",
    "    hidden1 = tf.layers.dense(X, n_hidden, activation=tf.nn.elu, name=\"hidden1\")\n",
    "    hidden2 = tf.layers.dense(hidden1, n_hidden, activation=tf.nn.elu, name=\"hidden2\")\n",
    "    hidden3 = tf.layers.dense(hidden2, n_hidden, activation=tf.nn.elu, name=\"hidden3\")\n",
    "    hidden4 = tf.layers.dense(hidden3, n_hidden, activation=tf.nn.elu, name=\"hidden4\")\n",
    "    hidden5 = tf.layers.dense(hidden4, n_hidden, activation=tf.nn.elu, name=\"hidden5\")\n",
    "    outputs = tf.layers.dense(hidden5, n_outputs, name=\"outputs\")\n",
    "\n",
    "with tf.name_scope(\"loss\"):\n",
    "    xentropy = tf.nn.sparse_softmax_cross_entropy_with_logits(\n",
    "        labels=y,\n",
    "        logits=outputs\n",
    "    )\n",
    "    loss = tf.reduce_mean(xentropy, name=\"loss\")\n",
    "    \n",
    "\n",
    "alpha = 0.001\n",
    "with tf.name_scope(\"train\"):\n",
    "    optimizer = tf.train.GradientDescentOptimizer(alpha)\n",
    "    train_step = optimizer.minimize(loss)\n",
    "\n",
    "with tf.name_scope(\"metrics\"):\n",
    "    correct = tf.nn.in_top_k(outputs, y, 1)\n",
    "    accuracy = tf.reduce_mean(tf.cast(correct, tf.float32), name=\"accuracy\")\n",
    "    tb_train_writer = tf.summary.FileWriter(logs + \"/train\", tf.get_default_graph())\n",
    "    tb_cv_writer = tf.summary.FileWriter(logs + \"/cv\", tf.get_default_graph())\n",
    "    tb_accuracy = tf.summary.scalar(\"Accuracy\", accuracy)\n",
    "    \n",
    "init = tf.global_variables_initializer()"
   ]
  },
  {
   "cell_type": "code",
   "execution_count": 70,
   "metadata": {},
   "outputs": [
    {
     "name": "stdout",
     "output_type": "stream",
     "text": [
      "@Epoch  00: Train Accuracy 006.13% | Test Accuracy 006.11%\n",
      "@Epoch  40: Train Accuracy 009.70% | Test Accuracy 009.56%\n",
      "@Epoch  80: Train Accuracy 014.78% | Test Accuracy 014.49%\n",
      "@Epoch  120: Train Accuracy 021.02% | Test Accuracy 021.13%\n",
      "@Epoch  160: Train Accuracy 027.68% | Test Accuracy 028.32%\n",
      "@Epoch  200: Train Accuracy 033.88% | Test Accuracy 034.71%\n",
      "@Epoch  240: Train Accuracy 039.29% | Test Accuracy 040.41%\n",
      "@Epoch  280: Train Accuracy 043.42% | Test Accuracy 044.78%\n",
      "@Epoch  320: Train Accuracy 047.05% | Test Accuracy 048.85%\n",
      "@Epoch  360: Train Accuracy 050.14% | Test Accuracy 051.77%\n",
      "CPU times: user 26min 10s, sys: 4min 11s, total: 30min 22s%\n",
      "Wall time: 6min 56s\n"
     ]
    }
   ],
   "source": [
    "%%time\n",
    "epochs = 400\n",
    "with tf.Session() as sess:\n",
    "    sess.run(init)\n",
    "    for epoch in range(epochs):\n",
    "        sess.run(train_step, feed_dict={X: X_train, y: y_train})\n",
    "        acc, tb_acc = sess.run([accuracy, tb_accuracy], feed_dict={X: X_train, y: y_train})\n",
    "        cvacc, tb_cvacc = sess.run([accuracy, tb_accuracy], feed_dict={X: X_test, y: y_test})\n",
    "        tb_train_writer.add_summary(tb_acc, epoch)\n",
    "        tb_cv_writer.add_summary(tb_cvacc, epoch)\n",
    "        \n",
    "        end = \"\\n\" if epoch % 40 == 0 else \"\\r\"\n",
    "        print(f\"@Epoch {epoch: 03}: Train Accuracy {acc:07.2%} | Test Accuracy {cvacc:07.2%}\",\n",
    "              end=end)"
   ]
  },
  {
   "cell_type": "markdown",
   "metadata": {},
   "source": [
    "----\n",
    "### FFNN V.03\n",
    "Feed forward neural network with elu activation function and ADAM Optimizer"
   ]
  },
  {
   "cell_type": "code",
   "execution_count": 71,
   "metadata": {},
   "outputs": [],
   "source": [
    "tf.reset_default_graph()\n",
    "\n",
    "logs = \"./tf_logs/ffnn_v03\"\n",
    "\n",
    "n_inputs = 28 * 28\n",
    "n_hidden = 100\n",
    "n_outputs = 10\n",
    "\n",
    "X = tf.placeholder(tf.float32, shape=(None, n_inputs), name=\"X\")\n",
    "y = tf.placeholder(tf.int32, shape=None, name=\"y\")\n",
    "\n",
    "with tf.name_scope(\"dnn\"):\n",
    "    hidden1 = tf.layers.dense(X, n_hidden, activation=tf.nn.elu, name=\"hidden1\")\n",
    "    hidden2 = tf.layers.dense(hidden1, n_hidden, activation=tf.nn.elu, name=\"hidden2\")\n",
    "    hidden3 = tf.layers.dense(hidden2, n_hidden, activation=tf.nn.elu, name=\"hidden3\")\n",
    "    hidden4 = tf.layers.dense(hidden3, n_hidden, activation=tf.nn.elu, name=\"hidden4\")\n",
    "    hidden5 = tf.layers.dense(hidden4, n_hidden, activation=tf.nn.elu, name=\"hidden5\")\n",
    "    outputs = tf.layers.dense(hidden5, n_outputs, name=\"outputs\")\n",
    "\n",
    "with tf.name_scope(\"loss\"):\n",
    "    xentropy = tf.nn.sparse_softmax_cross_entropy_with_logits(\n",
    "        labels=y,\n",
    "        logits=outputs\n",
    "    )\n",
    "    loss = tf.reduce_mean(xentropy, name=\"loss\")\n",
    "    \n",
    "\n",
    "alpha = 0.001\n",
    "with tf.name_scope(\"train\"):\n",
    "    optimizer = tf.train.AdamOptimizer(alpha)\n",
    "    train_step = optimizer.minimize(loss)\n",
    "\n",
    "with tf.name_scope(\"metrics\"):\n",
    "    correct = tf.nn.in_top_k(outputs, y, 1)\n",
    "    accuracy = tf.reduce_mean(tf.cast(correct, tf.float32), name=\"accuracy\")\n",
    "    tb_train_writer = tf.summary.FileWriter(logs + \"/train\", tf.get_default_graph())\n",
    "    tb_cv_writer = tf.summary.FileWriter(logs + \"/cv\", tf.get_default_graph())\n",
    "    tb_accuracy = tf.summary.scalar(\"Accuracy\", accuracy)\n",
    "    \n",
    "init = tf.global_variables_initializer()"
   ]
  },
  {
   "cell_type": "code",
   "execution_count": 72,
   "metadata": {},
   "outputs": [
    {
     "name": "stdout",
     "output_type": "stream",
     "text": [
      "@Epoch  00: Train Accuracy 025.93% | Test Accuracy 026.65%\n",
      "@Epoch  40: Train Accuracy 091.63% | Test Accuracy 091.74%\n",
      "@Epoch  80: Train Accuracy 094.57% | Test Accuracy 094.37%\n",
      "@Epoch  120: Train Accuracy 096.32% | Test Accuracy 095.71%\n",
      "@Epoch  160: Train Accuracy 097.35% | Test Accuracy 096.45%\n",
      "@Epoch  200: Train Accuracy 098.10% | Test Accuracy 096.92%\n",
      "@Epoch  240: Train Accuracy 098.75% | Test Accuracy 097.19%\n",
      "@Epoch  280: Train Accuracy 098.96% | Test Accuracy 097.31%\n",
      "@Epoch  320: Train Accuracy 099.46% | Test Accuracy 097.39%\n",
      "@Epoch  360: Train Accuracy 099.69% | Test Accuracy 097.42%\n",
      "CPU times: user 26min 11s, sys: 4min 17s, total: 30min 28s%\n",
      "Wall time: 7min 14s\n"
     ]
    }
   ],
   "source": [
    "%%time\n",
    "epochs = 400\n",
    "with tf.Session() as sess:\n",
    "    sess.run(init)\n",
    "    for epoch in range(epochs):\n",
    "        sess.run(train_step, feed_dict={X: X_train, y: y_train})\n",
    "        acc, tb_acc = sess.run([accuracy, tb_accuracy],\n",
    "                               feed_dict={X: X_train, y: y_train})\n",
    "        cvacc, tb_cvacc = sess.run([accuracy, tb_accuracy],\n",
    "                                   feed_dict={X: X_test, y: y_test})\n",
    "        tb_train_writer.add_summary(tb_acc, epoch)\n",
    "        tb_cv_writer.add_summary(tb_cvacc, epoch)\n",
    "        \n",
    "        end = \"\\n\" if epoch % 40 == 0 else \"\\r\"\n",
    "        print(f\"@Epoch {epoch: 03}: Train Accuracy {acc:07.2%} | Test Accuracy {cvacc:07.2%}\",\n",
    "              end=end)"
   ]
  },
  {
   "cell_type": "markdown",
   "metadata": {},
   "source": [
    "----\n",
    "### FFNN V.04\n",
    "Feed forward neural network with elu activation function, ADAM Optimizer and Batch Norm"
   ]
  },
  {
   "cell_type": "code",
   "execution_count": 88,
   "metadata": {},
   "outputs": [],
   "source": [
    "tf.reset_default_graph()\n",
    "\n",
    "logs = \"./tf_logs/ffnn_v04/\"\n",
    "\n",
    "n_inputs = 28 * 28\n",
    "n_hidden = 100\n",
    "n_outputs = 10\n",
    "\n",
    "X = tf.placeholder(tf.float32, shape=(None, n_inputs), name=\"X\")\n",
    "y = tf.placeholder(tf.int32, shape=(None), name=\"y\")\n",
    "training = tf.placeholder_with_default(False, shape=(), name=\"training\")\n",
    "\n",
    "eta = 0.9\n",
    "with tf.name_scope(\"dnn\"):\n",
    "    z1 = tf.layers.dense(X, n_hidden, name=\"z1\")\n",
    "    z1_bn = tf.layers.batch_normalization(z1, training=training, momentum=eta)\n",
    "    a1 = tf.nn.elu(z1_bn)\n",
    "    \n",
    "    z2 = tf.layers.dense(a1, n_hidden, name=\"z2\")\n",
    "    z2_bn = tf.layers.batch_normalization(z2, training=training, momentum=eta)\n",
    "    a2 = tf.nn.elu(z2_bn)\n",
    "    \n",
    "    z3 = tf.layers.dense(a2, n_hidden, name=\"z3\")\n",
    "    z3_bn = tf.layers.batch_normalization(z3, training=training, momentum=eta)\n",
    "    a3 = tf.nn.elu(z3_bn)\n",
    "    \n",
    "    z4 = tf.layers.dense(a3, n_hidden, name=\"z4\")\n",
    "    z4_bn = tf.layers.batch_normalization(z4, training=training, momentum=eta)\n",
    "    a4 = tf.nn.elu(z4)\n",
    "    \n",
    "    z5 = tf.layers.dense(a4, n_hidden, name=\"z5\")\n",
    "    z5_bn = tf.layers.batch_normalization(z5, training=training, momentum=eta)\n",
    "    a5 = tf.nn.elu(z5_bn)\n",
    "    \n",
    "    output = tf.layers.dense(a5, n_hidden, name=\"output\")\n",
    "\n",
    "\n",
    "with tf.name_scope(\"loss\"):\n",
    "    xentropy = tf.nn.sparse_softmax_cross_entropy_with_logits(\n",
    "        labels=y,\n",
    "        logits=output\n",
    "    )\n",
    "    loss = tf.reduce_mean(xentropy, name=\"loss\")\n",
    "\n",
    "    \n",
    "alpha = 0.001\n",
    "with tf.name_scope(\"train\"):\n",
    "    optimizer = tf.train.AdamOptimizer(alpha)\n",
    "    train_step = optimizer.minimize(loss)\n",
    "\n",
    "    \n",
    "with tf.name_scope(\"metrics\"):\n",
    "    correct = tf.nn.in_top_k(output, y, 1)\n",
    "    accuracy = tf.reduce_mean(tf.cast(correct, tf.float32), name=\"accuracy\")\n",
    "    tb_train_writer = tf.summary.FileWriter(logs + \"/train\", tf.get_default_graph())\n",
    "    tb_cv_writer = tf.summary.FileWriter(logs + \"/cv\", tf.get_default_graph())\n",
    "    tb_accuracy = tf.summary.scalar(\"Accuracy\", accuracy)\n",
    "\n",
    "init = tf.global_variables_initializer()"
   ]
  },
  {
   "cell_type": "code",
   "execution_count": 89,
   "metadata": {},
   "outputs": [
    {
     "name": "stdout",
     "output_type": "stream",
     "text": [
      "@Epoch  00: Train Accuracy 005.91% | Test Accuracy 005.43%\n",
      "@Epoch  40: Train Accuracy 091.78% | Test Accuracy 092.06%\n",
      "@Epoch  80: Train Accuracy 095.16% | Test Accuracy 094.87%\n",
      "@Epoch  120: Train Accuracy 096.90% | Test Accuracy 096.05%\n",
      "@Epoch  160: Train Accuracy 097.95% | Test Accuracy 096.75%\n",
      "@Epoch  200: Train Accuracy 098.79% | Test Accuracy 097.07%\n",
      "@Epoch  240: Train Accuracy 099.32% | Test Accuracy 097.29%\n",
      "@Epoch  280: Train Accuracy 099.68% | Test Accuracy 097.37%\n",
      "@Epoch  320: Train Accuracy 099.87% | Test Accuracy 097.45%\n",
      "@Epoch  360: Train Accuracy 099.95% | Test Accuracy 097.43%\n",
      "CPU times: user 47min 35s, sys: 6min 25s, total: 54min7.43%\n",
      "Wall time: 10min 52s\n"
     ]
    }
   ],
   "source": [
    "%%time\n",
    "\n",
    "# Operations to compute the mean and standard deviation of the minibatch\n",
    "extra_update_ops = tf.get_collection(tf.GraphKeys.UPDATE_OPS)\n",
    "epochs = 400\n",
    "with tf.Session() as sess:\n",
    "    sess.run(init)\n",
    "    for epoch in range(epochs):\n",
    "        sess.run([train_step, extra_update_ops], feed_dict={training: True, X: X_train, y: y_train})\n",
    "        acc, tb_acc = sess.run([accuracy, tb_accuracy],\n",
    "                               feed_dict={X: X_train, y: y_train})\n",
    "        cvacc, tb_cvacc = sess.run([accuracy, tb_accuracy],\n",
    "                                    feed_dict={X: X_test, y: y_test})\n",
    "        \n",
    "        tb_train_writer.add_summary(tb_acc, epoch)\n",
    "        tb_cv_writer.add_summary(tb_cvacc, epoch)\n",
    "        \n",
    "        end = \"\\n\" if epoch % 40 == 0 else \"\\r\"\n",
    "        print(f\"@Epoch {epoch:03}: Train Accuracy {acc:07.2%} | Test Accuracy {cvacc:07.2%}\",\n",
    "              end=end)"
   ]
  },
  {
   "cell_type": "markdown",
   "metadata": {},
   "source": [
    "## Feed Forward Neural Network Version Comparison\n",
    "![FFNNs Comparisson](./images/ffnn_vs.png)"
   ]
  },
  {
   "cell_type": "markdown",
   "metadata": {},
   "source": [
    "----\n",
    "----\n",
    "# Storing and Reusing TF Models"
   ]
  },
  {
   "cell_type": "code",
   "execution_count": 4,
   "metadata": {},
   "outputs": [
    {
     "data": {
      "text/plain": [
       "8"
      ]
     },
     "execution_count": 4,
     "metadata": {},
     "output_type": "execute_result"
    }
   ],
   "source": [
    "from functools import partial\n",
    "\n",
    "def a_plus_b(a, b): return a + b\n",
    "a_plus_3 = partial(a_plus_b, b=3)\n",
    "a_plus_3(5)"
   ]
  },
  {
   "cell_type": "markdown",
   "metadata": {},
   "source": [
    "## 1) Building and Storing the model"
   ]
  },
  {
   "cell_type": "code",
   "execution_count": 30,
   "metadata": {},
   "outputs": [],
   "source": [
    "tf.reset_default_graph()\n",
    "\n",
    "logs = \"./tf_logs/ffnn_v05/\"\n",
    "\n",
    "n_inputs = 28 * 28\n",
    "n_hidden = 100\n",
    "n_output = 10\n",
    "\n",
    "X = tf.placeholder(tf.float32, shape=(None, n_inputs), name=\"X\")\n",
    "y = tf.placeholder(tf.int32, shape=None, name=\"y\")\n",
    "\n",
    "training = tf.placeholder_with_default(False, shape=(), name=\"training_bool\")\n",
    "\n",
    "eta = 0.9\n",
    "batch_norm = partial(tf.layers.batch_normalization,\n",
    "                     momentum=eta, training=training)\n",
    "\n",
    "def hidden_layer(inputs, units, hi, activation=tf.nn.elu):\n",
    "    \"\"\"\n",
    "    Create the hidden layer of a feed forward neural\n",
    "    network with batch norm.\n",
    "    \"\"\"\n",
    "    zi = tf.layers.dense(inputs, units, name=f\"z{hi}\")\n",
    "    zi_bn = batch_norm(zi, name=f\"z_bn{hi}\")\n",
    "    ai = activation(zi_bn, name=f\"a{hi}\")\n",
    "    \n",
    "    return ai\n",
    "\n",
    "\n",
    "with tf.name_scope(\"dnn\"):\n",
    "    hidden = hidden_layer(X, n_hidden, 1)\n",
    "    # Creating 5 ELU layers\n",
    "    for h_ix in range(2, 6):\n",
    "        hidden = hidden_layer(hidden, n_hidden, h_ix)\n",
    "    output = tf.layers.dense(hidden, n_output, name=\"output\")\n",
    "    \n",
    "\n",
    "with tf.name_scope(\"loss\"):\n",
    "    xentropy = tf.nn.sparse_softmax_cross_entropy_with_logits(\n",
    "        labels=y,\n",
    "        logits=output\n",
    "    )\n",
    "    loss = tf.reduce_mean(xentropy, name=\"loss\")\n",
    "\n",
    "    \n",
    "alpha = 0.005\n",
    "with tf.name_scope(\"train\"):\n",
    "    optimizer = tf.train.AdamOptimizer(alpha)\n",
    "    train_step = optimizer.minimize(loss, name=\"train_step\")\n",
    "\n",
    "\n",
    "with tf.name_scope(\"metrics\"):\n",
    "    correct = tf.nn.in_top_k(output, y, 1)\n",
    "    accuracy = tf.reduce_mean(tf.cast(correct, tf.float32), name=\"accuracy\")\n",
    "    tb_train_writer = tf.summary.FileWriter(logs + \"/train\", tf.get_default_graph())\n",
    "    tb_cv_writer = tf.summary.FileWriter(logs + \"/cv\", tf.get_default_graph())\n",
    "    tb_acc = tf.summary.scalar(\"Accuracy\", accuracy)\n",
    "    \n",
    "init = tf.global_variables_initializer()\n",
    "saver = tf.train.Saver()"
   ]
  },
  {
   "cell_type": "code",
   "execution_count": 31,
   "metadata": {},
   "outputs": [
    {
     "name": "stdout",
     "output_type": "stream",
     "text": [
      "@Epoch 000: Train Accuracy 043.06% | Test Accuracy 043.12%\n",
      "@Epoch 040: Train Accuracy 096.41% | Test Accuracy 095.82%\n",
      "@Epoch 080: Train Accuracy 098.79% | Test Accuracy 097.35%\n",
      "@Epoch 120: Train Accuracy 098.74% | Test Accuracy 097.15%\n",
      "@Epoch 160: Train Accuracy 099.95% | Test Accuracy 097.65%\n",
      "@Epoch 200: Train Accuracy 100.00% | Test Accuracy 097.68%\n",
      "@Epoch 240: Train Accuracy 100.00% | Test Accuracy 097.77%\n",
      "@Epoch 280: Train Accuracy 100.00% | Test Accuracy 097.81%\n",
      "@Epoch 320: Train Accuracy 100.00% | Test Accuracy 097.84%\n",
      "@Epoch 360: Train Accuracy 100.00% | Test Accuracy 097.85%\n",
      "@Epoch 399: Train Accuracy 100.00% | Test Accuracy 097.84%\r"
     ]
    }
   ],
   "source": [
    "# Operations to compute the running mean and variance.\n",
    "# ----------------------------------------------------\n",
    "# In general, *tf.GraphKeys*, is a collection of names\n",
    "# to collect and retrieve values associated with a graph\n",
    "extra_ops = tf.get_collection(tf.GraphKeys.UPDATE_OPS)\n",
    "model_path = \"tfmodels/ffnn_v05.ckpt\"\n",
    "epochs = 400\n",
    "with tf.Session() as sess:\n",
    "    sess.run(init)\n",
    "    for epoch in range(epochs):\n",
    "        sess.run([train_step, extra_ops], feed_dict={X: X_train, y: y_train,\n",
    "                                                     training: True})\n",
    "        acc, bn_train_acc = sess.run([accuracy, tb_acc], feed_dict={X: X_train, y:y_train})\n",
    "        cvacc, bn_cv_acc = sess.run([accuracy, tb_acc], feed_dict={X: X_test, y:y_test})\n",
    "        tb_train_writer.add_summary(bn_train_acc, epoch)\n",
    "        tb_cv_writer.add_summary(bn_cv_acc, epoch)\n",
    "        end = \"\\n\" if epoch % 40 == 0 else \"\\r\"\n",
    "        print(f\"@Epoch {epoch:03}: Train Accuracy {acc:07.2%} | Test Accuracy {cvacc:07.2%}\",\n",
    "              end=end)\n",
    "    saver.save(sess, model_path)"
   ]
  },
  {
   "cell_type": "markdown",
   "metadata": {},
   "source": [
    "## 2) Restoring the model"
   ]
  },
  {
   "cell_type": "code",
   "execution_count": 32,
   "metadata": {},
   "outputs": [
    {
     "name": "stdout",
     "output_type": "stream",
     "text": [
      "INFO:tensorflow:Restoring parameters from ./tfmodels/ffnn_v05.ckpt\n",
      "@Epoch 000: Train Accuracy 100.00% | Test Accuracy 097.84%\n",
      "@Epoch 010: Train Accuracy 100.00% | Test Accuracy 097.84%\n",
      "@Epoch 020: Train Accuracy 100.00% | Test Accuracy 097.83%\n",
      "@Epoch 030: Train Accuracy 100.00% | Test Accuracy 097.83%\n",
      "@Epoch 039: Train Accuracy 100.00% | Test Accuracy 097.85%\r"
     ]
    }
   ],
   "source": [
    "tf.reset_default_graph()\n",
    "\n",
    "model = tf.train.import_meta_graph(\"./tfmodels/ffnn_v05.ckpt.meta\")\n",
    "new_model = tf.train.Saver()\n",
    "new_model_path = \"./tfmodels/ffnn_v05_1.ckpt\"\n",
    "\n",
    "X = tf.get_default_graph().get_tensor_by_name(\"X:0\")\n",
    "y = tf.get_default_graph().get_tensor_by_name(\"y:0\")\n",
    "training = tf.get_default_graph().get_tensor_by_name(\"training_bool:0\")\n",
    "accuracy = tf.get_default_graph().get_tensor_by_name(\"metrics/accuracy:0\")\n",
    "train_step = tf.get_default_graph().get_operation_by_name(\"train/train_step\")\n",
    "\n",
    "init = tf.global_variables_initializer()\n",
    "bn_ops = tf.get_collection(tf.GraphKeys.UPDATE_OPS)\n",
    "epochs = 40\n",
    "with tf.Session() as sess:\n",
    "    sess.run(init)\n",
    "    model.restore(sess, \"./tfmodels/ffnn_v05.ckpt\")\n",
    "    for epoch in range(epochs):\n",
    "        sess.run([train_step, bn_ops], feed_dict={X: X_train, y: y_train,\n",
    "                                                  training: True})\n",
    "        acc = sess.run(accuracy, feed_dict={X: X_train, y: y_train})\n",
    "        cvacc = sess.run(accuracy, feed_dict={X: X_test, y: y_test})\n",
    "        end = \"\\n\" if epoch % 10 == 0 else \"\\r\"\n",
    "        print(f\"@Epoch {epoch:03}: Train Accuracy {acc:07.2%} | Test Accuracy {cvacc:07.2%}\",\n",
    "              end=end)\n",
    "    new_model.save(sess, new_model_path)"
   ]
  },
  {
   "cell_type": "markdown",
   "metadata": {},
   "source": [
    "----\n",
    "----\n",
    "# Transfer Learning"
   ]
  },
  {
   "cell_type": "code",
   "execution_count": 25,
   "metadata": {},
   "outputs": [],
   "source": [
    "from numpy.random import choice, seed\n",
    "from functools import partial\n",
    "from math import ceil"
   ]
  },
  {
   "cell_type": "code",
   "execution_count": 54,
   "metadata": {},
   "outputs": [],
   "source": [
    "map_train_0_4 = y_train < 5\n",
    "y_0_4_train = y_train[map_train_0_4] \n",
    "X_0_4_train = X_train[map_train_0_4,:]\n",
    "\n",
    "map_test_0_4 = y_test < 5\n",
    "y_0_4_test = y_test[map_test_0_4]\n",
    "X_0_4_test = X_test[map_test_0_4, :]"
   ]
  },
  {
   "cell_type": "markdown",
   "metadata": {},
   "source": [
    "### Deep Learning V.01\n",
    "We being by training a feed-forward neural network with 5 hidden layers, elu activation function and he initializiation. In order to train this NNet, we consider Adam optimization and early stopping.\n",
    "\n",
    "For educational purposes, we will consider the test-set as the validation set. Early stopping will kick in once the accuracy on the validation (test) set at epoch $t$ drops below the accuracy at epoch $t-1$."
   ]
  },
  {
   "cell_type": "code",
   "execution_count": 134,
   "metadata": {},
   "outputs": [],
   "source": [
    "tf.reset_default_graph()\n",
    "logs = \"./tf_logs/transfer/ffnn_0_4\"\n",
    "\n",
    "n_inputs = 28 * 28\n",
    "n_hidden = 100\n",
    "n_output = 5\n",
    "\n",
    "X = tf.placeholder(tf.float32, shape=(None, n_inputs), name=\"X\")\n",
    "y = tf.placeholder(tf.int32, shape=(None), name=\"y\")\n",
    "he_init = variance_scaling_initializer()\n",
    "\n",
    "hidden_layer = partial(tf.layers.dense, units=n_hidden,\n",
    "                       activation=tf.nn.elu,\n",
    "                       kernel_initializer=he_init)\n",
    "\n",
    "with tf.name_scope(\"DNN\"):\n",
    "    for hi in range(1, 6):\n",
    "        if hi == 1:\n",
    "            hidden = hidden_layer(inputs=X, name=f\"hidden_{hi}\")\n",
    "        else:\n",
    "            hidden = hidden_layer(inputs=hidden, name=f\"hidden_{hi}\")\n",
    "\n",
    "    output = hidden_layer(inputs=hidden, units=n_output,\n",
    "                          activation=None, name=\"output\")\n",
    "\n",
    "with tf.name_scope(\"loss\"):\n",
    "    xentropy = tf.nn.sparse_softmax_cross_entropy_with_logits(\n",
    "        labels=y,\n",
    "        logits=output)\n",
    "    loss = tf.reduce_mean(xentropy, name=\"loss\")\n",
    "\n",
    "\n",
    "alpha = 0.01\n",
    "with tf.name_scope(\"train\"):\n",
    "    optimizer = tf.train.AdamOptimizer(alpha)\n",
    "    train_step = optimizer.minimize(loss, name=\"train_step\")\n",
    "\n",
    "\n",
    "with tf.name_scope(\"metrics\"):\n",
    "    correct = tf.nn.in_top_k(output, y, 1)\n",
    "    accuracy = tf.reduce_mean(tf.cast(correct, tf.float32), name=\"accuracy\")\n",
    "    ### Writer Configuration ###\n",
    "    writer_train = tf.summary.FileWriter(logs + \"/train\", tf.get_default_graph())\n",
    "    writer_test = tf.summary.FileWriter(logs + \"/test\", tf.get_default_graph())\n",
    "    writer_accuracy = tf.summary.scalar(\"Accuracy\", accuracy)\n",
    "\n",
    "init = tf.global_variables_initializer()\n",
    "model_saver = tf.train.Saver()"
   ]
  },
  {
   "cell_type": "code",
   "execution_count": 135,
   "metadata": {},
   "outputs": [
    {
     "name": "stdout",
     "output_type": "stream",
     "text": [
      "At epoch @000, Train Acc: 059.83% | Test Acc: 060.54% | ∆%: 100.0000% | Test loss: 104.697% |\n",
      "At epoch @040, Train Acc: 097.60% | Test Acc: 098.02% | ∆%: 001.9482% | Test loss: 006.743% | Stag: *\n",
      "At epoch @118, Train Acc: 099.70% | Test Acc: 098.87% | ∆%: 001.6510% | Test loss: 004.014% | Stag: ******\n",
      "At epoch @119, Train Acc: 099.71% | Test Acc: 098.89% | ∆%: 001.8362% | Test loss: 004.021% | Stag: ******\n",
      "At epoch @120, Train Acc: 099.73% | Test Acc: 098.91% | ∆%: 002.3964% | Test loss: 004.044% | Stag: *******\n",
      "At epoch @121, Train Acc: 099.72% | Test Acc: 098.89% | ∆%: 002.7260% | Test loss: 004.057% | Stag: *******\n",
      "At epoch @122, Train Acc: 099.72% | Test Acc: 098.89% | ∆%: 003.9221% | Test loss: 004.104% | Stag: ********\n",
      "At epoch @123, Train Acc: 099.71% | Test Acc: 098.89% | ∆%: 004.9218% | Test loss: 004.143% | Stag: ********\n",
      "At epoch @124, Train Acc: 099.71% | Test Acc: 098.95% | ∆%: 008.4647% | Test loss: 004.283% | Stag: *********\n",
      "At epoch @125, Train Acc: 099.56% | Test Acc: 098.72% | ∆%: 016.8572% | Test loss: 004.615% | Stag: *********\n",
      "At epoch @126, Train Acc: 098.75% | Test Acc: 097.86% | ∆%: 108.2824% | Test loss: 008.225% | Stag: **********\n",
      "At epoch @127, Train Acc: 082.55% | Test Acc: 082.12% | ∆%: 3119.2310% | Test loss: 127.125% | Stag: **********\n",
      "Early Stopping...\n",
      "The loss change rate was of 163.75398%\n"
     ]
    }
   ],
   "source": [
    "epochs = 400\n",
    "current_test_loss = 10 ** 10\n",
    "max_stag_threshold = 20\n",
    "current_stag = 0\n",
    "mean_stag_val = 0\n",
    "\n",
    "with tf.Session() as sess:\n",
    "    sess.run(init)\n",
    "    for epoch in range(epochs):\n",
    "        sess.run(train_step, feed_dict={X: X_0_4_train, y: y_0_4_train})\n",
    "        train_acc, writer_train_acc = sess.run([accuracy, writer_accuracy],\n",
    "                                               feed_dict={X: X_0_4_train, y: y_0_4_train})\n",
    "        test_acc, writer_test_acc = sess.run([accuracy, writer_accuracy],\n",
    "                                              feed_dict={X: X_0_4_test, y: y_0_4_test})\n",
    "        \n",
    "        test_loss = sess.run(loss, feed_dict={X: X_0_4_test, y: y_0_4_test})\n",
    "        # Add elements to summary\n",
    "        writer_test.add_summary(writer_test_acc, global_step=epoch)\n",
    "        writer_train.add_summary(writer_train_acc, global_step=epoch)\n",
    "        # We consider an stagnation if, for 20 steps, the test set does not\n",
    "        # move either way more than 2% from the current value\n",
    "        delta_test_loss = abs(test_loss / current_test_loss - 1)\n",
    "        if delta_test_loss < 0.01 or test_loss > current_test_loss:\n",
    "            if current_stag >= max_stag_threshold:\n",
    "                print(f\"Early Stopping...\\nThe loss change rate was of {mean_stag_val / max_stag_threshold:0.5%}\")\n",
    "                break\n",
    "            else:\n",
    "                current_stag += 1\n",
    "                mean_stag_val += delta_test_loss\n",
    "                end = \"\\n\" if current_stag > 10 else \"\\r\"\n",
    "                print((f\"At epoch @{epoch:03}, Train Acc: {train_acc:07.02%} \"\n",
    "                       f\"| Test Acc: {test_acc:07.02%} | ∆%: {delta_test_loss:09.4%} \"\n",
    "                       f\"| Test loss: {test_loss:08.3%} | Stag: {'*' * ceil(current_stag / 2)}\"), end=end)\n",
    "        else:\n",
    "            current_stag = 0\n",
    "            mean_stag_val = 0\n",
    "            end = \"\\n\" if epoch % 20 == 0 else \"\\r\"\n",
    "            print((f\"At epoch @{epoch:03}, Train Acc: {train_acc:07.02%} \"\n",
    "                   f\"| Test Acc: {test_acc:07.02%} | ∆%: {delta_test_loss:09.4%} \"\n",
    "                   f\"| Test loss: {test_loss:08.3%} |\"), end=end)\n",
    "            current_test_loss = test_loss\n",
    "\n",
    "    model_saver.save(sess, \"./tfmodels/nnet_0_4_v01.ckpt\")"
   ]
  }
 ],
 "metadata": {
  "kernelspec": {
   "display_name": "Python 3",
   "language": "python",
   "name": "python3"
  },
  "language_info": {
   "codemirror_mode": {
    "name": "ipython",
    "version": 3
   },
   "file_extension": ".py",
   "mimetype": "text/x-python",
   "name": "python",
   "nbconvert_exporter": "python",
   "pygments_lexer": "ipython3",
   "version": "3.6.5"
  }
 },
 "nbformat": 4,
 "nbformat_minor": 2
}
