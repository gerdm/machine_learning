{
 "cells": [
  {
   "cell_type": "markdown",
   "metadata": {},
   "source": [
    "# Neural Networks With TensorFlow\n",
    "## Stable implementation"
   ]
  },
  {
   "cell_type": "code",
   "execution_count": null,
   "metadata": {},
   "outputs": [],
   "source": [
    "import tensorflow as tf\n",
    "from tensorflow.examples.tutorials.mnist import input_data\n",
    "from tensorflow import variance_scaling_initializer # He-initializer\n",
    "from jupyter_tf_graph import show_graph"
   ]
  },
  {
   "cell_type": "code",
   "execution_count": 19,
   "metadata": {},
   "outputs": [],
   "source": [
    "(X_train, y_train), (X_test, y_test) = tf.keras.datasets.mnist.load_data()\n",
    "\n",
    "X_train = X_train.reshape(-1, 28 * 28) / 255.0\n",
    "X_test = X_test.reshape(-1, 28 * 28) / 255.0"
   ]
  },
  {
   "cell_type": "markdown",
   "metadata": {},
   "source": [
    "## Training a Fully Connected Deep Neural Network"
   ]
  },
  {
   "cell_type": "code",
   "execution_count": 40,
   "metadata": {},
   "outputs": [],
   "source": [
    "tf.reset_default_graph()\n",
    "\n",
    "outfile = \"./tf_logs/vanilla_dnn\"\n",
    "n_inputs = 28 * 28\n",
    "n_hidden = 100\n",
    "n_outputs = 10\n",
    "\n",
    "X = tf.placeholder(tf.float32, shape=(None, n_inputs), name=\"X\")\n",
    "y = tf.placeholder(tf.int32, shape=None, name=\"y\")\n",
    "\n",
    "he_init = variance_scaling_initializer()\n",
    "with tf.name_scope(\"dnn\"):\n",
    "    hidden1 = tf.layers.dense(X, n_hidden, activation=tf.nn.elu,\n",
    "                              kernel_initializer=he_init, name=\"hidden1\")\n",
    "    \n",
    "    hidden2 = tf.layers.dense(hidden1, n_hidden, activation=tf.nn.elu\n",
    "                              ,name=\"hidden2\")\n",
    "    hidden3 = tf.layers.dense(hidden2, n_hidden, activation=tf.nn.elu,\n",
    "                             name=\"hidden3\")\n",
    "    hidden4 = tf.layers.dense(hidden3, n_hidden, activation=tf.nn.elu,\n",
    "                             name=\"hidden4\")\n",
    "    hidden5 = tf.layers.dense(hidden4, n_hidden, activation=tf.nn.elu,\n",
    "                             name=\"hidden5\")\n",
    "    logits = tf.layers.dense(hidden5, n_outputs,\n",
    "                             name=\"logits\")\n",
    "    \n",
    "with tf.name_scope(\"loss\"):\n",
    "    xentropy = tf.nn.sparse_softmax_cross_entropy_with_logits(\n",
    "        labels=y,\n",
    "        logits=logits\n",
    "    )\n",
    "    loss = tf.reduce_mean(xentropy, name=\"loss\")\n",
    "\n",
    "    \n",
    "alpha = 0.01\n",
    "with tf.name_scope(\"train\"):\n",
    "    optimizer = tf.train.AdamOptimizer(alpha)\n",
    "    train_step = optimizer.minimize(loss)\n",
    "\n",
    "with tf.name_scope(\"metrics\"):\n",
    "    correct = tf.nn.in_top_k(logits, y, 1)\n",
    "    accuracy = tf.reduce_mean(tf.cast(correct, tf.float32), name=\"accuracy\")\n",
    "    writer = tf.summary.FileWriter(outfile)\n",
    "    accuracy_writer = tf.summary.scalar(\"accuracy\", accuracy)\n",
    "\n",
    "saver = tf.train.Saver()\n",
    "init = tf.global_variables_initializer()"
   ]
  },
  {
   "cell_type": "code",
   "execution_count": 43,
   "metadata": {},
   "outputs": [
    {
     "name": "stdout",
     "output_type": "stream",
     "text": [
      "@Epoch 0, accuracy = 33.70%\n",
      "@Epoch 20, accuracy = 85.79%\n",
      "@Epoch 40, accuracy = 92.57%\n",
      "@Epoch 60, accuracy = 94.71%\n",
      "@Epoch 80, accuracy = 95.87%\n",
      "@Epoch 100, accuracy = 96.76%\n",
      "@Epoch 120, accuracy = 97.48%\n",
      "@Epoch 140, accuracy = 98.05%\n",
      "@Epoch 160, accuracy = 98.51%\n",
      "@Epoch 180, accuracy = 95.44%\n",
      "@Epoch 199, accuracy = 86.47%\r"
     ]
    }
   ],
   "source": [
    "epochs = 200\n",
    "with tf.Session() as sess:\n",
    "    sess.run(init)\n",
    "    for epoch in range(epochs):\n",
    "        sess.run(train_step, feed_dict={X: X_train, y: y_train})\n",
    "        \n",
    "        train_acc, tboard_acc = sess.run([accuracy, accuracy_writer],\n",
    "                                         feed_dict={X: X_train, y:y_train})\n",
    "        \n",
    "        writer.add_summary(tboard_acc, epoch)\n",
    "        end = \"\\n\" if epoch % 20 == 0 else \"\\r\"\n",
    "        print(f\"@Epoch {epoch}, accuracy = {train_acc:0.2%}\", end=end)"
   ]
  }
 ],
 "metadata": {
  "kernelspec": {
   "display_name": "Python 3",
   "language": "python",
   "name": "python3"
  },
  "language_info": {
   "codemirror_mode": {
    "name": "ipython",
    "version": 3
   },
   "file_extension": ".py",
   "mimetype": "text/x-python",
   "name": "python",
   "nbconvert_exporter": "python",
   "pygments_lexer": "ipython3",
   "version": "3.6.5"
  }
 },
 "nbformat": 4,
 "nbformat_minor": 2
}
