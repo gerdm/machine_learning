{
 "cells": [
  {
   "cell_type": "markdown",
   "metadata": {
    "_cell_guid": "d141de91-bf9d-44e6-b993-bb784587696c",
    "_uuid": "96f615e02ee6de6ddb9d3f85e3affd4fe636f002"
   },
   "source": [
    "# Intro to TensorFlow"
   ]
  },
  {
   "cell_type": "code",
   "execution_count": 1,
   "metadata": {
    "_cell_guid": "b1076dfc-b9ad-4769-8c92-a6c4dae69d19",
    "_uuid": "8f2839f25d086af736a60e9eeb907d3b93b6e0e5"
   },
   "outputs": [],
   "source": [
    "import tensorflow as tf\n",
    "import pandas as pd\n",
    "import numpy as np\n",
    "from math import ceil\n",
    "from numpy.random import seed, shuffle"
   ]
  },
  {
   "cell_type": "markdown",
   "metadata": {
    "_cell_guid": "001abf7d-b936-4cf5-a807-10a7c8bc7df0",
    "_uuid": "a770a6a8638c467001263bff555142c8ff063c6b"
   },
   "source": [
    "**My first computation Graph**"
   ]
  },
  {
   "cell_type": "code",
   "execution_count": 3,
   "metadata": {
    "_cell_guid": "79c7e3d0-c299-4dcb-8224-4455121ee9b0",
    "_uuid": "d629ff2d2480ee46fbb7e2d37f6b5fab8052498a"
   },
   "outputs": [
    {
     "name": "stdout",
     "output_type": "stream",
     "text": [
      "52\n"
     ]
    }
   ],
   "source": [
    "# Defining a graph (a default graph)\n",
    "# Every declared node is automatically added \n",
    "# to the 'default-graph'\n",
    "x = tf.Variable(3, name=\"x\")\n",
    "y = tf.Variable(5, name=\"y\")\n",
    "f = x * x * y + y + 2\n",
    "# Run the graph inside a session.\n",
    "# With the 'with' command, the session is set as the\n",
    "# default sesion\n",
    "with tf.Session() as sess:\n",
    "    # We need to initialize the variables before\n",
    "    # performing operations using them\n",
    "    x.initializer.run() # Equivalent to: tf.get_default_session().run(x.initializer)\n",
    "    y.initializer.run() # Equivalent to: tf.get_default_session().run(y.initializer)\n",
    "    result = f.eval()   # Equivalent to: tf.get_default_session().run(f)\n",
    "    \n",
    "print(result)"
   ]
  },
  {
   "cell_type": "code",
   "execution_count": 2,
   "metadata": {
    "_cell_guid": "338b90a2-bc73-4f4d-bba4-1a0faebee202",
    "_uuid": "a149a0d1c964cbc0c6899d0415590dd2b9a2381f"
   },
   "outputs": [
    {
     "name": "stdout",
     "output_type": "stream",
     "text": [
      "52\n"
     ]
    }
   ],
   "source": [
    "# Removing every node inside the\n",
    "# default graph\n",
    "tf.reset_default_graph()\n",
    "\n",
    "# **CONSTRUCTION PHASE**\n",
    "x = tf.Variable(3, name=\"x\")\n",
    "y = tf.Variable(5, name=\"y\")\n",
    "f = x * x * y + y + 2\n",
    "# Add to the graph a step to initialize all variables\n",
    "# (we are not actually initializing the variables in this step)\n",
    "init = tf.global_variables_initializer()\n",
    "\n",
    "# **EXECUTION PHASE**\n",
    "with tf.Session() as ses:\n",
    "    init.run()\n",
    "    result = f.eval()\n",
    "\n",
    "print(result)"
   ]
  },
  {
   "cell_type": "markdown",
   "metadata": {
    "_cell_guid": "b2f81670-4bcb-4eb0-b2cc-8c4086b681c2",
    "_uuid": "2a4e49456415951dc2444caec922e0aa8bef091a"
   },
   "source": [
    "### Evaluating nodes"
   ]
  },
  {
   "cell_type": "code",
   "execution_count": 5,
   "metadata": {
    "_cell_guid": "e25499c1-fb86-4a68-a4bb-089f7ed6e3cb",
    "_uuid": "520a411549831ee1c2bb61102de782b9723bb3d3",
    "scrolled": true
   },
   "outputs": [
    {
     "name": "stdout",
     "output_type": "stream",
     "text": [
      "10\n",
      "15\n",
      "\n",
      "10\n",
      "15\n"
     ]
    }
   ],
   "source": [
    "tf.reset_default_graph()\n",
    "# Whenever we evaluate a node, Tensorflow automatically\n",
    "# determines the set of nodes that it depends on.\n",
    "\n",
    "w  = tf.constant(3)\n",
    "x = w + 2\n",
    "y = x + 5\n",
    "z = x * 3\n",
    "\n",
    "init = tf.global_variables_initializer()\n",
    "# **The ineficient way to evaluate a set of nodes**\n",
    "# By evaluating (y, z) (nodes) the following way, TensorFlow\n",
    "# has to compute 'w' and 'x' twice in order to obtain (x, z)\n",
    "with tf.Session() as sess:\n",
    "    init.run()\n",
    "    print(y.eval())\n",
    "    print(z.eval())\n",
    "    \n",
    "tf.reset_default_graph()\n",
    "w  = tf.constant(3)\n",
    "x = w + 2\n",
    "y = x + 5\n",
    "z = x * 3\n",
    "\n",
    "print()\n",
    "init = tf.global_variables_initializer()\n",
    "# **The proper way to evaluate a set of nodes**\n",
    "with tf.Session() as sess:\n",
    "    init.run()\n",
    "    xres, yres = sess.run([y, z])\n",
    "    print(xres)\n",
    "    print(yres)"
   ]
  },
  {
   "cell_type": "markdown",
   "metadata": {
    "_cell_guid": "d2f311a6-a51e-4fe2-af22-34d940d730cc",
    "_uuid": "09e054b3fe9210414fc815e7e56cbe5196f65bd9"
   },
   "source": [
    "Operations in TensorFlow are called *ops*, `tf.constant` and `tf.Variable` are called *source ops* since they take no input. *Ops* with $n$ inputs and $m$ outputs are called *tensors*"
   ]
  },
  {
   "cell_type": "markdown",
   "metadata": {},
   "source": [
    "## Linear Regression"
   ]
  },
  {
   "cell_type": "markdown",
   "metadata": {
    "_cell_guid": "f1add54c-3430-45ea-b6f4-fb234d8d8896",
    "_uuid": "7f09c7db5d86a04ea651dc5561ad4dee57d87550"
   },
   "source": [
    "### Computing $\\theta^\\star$ with the normal equation"
   ]
  },
  {
   "cell_type": "code",
   "execution_count": 6,
   "metadata": {
    "_cell_guid": "f3980145-8037-4f84-aa91-0dc149911f35",
    "_uuid": "13218dd14974bd75a0ab087e382d5c1e451b903f"
   },
   "outputs": [
    {
     "name": "stdout",
     "output_type": "stream",
     "text": [
      "[_DeviceAttributes(/job:localhost/replica:0/task:0/device:CPU:0, CPU, 268435456)]\n",
      "[[ -3.60324050e+06]\n",
      " [ -4.29331445e+04]\n",
      " [ -4.26845234e+04]\n",
      " [  1.15434619e+03]\n",
      " [ -8.20419979e+00]\n",
      " [  1.13781357e+02]\n",
      " [ -3.83973656e+01]\n",
      " [  4.75008698e+01]\n",
      " [  4.02665078e+04]]\n"
     ]
    }
   ],
   "source": [
    "tf.reset_default_graph()\n",
    "housing = pd.read_csv(\"./datasets/housing.csv\").dropna()\n",
    "m, n = housing.shape\n",
    "housing_data_bias = np.c_[np.ones((m, 1)), housing.drop([\"ocean_proximity\", \"median_house_value\"], axis=1).values]\n",
    "housing_target = housing.median_house_value.values.reshape(-1, 1)\n",
    "\n",
    "# Defining the computation graph \n",
    "X = tf.constant(housing_data_bias, dtype=tf.float32, name=\"X\")\n",
    "y = tf.constant(housing_target, dtype=tf.float32, name=\"y\")\n",
    "Xtranspose = tf.transpose(X)\n",
    "theta = tf.matrix_inverse(Xtranspose @ X) @ Xtranspose @ y\n",
    "\n",
    "with tf.Session(config=tf.ConfigProto(log_device_placement=True)) as sess:\n",
    "    print(sess.list_devices())\n",
    "    theta_star = theta.eval() # Equivalent to sess.run(theta)"
   ]
  },
  {
   "cell_type": "markdown",
   "metadata": {
    "_cell_guid": "2db47547-c58e-43b6-b34c-d29dc7d61dde",
    "_uuid": "67630970e5a58295f0da3023bb31410b2ff7f53a"
   },
   "source": [
    "### Computing $\\theta^\\star$ with Gradient Descent\n",
    "#### Manually Setting the gradients"
   ]
  },
  {
   "cell_type": "code",
   "execution_count": 9,
   "metadata": {
    "_cell_guid": "e4744113-5c34-4859-a983-aa5e742b40b1",
    "_uuid": "751ae2e3ed8bd5eca6546dcd48ce685d28f7221f"
   },
   "outputs": [
    {
     "name": "stdout",
     "output_type": "stream",
     "text": [
      "@Epoch 000, MSE: 56,117,448,704.00\n",
      "@Epoch 100, MSE: 47,701,590,016.00\n",
      "@Epoch 200, MSE: 47,639,318,528.00\n",
      "@Epoch 300, MSE: 47,633,567,744.00\n",
      "@Epoch 400, MSE: 47,632,191,488.00\n",
      "@Epoch 500, MSE: 47,631,593,472.00\n",
      "@Epoch 600, MSE: 47,631,310,848.00\n",
      "@Epoch 700, MSE: 47,631,142,912.00\n",
      "@Epoch 800, MSE: 47,631,052,800.00\n",
      "@Epoch 900, MSE: 47,630,999,552.00\n"
     ]
    }
   ],
   "source": [
    "from sklearn.preprocessing import StandardScaler\n",
    "tf.reset_default_graph()\n",
    "\n",
    "housing_data_bias_scaled = StandardScaler().fit_transform(housing_data_bias)\n",
    "\n",
    "n_epochs = 1000\n",
    "learning_rate = 0.1\n",
    "X = tf.constant(housing_data_bias_scaled, dtype=tf.float32, name=\"X\")\n",
    "y = tf.constant(housing.median_house_value.values.reshape(-1, 1), dtype=tf.float32, name=\"y\")\n",
    "theta = tf.Variable(tf.random_uniform([n - 1, 1], minval=-1, maxval=1), name=\"theta\")\n",
    "\n",
    "y_pred = tf.matmul(X, theta, name=\"predictions\")\n",
    "error = y_pred - y\n",
    "mse = tf.reduce_mean(tf.square(error), name=\"MSE\")\n",
    "# **Taking a step of gradient descent**\n",
    "# ---------------- Manual Differentiation----------------\n",
    "gradients = 2 / m * tf.matmul(tf.transpose(X), error)\n",
    "# Updating the parameters\n",
    "training_op = tf.assign(theta, theta - learning_rate * gradients)\n",
    "# ---------------- Manual Differentiation----------------\n",
    "\n",
    "init = tf.global_variables_initializer()\n",
    "\n",
    "with tf.Session() as sess:\n",
    "    # Step 1) Initialize all variables\n",
    "    sess.run(init)\n",
    "    # Step 2) Iterate over epochs\n",
    "    for epoch in range(n_epochs):\n",
    "        if epoch % 100 == 0:\n",
    "            # Evaluate current mse variable\n",
    "            print(f\"@Epoch {epoch:03}, MSE: {mse.eval():0,.2f}\")\n",
    "        # update the training operation: compute gradients\n",
    "        sess.run(training_op)\n",
    "    theta_star = theta.eval()"
   ]
  },
  {
   "cell_type": "markdown",
   "metadata": {
    "_cell_guid": "2db47547-c58e-43b6-b34c-d29dc7d61dde",
    "_uuid": "67630970e5a58295f0da3023bb31410b2ff7f53a"
   },
   "source": [
    "### Computing $\\theta^\\star$ with Gradient Descent\n",
    "#### Using automatic differentiation"
   ]
  },
  {
   "cell_type": "code",
   "execution_count": 21,
   "metadata": {
    "_cell_guid": "932de405-2061-4366-ad6a-bdd721907c96",
    "_uuid": "cd6350ae680df9075871658a1519552ac13e0e0b"
   },
   "outputs": [
    {
     "name": "stdout",
     "output_type": "stream",
     "text": [
      "@Epoch 000, MSE: 56,117,559,296.00\n",
      "@Epoch 100, MSE: 47,701,585,920.00\n",
      "@Epoch 200, MSE: 47,639,318,528.00\n",
      "@Epoch 300, MSE: 47,633,567,744.00\n",
      "@Epoch 400, MSE: 47,632,191,488.00\n",
      "@Epoch 500, MSE: 47,631,593,472.00\n",
      "@Epoch 600, MSE: 47,631,306,752.00\n",
      "@Epoch 700, MSE: 47,631,142,912.00\n",
      "@Epoch 800, MSE: 47,631,052,800.00\n",
      "@Epoch 900, MSE: 47,630,999,552.00\n"
     ]
    }
   ],
   "source": [
    "from sklearn.preprocessing import StandardScaler\n",
    "tf.reset_default_graph()\n",
    "\n",
    "housing_data_bias_scaled = StandardScaler().fit_transform(housing_data_bias)\n",
    "\n",
    "n_epochs = 1000\n",
    "learning_rate = 0.1\n",
    "X = tf.constant(housing_data_bias_scaled, dtype=tf.float32, name=\"X\")\n",
    "y = tf.constant(housing.median_house_value.values.reshape(-1, 1), dtype=tf.float32, name=\"y\")\n",
    "# Initializing the parameters to learn\n",
    "theta = tf.Variable(tf.random_uniform([n - 1, 1], minval=-1, maxval=1), name=\"theta\")\n",
    "\n",
    "y_pred = tf.matmul(X, theta, name=\"predictions\")\n",
    "error = y_pred - y\n",
    "mse = tf.reduce_mean(tf.square(error), name=\"MSE\")\n",
    "# **Taking a step of gradient descent**\n",
    "# ---------------- Automatic Differentiation----------------\n",
    "gradients = tf.gradients(mse, [theta])[0]\n",
    "training_op = tf.assign(theta, theta - learning_rate * gradients)\n",
    "# ---------------- Automatic Differentiation----------------\n",
    "\n",
    "init = tf.global_variables_initializer()\n",
    "\n",
    "with tf.Session() as sess:\n",
    "    # Step 1) Initialize all variables\n",
    "    sess.run(init)\n",
    "    # Step 2) Iterate over epochs\n",
    "    for epoch in range(n_epochs):\n",
    "        if epoch % 100 == 0:\n",
    "            # Evaluate current mse variable\n",
    "            print(f\"@Epoch {epoch:03}, MSE: {mse.eval():0,.2f}\")\n",
    "        # update the training operation: comppute gradients\n",
    "        sess.run(training_op)\n",
    "    theta_star = theta.eval()"
   ]
  },
  {
   "cell_type": "markdown",
   "metadata": {
    "_cell_guid": "2db47547-c58e-43b6-b34c-d29dc7d61dde",
    "_uuid": "67630970e5a58295f0da3023bb31410b2ff7f53a"
   },
   "source": [
    "### Computing $\\theta^\\star$ with Gradient Descent\n",
    "#### Using an Optimizer"
   ]
  },
  {
   "cell_type": "code",
   "execution_count": 9,
   "metadata": {
    "_cell_guid": "a2359d21-1389-4a12-b745-443cb4b14c7e",
    "_uuid": "d05aa937551a5e50aa576086ef53e6fd9bea4b02"
   },
   "outputs": [
    {
     "name": "stdout",
     "output_type": "stream",
     "text": [
      "@Epoch 000, MSE: 56,117,612,544.00\n",
      "@Epoch 100, MSE: 47,701,594,112.00\n",
      "@Epoch 200, MSE: 47,639,330,816.00\n",
      "@Epoch 300, MSE: 47,633,571,840.00\n",
      "@Epoch 400, MSE: 47,632,187,392.00\n",
      "@Epoch 500, MSE: 47,631,601,664.00\n",
      "@Epoch 600, MSE: 47,631,306,752.00\n",
      "@Epoch 700, MSE: 47,631,142,912.00\n",
      "@Epoch 800, MSE: 47,631,052,800.00\n",
      "@Epoch 900, MSE: 47,631,003,648.00\n"
     ]
    }
   ],
   "source": [
    "from sklearn.preprocessing import StandardScaler\n",
    "tf.reset_default_graph()\n",
    "\n",
    "housing_data_bias_scaled = StandardScaler().fit_transform(housing_data_bias)\n",
    "\n",
    "n_epochs = 1000\n",
    "learning_rate = 0.1\n",
    "X = tf.constant(housing_data_bias_scaled, dtype=tf.float32, name=\"X\")\n",
    "y = tf.constant(housing.median_house_value.values.reshape(-1, 1), dtype=tf.float32, name=\"y\")\n",
    "theta = tf.Variable(tf.random_uniform([n - 1, 1], minval=-1, maxval=1), name=\"theta\")\n",
    "\n",
    "y_pred = tf.matmul(X, theta, name=\"predictions\")\n",
    "error = y_pred - y\n",
    "mse = tf.reduce_mean(tf.square(error), name=\"MSE\")\n",
    "# **Taking a step of gradient descent**\n",
    "# ---------------- TF Optimizer ----------------\n",
    "optimizer = tf.train.GradientDescentOptimizer(learning_rate=learning_rate)\n",
    "training_op = optimizer.minimize(mse)\n",
    "# ---------------- TF Optimizer ----------------\n",
    "\n",
    "init = tf.global_variables_initializer()\n",
    "\n",
    "with tf.Session() as sess:\n",
    "    # Step 1) Initialize all variables\n",
    "    sess.run(init)\n",
    "    # Step 2) Iterate over epochs\n",
    "    for epoch in range(n_epochs):\n",
    "        if epoch % 100 == 0:\n",
    "            # Evaluate current mse variable\n",
    "            print(f\"@Epoch {epoch:03}, MSE: {mse.eval():0,.2f}\")\n",
    "        # update the training operation: comppute gradients\n",
    "        sess.run(training_op)\n",
    "    theta_star = theta.eval()"
   ]
  },
  {
   "cell_type": "markdown",
   "metadata": {
    "_cell_guid": "3d2598f2-ba37-48f3-b487-0f7ef6406189",
    "_uuid": "04565e08879092c892ac6bf1b2b7d6945c6cb6d0"
   },
   "source": [
    "----\n",
    "### Computing $\\theta^\\star$ with Mini-Batch Gradient Descent\n",
    "#### The use of Placeholders for model learning"
   ]
  },
  {
   "cell_type": "code",
   "execution_count": 39,
   "metadata": {},
   "outputs": [],
   "source": [
    "def fetch_batch(n_batches, set_seed=None):\n",
    "    \"\"\"\n",
    "    Retrieve the i-th batch from a random shuffled\n",
    "    training dataset. Each epoch the training\n",
    "    dataset gets reshuffled.\n",
    "    \"\"\"\n",
    "    seed(set_seed)\n",
    "    batches = np.c_[housing_data_bias_scaled, housing_target]\n",
    "    shuffle(batches)\n",
    "    batches = np.array_split(batches, n_batches)\n",
    "    for batch in batches:\n",
    "        yield batch[:, :-1], batch[:, -1].reshape(-1, 1)"
   ]
  },
  {
   "cell_type": "code",
   "execution_count": 33,
   "metadata": {
    "_cell_guid": "9bef903a-b472-4a3f-9d3b-b6e2f8985503",
    "_uuid": "36861c7ed1129cb749f9c3fab8e2963db5b84ffe"
   },
   "outputs": [
    {
     "name": "stdout",
     "output_type": "stream",
     "text": [
      "@Epoch 000, MSE: 49,532,694,528.00\n",
      "@Epoch 100, MSE: 46,844,346,368.00\n",
      "@Epoch 200, MSE: 47,022,866,432.00\n",
      "@Epoch 300, MSE: 47,475,621,888.00\n",
      "@Epoch 400, MSE: 47,403,696,128.00\n",
      "@Epoch 500, MSE: 47,448,813,568.00\n",
      "@Epoch 600, MSE: 46,916,739,072.00\n",
      "@Epoch 700, MSE: 47,627,169,792.00\n",
      "@Epoch 800, MSE: 47,496,564,736.00\n",
      "@Epoch 900, MSE: 47,253,815,296.00\n"
     ]
    }
   ],
   "source": [
    "tf.reset_default_graph()\n",
    "batch_size = 5000\n",
    "n_epochs = 1000\n",
    "n_batches = ceil(m / batch_size)\n",
    "\n",
    "X = tf.placeholder(tf.float32, shape=[None, n - 1], name=\"X\")\n",
    "y = tf.placeholder(tf.float32, shape=[None, 1], name=\"y\")\n",
    "theta = tf.Variable(tf.random_uniform([n - 1, 1], minval=-1, maxval=1), name=\"theta\")\n",
    "\n",
    "y_pred = tf.matmul(X, theta)\n",
    "err = y_pred - y\n",
    "mse = tf.reduce_mean(tf.square(err), name=\"MSE\")\n",
    "optimizer = tf.train.GradientDescentOptimizer(learning_rate)\n",
    "training_op = optimizer.minimize(mse)\n",
    "\n",
    "init = tf.global_variables_initializer()\n",
    "with tf.Session() as sess:\n",
    "    sess.run(init)\n",
    "    for epoch in range(n_epochs):\n",
    "        for X_batch, y_batch in fetch_batch(n_batches, set_seed=epoch):\n",
    "            sess.run(training_op, feed_dict={X: X_batch, y: y_batch})\n",
    "        if epoch % 100 == 0:\n",
    "            # Evaluate current mse variable\n",
    "            print(f\"@Epoch {epoch:03}, MSE: {mse.eval(feed_dict={X: X_batch, y: y_batch}):0,.2f}\")\n",
    "    theta_star_bgd = theta.eval()"
   ]
  },
  {
   "cell_type": "markdown",
   "metadata": {
    "_cell_guid": "3d2598f2-ba37-48f3-b487-0f7ef6406189",
    "_uuid": "04565e08879092c892ac6bf1b2b7d6945c6cb6d0"
   },
   "source": [
    "----\n",
    "### Saving and restoring models\n",
    "#### *Saving a file*"
   ]
  },
  {
   "cell_type": "code",
   "execution_count": 30,
   "metadata": {
    "_cell_guid": "9bef903a-b472-4a3f-9d3b-b6e2f8985503",
    "_uuid": "36861c7ed1129cb749f9c3fab8e2963db5b84ffe"
   },
   "outputs": [
    {
     "name": "stdout",
     "output_type": "stream",
     "text": [
      "@Epoch 000, MSE: 49,532,710,912.00\n",
      "@Epoch 100, MSE: 46,844,350,464.00\n",
      "@Epoch 200, MSE: 47,022,866,432.00\n",
      "@Epoch 300, MSE: 47,475,621,888.00\n",
      "@Epoch 400, MSE: 47,403,692,032.00\n",
      "@Epoch 500, MSE: 47,448,813,568.00\n",
      "@Epoch 600, MSE: 46,916,739,072.00\n",
      "@Epoch 700, MSE: 47,627,169,792.00\n",
      "@Epoch 800, MSE: 47,496,564,736.00\n",
      "@Epoch 900, MSE: 47,253,815,296.00\n"
     ]
    }
   ],
   "source": [
    "tf.reset_default_graph()\n",
    "batch_size = 5000\n",
    "n_epochs = 1000\n",
    "n_batches = ceil(m / batch_size)\n",
    "\n",
    "X = tf.placeholder(tf.float32, shape=[None, n - 1], name=\"X\")\n",
    "y = tf.placeholder(tf.float32, shape=[None, 1], name=\"y\")\n",
    "theta = tf.Variable(tf.random_uniform([n - 1, 1], minval=-1, maxval=1), name=\"theta\")\n",
    "\n",
    "y_pred = tf.matmul(X, theta)\n",
    "err = y_pred - y\n",
    "mse = tf.reduce_mean(tf.square(err), name=\"MSE\")\n",
    "optimizer = tf.train.GradientDescentOptimizer(learning_rate)\n",
    "training_op = optimizer.minimize(mse)\n",
    "\n",
    "init = tf.global_variables_initializer()\n",
    "saver = tf.train.Saver()\n",
    "\n",
    "with tf.Session() as sess:\n",
    "    sess.run(init)\n",
    "    for epoch in range(n_epochs):\n",
    "        for X_batch, y_batch in fetch_batch(n_batches):\n",
    "            sess.run(training_op, feed_dict={X: X_batch, y: y_batch})\n",
    "        if epoch % 100 == 0:\n",
    "            # Checkpoint every 100 epochs\n",
    "            save_path = saver.save(sess, \"./tmp/linear_regression.ckpt\")\n",
    "            # Evaluate current mse variable\n",
    "            print(f\"@Epoch {epoch:03}, MSE: {mse.eval(feed_dict={X: X_batch, y: y_batch}):0,.2f}\")\n",
    "    theta_star_bgd = theta.eval()\n",
    "    save_path = saver.save(sess, \"./tmp/my_model_final.ckpt\")"
   ]
  },
  {
   "cell_type": "markdown",
   "metadata": {
    "_cell_guid": "3d2598f2-ba37-48f3-b487-0f7ef6406189",
    "_uuid": "04565e08879092c892ac6bf1b2b7d6945c6cb6d0"
   },
   "source": [
    "----\n",
    "### Saving and restoring models\n",
    "#### *Restoring a File*"
   ]
  },
  {
   "cell_type": "code",
   "execution_count": 34,
   "metadata": {
    "scrolled": false
   },
   "outputs": [
    {
     "name": "stdout",
     "output_type": "stream",
     "text": [
      "INFO:tensorflow:Restoring parameters from ./tmp/my_model_final.ckpt\n",
      "@Epoch 000, MSE: 47,592,103,936.00\n",
      "@Epoch 100, MSE: 47,399,989,248.00\n",
      "@Epoch 200, MSE: 47,747,645,440.00\n",
      "@Epoch 300, MSE: 47,565,201,408.00\n",
      "@Epoch 400, MSE: 48,000,819,200.00\n",
      "@Epoch 500, MSE: 47,279,427,584.00\n",
      "@Epoch 600, MSE: 47,240,843,264.00\n",
      "@Epoch 700, MSE: 47,740,170,240.00\n",
      "@Epoch 800, MSE: 47,980,371,968.00\n",
      "@Epoch 900, MSE: 48,388,489,216.00\n"
     ]
    }
   ],
   "source": [
    "tf.reset_default_graph()\n",
    "X = tf.placeholder(tf.float32, shape=[None, n - 1], name=\"X\")\n",
    "y = tf.placeholder(tf.float32, shape=[None, 1], name=\"y\")\n",
    "theta = tf.Variable(tf.random_uniform([n - 1, 1 ], minval=-1, maxval=1), name=\"theta\")\n",
    "\n",
    "y_pred = tf.matmul(X, theta, name=\"y_pred\")\n",
    "mse = tf.reduce_mean(tf.square(y_pred - y), name=\"MSE\")\n",
    "optimizer = tf.train.GradientDescentOptimizer(learning_rate=learning_rate)\n",
    "training_op = optimizer.minimize(mse)\n",
    "\n",
    "init = tf.global_variables_initializer()\n",
    "saver = tf.train.Saver()\n",
    "\n",
    "with tf.Session() as sess:\n",
    "    saver.restore(sess, \"./tmp/my_model_final.ckpt\")\n",
    "    for epoch in range(n_epochs):\n",
    "        for X_batch, y_batch in fetch_batch(n_batches):\n",
    "            sess.run(training_op, feed_dict={X: X_batch, y: y_batch})\n",
    "        if epoch % 100 == 0:\n",
    "            # Checkpoint every 100 epochs\n",
    "            save_path = saver.save(sess, \"./tmp/linear_regression.ckpt\")\n",
    "            # Evaluate current mse variable\n",
    "            print(f\"@Epoch {epoch:03}, MSE: {mse.eval(feed_dict={X: X_batch, y: y_batch}):0,.2f}\")\n",
    "    theta_star_bgd = theta.eval()\n",
    "    save_path = saver.save(sess, \"./tmp/my_model_final.ckpt\")"
   ]
  },
  {
   "cell_type": "markdown",
   "metadata": {},
   "source": [
    "### TensorBoard"
   ]
  },
  {
   "cell_type": "code",
   "execution_count": 38,
   "metadata": {},
   "outputs": [
    {
     "name": "stdout",
     "output_type": "stream",
     "text": [
      "@Epoch 000, MSE: 23,291,740,160.00\n",
      "@Epoch 100, MSE: 36,742,144,000.00\n",
      "@Epoch 200, MSE: 45,800,816,640.00\n",
      "@Epoch 300, MSE: 43,153,838,080.00\n",
      "@Epoch 400, MSE: 51,082,092,544.00\n",
      "@Epoch 500, MSE: 43,747,704,832.00\n",
      "@Epoch 600, MSE: 33,567,025,152.00\n",
      "@Epoch 700, MSE: 38,498,402,304.00\n",
      "@Epoch 800, MSE: 46,691,311,616.00\n",
      "@Epoch 900, MSE: 1,822,485,905,408.00\n"
     ]
    }
   ],
   "source": [
    "from datetime import datetime\n",
    "learning_rate = 0.1\n",
    "now = datetime.utcnow().strftime(\"%Y%m%d%H%M%S\")\n",
    "root = \"tf_logs\"\n",
    "logdir = f\"{root}/run-{now}\"\n",
    "\n",
    "tf.reset_default_graph()\n",
    "batch_size = 5000\n",
    "n_epochs = 1000\n",
    "n_batches = ceil(m / batch_size)\n",
    "\n",
    "X = tf.placeholder(tf.float32, shape=[None, n - 1], name=\"X\")\n",
    "y = tf.placeholder(tf.float32, shape=[None, 1], name=\"y\")\n",
    "theta = tf.Variable(tf.random_uniform([n - 1, 1], minval=-1, maxval=1), name=\"theta\")\n",
    "\n",
    "y_pred = tf.matmul(X, theta)\n",
    "# Name scope: To group relating nodes into a single\n",
    "# *graphical* node\n",
    "with tf.name_scope(\"loss\") as scope:\n",
    "    err = y_pred - y\n",
    "    mse = tf.reduce_mean(tf.square(err), name=\"MSE\")\n",
    "optimizer = tf.train.GradientDescentOptimizer(learning_rate)\n",
    "training_op = optimizer.minimize(mse)\n",
    "\n",
    "init = tf.global_variables_initializer()\n",
    "saver = tf.train.Saver()\n",
    "mse_summary = tf.summary.scalar(\"MSE\", mse)\n",
    "file_writer = tf.summary.FileWriter(logdir, tf.get_default_graph())\n",
    "\n",
    "with tf.Session() as sess:\n",
    "    sess.run(init)\n",
    "    for epoch in range(n_epochs):\n",
    "        for X_batch, y_batch in fetch_batch(n_epochs):\n",
    "            sess.run(training_op, feed_dict={X: X_batch, y: y_batch})\n",
    "            if batch_ix % 10 == 0:\n",
    "                summary_str = mse_summary.eval(feed_dict={X: X_batch, y:y_batch})\n",
    "                step = epoch * n_batches + batch_ix\n",
    "                file_writer.add_summary(summary_str, step )\n",
    "        if epoch % 100 == 0:\n",
    "            # Checkpoint every 100 epochs\n",
    "            save_path = saver.save(sess, \"./tmp/linear_regression.ckpt\")\n",
    "            # Evaluate current mse variable\n",
    "            print(f\"@Epoch {epoch:03}, MSE: {mse.eval(feed_dict={X: X_batch, y: y_batch}):0,.2f}\")\n",
    "    theta_star_bgd = theta.eval()\n",
    "    save_path = saver.save(sess, \"./tmp/my_model_final.ckpt\")\n",
    "file_writer.close()"
   ]
  },
  {
   "cell_type": "markdown",
   "metadata": {},
   "source": [
    "### Modularity"
   ]
  },
  {
   "cell_type": "code",
   "execution_count": 27,
   "metadata": {},
   "outputs": [],
   "source": [
    "tf.reset_default_graph()\n",
    "now = datetime.utcnow().strftime(\"%Y%m%d%H%M%S\")\n",
    "root = \"tf_logs\"\n",
    "logdir = f\"{root}/run-{now}\"\n",
    "\n",
    "def relu(X):\n",
    "    with tf.name_scope(\"relu\"):\n",
    "        w_shape = (int(X.get_shape()[1]), 1)\n",
    "        w = tf.Variable(tf.random_normal(w_shape), name=\"weights\")\n",
    "        b = tf.Variable(0., name=\"bias\")\n",
    "        z = tf.add(tf.matmul(X, w), b, name=\"z\")\n",
    "        return tf.maximum(z, 0., name=\"relu\")\n",
    "\n",
    "n_features = 3\n",
    "X = tf.placeholder(tf.float32, shape=[None, n_features], name=\"X\")\n",
    "relus = [relu(X) for _ in range(5)]\n",
    "output = tf.add_n(relus, name=\"output\")\n",
    "\n",
    "init = tf.global_variables_initializer()\n",
    "file_writer = tf.summary.FileWriter(logdir, tf.get_default_graph())\n",
    "file_writer.close()"
   ]
  },
  {
   "cell_type": "markdown",
   "metadata": {},
   "source": [
    "### Sharing Weights"
   ]
  },
  {
   "cell_type": "code",
   "execution_count": 37,
   "metadata": {},
   "outputs": [],
   "source": [
    "tf.reset_default_graph()\n",
    "now = datetime.utcnow().strftime(\"%Y%m%d%H%M%S\")\n",
    "root = \"tf_logs\"\n",
    "logdir = f\"{root}/run-{now}\"\n",
    "\n",
    "def relu(X):\n",
    "    with tf.variable_scope(\"relu\", reuse=True):\n",
    "        threshold = tf.get_variable(\"threshold\")\n",
    "        w_shape = (int(X.get_shape()[1]), 1)\n",
    "        w = tf.Variable(tf.random_normal(w_shape), name=\"weights\")\n",
    "        b = tf.Variable(0., name=\"bias\")\n",
    "        z = tf.add(tf.matmul(X, w), b, name=\"z\")\n",
    "        return tf.maximum(z, 0., name=\"relu\")\n",
    "\n",
    "n_features = 3\n",
    "X = tf.placeholder(tf.float32, shape=[None, n_features], name=\"X\")\n",
    "with tf.variable_scope(\"relu\"):\n",
    "    threshold = tf.get_variable(\"threshold\", shape=(),\n",
    "                                initializer=tf.constant_initializer(0.0))\n",
    "relus = [relu(X) for _ in range(5)]\n",
    "output = tf.add_n(relus, name=\"output\")\n",
    "\n",
    "init = tf.global_variables_initializer()\n",
    "file_writer = tf.summary.FileWriter(logdir, tf.get_default_graph())\n",
    "file_writer.close()"
   ]
  },
  {
   "cell_type": "markdown",
   "metadata": {},
   "source": [
    "# Exercises"
   ]
  },
  {
   "cell_type": "markdown",
   "metadata": {},
   "source": [
    "**1. What are the main benefits of creating a computation graph rather than directly executing the computations? What are the main drawbacks?**  \n",
    "Creating a computation graph allows us to run operations in parallel across CPUs and GPUs; its main drawback is the lack of instantaneously evaluating any node to see its output, we need to execute the graph in order to do so.\n",
    "\n",
    "**2. Is the statment `a_val = a.eval(session=sess)` equivalent to `a_val = sess.run(a)`?**  \n",
    "Yes, since both operations run under the same session and execute the computation graph in the exact same way.\n",
    "\n",
    "**3. Is the statement `a_val, b_val = a.eval(session.sess), b.eval(session.sess)` equivalent to `a_val, b_val = sess.run([a, b])`?**  \n",
    "No, the first statement runs the graph two times: values affecting both `a` and `b` must be computed twice in order to reach an output; the second statement, on the other hand, evaluates both `a` and `b` in paralell."
   ]
  },
  {
   "cell_type": "markdown",
   "metadata": {},
   "source": [
    "**4. Can you run two graphs in the same session?**\n"
   ]
  },
  {
   "cell_type": "code",
   "execution_count": 120,
   "metadata": {},
   "outputs": [
    {
     "name": "stdout",
     "output_type": "stream",
     "text": [
      "Running graph1 10\n",
      "Running graph2 10\n"
     ]
    }
   ],
   "source": [
    "graph1 = tf.Graph()\n",
    "with graph1.as_default():\n",
    "    x1 = tf.Variable(3, name=\"x1\")\n",
    "    y1 = tf.Variable(1, name=\"x2\")\n",
    "    z1 = x1 * x1 + y1\n",
    "    init1 = tf.global_variables_initializer()\n",
    "\n",
    "graph2 = tf.Graph()\n",
    "with graph2.as_default():\n",
    "    x2 = tf.Variable(3, name=\"x2\")\n",
    "    y2 = tf.Variable(1, name=\"y2\")\n",
    "    z2 = x2 * x2 + y2\n",
    "    init2 = tf.global_variables_initializer()\n",
    "\n",
    "with tf.Session(graph=graph1) as sess:\n",
    "    sess.run(init1)\n",
    "    print(f\"Running graph1 {z1.eval()}\")\n",
    "    \n",
    "with tf.Session(graph=graph2) as sess:\n",
    "    sess.run(init2)\n",
    "    print(f\"Running graph2 {z2.eval()}\")"
   ]
  },
  {
   "cell_type": "markdown",
   "metadata": {},
   "source": [
    "Attempting to run two graphs in a session will results in an error since `tf.Session` takes a single graph as a parameter. Therefore, it is **not** possible to run two graphs in a same session."
   ]
  },
  {
   "cell_type": "markdown",
   "metadata": {},
   "source": [
    "**5. If you create a graph `g` containing a variable `w`, then start two threads and open a session in each thread, both using the same graph `g`, will each session have its own copy of the variable `w` or will it be shared?**  \n",
    "Each session will have its own copy of `w`, since all `g` does is to define what will happen once (any) session runs that graph.\n",
    "\n",
    "**6. When is a variable initialized? When is it destroyed?**  \n",
    "A variable is initialized when its initializer is run, and it is destroyed when the session is closed.\n",
    "\n",
    "**7. What is the difference between a placeholder and a variable?**\n",
    "A placeholder, as the name suggests, is a TensorFlow object that will recieve some input during the execution phase. On the other hand, a variable is a TensorFlow object which we will modify as the session runs.\n",
    "\n",
    "Another way to think about it is that a placeholder will store $X$, for which we only know its shape but not how many training instances and the instances themselves, and a variable will store $\\theta$"
   ]
  },
  {
   "cell_type": "markdown",
   "metadata": {},
   "source": [
    "**8. What happens when you run the graph to evaluate an operation that depends on a placeholder but you don't feed its value? What happens if the operations does not depend on the placeholder?**  \n",
    "TensorFlow raisses an error if an operation that depends on a placeholder is not fed; if the operation does not depend on the placeholder, there is no data to feed, therefore, no error gets raised"
   ]
  },
  {
   "cell_type": "code",
   "execution_count": 130,
   "metadata": {},
   "outputs": [
    {
     "name": "stdout",
     "output_type": "stream",
     "text": [
      "9.0\n"
     ]
    }
   ],
   "source": [
    "tf.reset_default_graph()\n",
    "x = tf.placeholder(shape=None, dtype=tf.float32)\n",
    "fx = tf.pow(x, 2)\n",
    "\n",
    "train_val = 3\n",
    "with tf.Session() as sess:\n",
    "    # *** Raises and error if feed_dict is not provided ***\n",
    "    fx_val = sess.run(fx, feed_dict={x: train_val})\n",
    "    print(fx_val)"
   ]
  },
  {
   "cell_type": "markdown",
   "metadata": {},
   "source": [
    "**9. When you run a graph, can you feed the output value of any operation, or just the value of placeholders?**  \n",
    "It is possible to feed the output value of any operation."
   ]
  },
  {
   "cell_type": "code",
   "execution_count": 170,
   "metadata": {},
   "outputs": [
    {
     "name": "stdout",
     "output_type": "stream",
     "text": [
      "Running op = x * c. Feeding c:3\n",
      "6.0\n",
      "\n",
      "Running op = x * c. Feeding c:3 & x:10\n",
      "300.0\n"
     ]
    }
   ],
   "source": [
    "tf.reset_default_graph()\n",
    "\n",
    "c = tf.placeholder(tf.float32)\n",
    "x = tf.Variable(2, dtype=tf.float32)\n",
    "op = tf.multiply(c, x, name=\"operation\")\n",
    "\n",
    "with tf.Session() as sess:\n",
    "    sess.run(x.initializer)\n",
    "    print(\"Running op = x * c. Feeding c:3\")\n",
    "    print(sess.run(op, feed_dict={c:3}), end=\"\\n\\n\")\n",
    "    print(\"Running op = x * c. Feeding c:3 & x:10\")\n",
    "    print(sess.run(op, feed_dict={x: 10, c:30}))"
   ]
  },
  {
   "cell_type": "markdown",
   "metadata": {},
   "source": [
    "**10. How can you set a variable to any value you want (during the execution phase)?**  \n",
    "Assuming `X` is the variable we want to set a value to, we can set this value (inside a session) as\n",
    "```\n",
    "    sess.run(X, feed_dict{X: val})\n",
    "```\n",
    "\n",
    "**11. How many times does the reverse-mode autodiff need to traverse the graph in order to compute the gradients of the cost function with regard to 10 variables? What about forward-mode autodiff? And symbolic differentiation?**\n",
    "* reverse-mode: 1 time.\n",
    "* symbolic-diff: 10\n",
    "* forward-mode: depends on the number of inputs"
   ]
  },
  {
   "cell_type": "markdown",
   "metadata": {},
   "source": [
    "**12. implement Logistic Regression with Mini-bacth Gradient Descent using TensorFlow. Train it and evaluate it on the moons datasets.**\n",
    "\n",
    "   * Define the graph within a `logisitc_regression()` function that can be reused easily\n",
    "   * Save checkpoints using a `Saver` at regular intervals during training, and save the model at the end of training.\n",
    "   * Restore the last checkpoint upon startup if training was interrumpted.\n",
    "   * Define the graph using nice scopes to that the graph looks good in TensorBoard\n",
    "   * Add summaries to visualize the learnning curve in TensorBoard\n",
    "   * Try tweaking some hyperparameters such as the learning rate or the mini-batch size and look at the shape of the learning curve."
   ]
  },
  {
   "cell_type": "code",
   "execution_count": 2,
   "metadata": {},
   "outputs": [],
   "source": [
    "from sklearn.datasets import make_moons\n",
    "import matplotlib.pyplot as plt\n",
    "from datetime import datetime\n",
    "X_moons, y_moons = make_moons(n_samples=1000, noise=0.1, random_state=1643)\n",
    "y_moons = y_moons.reshape(-1, 1)\n",
    "plt.scatter(*X_moons.T, c=y_moons.ravel(), s=20, cmap=\"Dark2\");"
   ]
  },
  {
   "cell_type": "code",
   "execution_count": 4,
   "metadata": {},
   "outputs": [],
   "source": [
    "def fetch_batches(X, y, n_batches, set_seed=None):\n",
    "    \"\"\"\n",
    "    Retrieve the i-th batch from a random shuffled\n",
    "    training dataset. Each epoch the training\n",
    "    dataset gets reshuffled.\n",
    "    \"\"\"\n",
    "    seed(set_seed)\n",
    "    batches = np.c_[X, y]\n",
    "    shuffle(batches)\n",
    "    batches = np.array_split(batches, n_batches)\n",
    "    for batch in batches:\n",
    "        yield batch[:, :-1], batch[:, -1].reshape(-1, 1)\n",
    "\n",
    "\n",
    "class LogisticRegression:\n",
    "    \"\"\"\n",
    "    Logistic regression model using TFlow\n",
    "    \"\"\"\n",
    "    def __init__(self, X, y, learning_rate=0.1):\n",
    "        self.X = X\n",
    "        self.y = y\n",
    "    \n",
    "    def define_graph(self):\n",
    "        \"\"\"\n",
    "        Defines a logistic graph\n",
    "        \"\"\"\n",
    "        pass\n",
    "    \n",
    "    def train(self):\n",
    "        pass"
   ]
  },
  {
   "cell_type": "code",
   "execution_count": 78,
   "metadata": {},
   "outputs": [
    {
     "name": "stdout",
     "output_type": "stream",
     "text": [
      "Accuracy at 01: 86.700%\n",
      "Accuracy at 21: 87.000%\n",
      "Accuracy at 41: 87.000%\n",
      "Accuracy at 61: 87.000%\n",
      "Accuracy at 81: 87.000%\n",
      "Accuracy at 101: 87.000%\n",
      "Accuracy at 121: 87.000%\n",
      "Accuracy at 141: 87.000%\n",
      "Accuracy at 161: 87.000%\n",
      "Accuracy at 181: 87.000%\n",
      "Accuracy at 201: 87.000%\n",
      "Accuracy at 221: 87.000%\n",
      "Accuracy at 241: 87.000%\n",
      "Accuracy at 261: 87.000%\n",
      "Accuracy at 281: 87.000%\n"
     ]
    }
   ],
   "source": [
    "tf.reset_default_graph()\n",
    "now = datetime.now().strftime(\"%m%d%y%H%M%S\")\n",
    "logfile = f\"./tf_logs/run-{now}\"\n",
    "learning_rate = 0.01\n",
    "epochs = 300\n",
    "n_batches = 10\n",
    "\n",
    "# Values to predict the decision grid\n",
    "x1min, x2min = X_moons.min(axis=0)\n",
    "x1max, x2max = X_moons.max(axis=0)\n",
    "x1grid, x2grid = np.mgrid[x1min:x1max:0.05, x2min:x2max:0.05]\n",
    "np.c_[x1grid.reshape(-1, 1), x2grid.reshape(-1, 1)]\n",
    "\n",
    "with tf.name_scope(\"inputs\") as inputs:\n",
    "    X = tf.placeholder(tf.float32, shape=(None, 2), name=\"X\")\n",
    "    y = tf.placeholder(tf.float32, shape=(None, 1), name=\"y\")\n",
    "\n",
    "with tf.name_scope(\"Y_pred\") as y_pred:\n",
    "    m = X.get_shape().as_list()[1]\n",
    "    theta = tf.Variable(tf.zeros((m, 1)), name=\"theta\")\n",
    "    y_hat = tf.sigmoid(tf.matmul(X, theta), name=\"y_hat\")\n",
    "\n",
    "with tf.name_scope(\"loss\") as loss:\n",
    "    err = -tf.reduce_sum(y * tf.log(y_hat) + (1 - y) * tf.log(1 - y_hat))\n",
    "\n",
    "with tf.name_scope(\"metrics\") as met:\n",
    "    y_pred = tf.round(y_hat, name=\"predictions\")\n",
    "    correct_preds = tf.equal(y_pred, y)\n",
    "    accuracy = tf.reduce_mean(tf.cast(correct_preds, tf.float32))\n",
    "\n",
    "with tf.name_scope(\"optimizer\") as opt:\n",
    "    optimizer = tf.train.GradientDescentOptimizer(learning_rate)\n",
    "    training_step = optimizer.minimize(err)\n",
    "\n",
    "with tf.name_scope(\"components\") as comp:\n",
    "    init = tf.global_variables_initializer()\n",
    "    summary_loss = tf.summary.scalar(\"Cross_Entropy\", err)\n",
    "    file_writer = tf.summary.FileWriter(logfile, tf.get_default_graph())\n",
    "\n",
    "with tf.Session() as sess:\n",
    "    sess.run(init)\n",
    "    for epoch in range(epochs):\n",
    "        for nbatch, (X_batch, y_batch) in enumerate(fetch_batches(X_moons, y_moons, n_batches)):\n",
    "            sess.run(training_step, feed_dict={X:X_moons, y:y_moons})\n",
    "            if nbatch % 2 == 0:\n",
    "                summary = summary_loss.eval(feed_dict={X: X_moons, y:y_moons})\n",
    "                file_writer.add_summary(summary, epoch)\n",
    "        if epoch % 20 == 0:\n",
    "            acc = accuracy.eval(feed_dict={X:X_moons, y:y_moons})\n",
    "            ce = err.eval(feed_dict={X:X_moons, y:y_moons})\n",
    "            print(f\"Accuracy at {epoch + 1:02}: {acc:0.3%}\")\n",
    "    final_pred = y_pred.eval(feed_dict={X:np.c_[x1grid.reshape(-1, 1), x2grid.reshape(-1, 1)]})\n",
    "    theta_star = sess.run(theta)\n",
    "file_writer.close()"
   ]
  },
  {
   "cell_type": "code",
   "execution_count": 79,
   "metadata": {},
   "outputs": [
    {
     "data": {
      "text/plain": [
       "<matplotlib.contour.QuadContourSet at 0x1a268c9a90>"
      ]
     },
     "execution_count": 79,
     "metadata": {},
     "output_type": "execute_result"
    },
    {
     "data": {
      "image/png": "[encoded data removed]",
      "text/plain": [
       "<Figure size 432x288 with 1 Axes>"
      ]
     },
     "metadata": {},
     "output_type": "display_data"
    }
   ],
   "source": [
    "final_pred = final_pred.reshape(x1grid.shape)\n",
    "plt.scatter(*X_moons.T, c=y_moons.ravel(), cmap=\"Dark2\")\n",
    "plt.contourf(x1grid, x2grid, final_pred, cmap=\"Dark2\", alpha=0.4) "
   ]
  }
 ],
 "metadata": {
  "kernelspec": {
   "display_name": "Python 3",
   "language": "python",
   "name": "python3"
  },
  "language_info": {
   "codemirror_mode": {
    "name": "ipython",
    "version": 3
   },
   "file_extension": ".py",
   "mimetype": "text/x-python",
   "name": "python",
   "nbconvert_exporter": "python",
   "pygments_lexer": "ipython3",
   "version": "3.6.5"
  }
 },
 "nbformat": 4,
 "nbformat_minor": 1
}
