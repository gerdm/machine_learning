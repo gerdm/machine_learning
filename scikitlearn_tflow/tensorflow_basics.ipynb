{
 "cells": [
  {
   "cell_type": "markdown",
   "metadata": {
    "_cell_guid": "d141de91-bf9d-44e6-b993-bb784587696c",
    "_uuid": "96f615e02ee6de6ddb9d3f85e3affd4fe636f002"
   },
   "source": [
    "# Intro to TensorFlow"
   ]
  },
  {
   "cell_type": "code",
   "execution_count": null,
   "metadata": {
    "_cell_guid": "b1076dfc-b9ad-4769-8c92-a6c4dae69d19",
    "_uuid": "8f2839f25d086af736a60e9eeb907d3b93b6e0e5",
    "collapsed": true
   },
   "outputs": [],
   "source": [
    "import tensorflow as tf\n",
    "import pandas as pd\n",
    "import numpy as np"
   ]
  },
  {
   "cell_type": "markdown",
   "metadata": {
    "_cell_guid": "001abf7d-b936-4cf5-a807-10a7c8bc7df0",
    "_uuid": "a770a6a8638c467001263bff555142c8ff063c6b"
   },
   "source": [
    "**My first computation Graph**"
   ]
  },
  {
   "cell_type": "code",
   "execution_count": null,
   "metadata": {
    "_cell_guid": "79c7e3d0-c299-4dcb-8224-4455121ee9b0",
    "_uuid": "d629ff2d2480ee46fbb7e2d37f6b5fab8052498a",
    "collapsed": true
   },
   "outputs": [],
   "source": [
    "# Defining a graph (a default graph)\n",
    "# Every declared node is automatically added \n",
    "# to the 'default-graph'\n",
    "x = tf.Variable(3, name=\"x\")\n",
    "y = tf.Variable(5, name=\"y\")\n",
    "f = x * x * y + y + 2\n",
    "# Run the graph inside a session.\n",
    "# With the 'with' command, the session is set as the\n",
    "# default sesion\n",
    "with tf.Session() as sess:\n",
    "    # We need to initialize the variables before\n",
    "    # performing operations using them\n",
    "    x.initializer.run() # Equivalent to: tf.get_default_session().run(x.initializer)\n",
    "    y.initializer.run() # Equivalent to: tf.get_default_session().run(y.initializer)\n",
    "    result = f.eval()   # Equivalent to: tf.get_default_session().run(f)\n",
    "    \n",
    "print(result)"
   ]
  },
  {
   "cell_type": "code",
   "execution_count": null,
   "metadata": {
    "_cell_guid": "338b90a2-bc73-4f4d-bba4-1a0faebee202",
    "_uuid": "a149a0d1c964cbc0c6899d0415590dd2b9a2381f",
    "collapsed": true
   },
   "outputs": [],
   "source": [
    "# Removing every node inside the\n",
    "# default graph\n",
    "tf.reset_default_graph()\n",
    "\n",
    "# **CONSTRUCTION PHASE**\n",
    "x = tf.Variable(3, name=\"x\")\n",
    "y = tf.Variable(5, name=\"y\")\n",
    "f = x * x * y + y + 2\n",
    "\n",
    "# Add to the graph a step to initialize all variables\n",
    "# (we are not actually initializing the variables in this step)\n",
    "init = tf.global_variables_initializer()\n",
    "\n",
    "# **EXECUTION PHASE**\n",
    "with tf.Session() as ses:\n",
    "    init.run()\n",
    "    result = f.eval()\n",
    "\n",
    "print(result)"
   ]
  },
  {
   "cell_type": "markdown",
   "metadata": {
    "_cell_guid": "b2f81670-4bcb-4eb0-b2cc-8c4086b681c2",
    "_uuid": "2a4e49456415951dc2444caec922e0aa8bef091a"
   },
   "source": [
    "### Evaluating nodes"
   ]
  },
  {
   "cell_type": "code",
   "execution_count": null,
   "metadata": {
    "_cell_guid": "e25499c1-fb86-4a68-a4bb-089f7ed6e3cb",
    "_uuid": "520a411549831ee1c2bb61102de782b9723bb3d3",
    "collapsed": true,
    "scrolled": true
   },
   "outputs": [],
   "source": [
    "tf.reset_default_graph()\n",
    "# Whenever we evaluate a node, Tensorflow automatically\n",
    "# determines the set of nodes that it depends on.\n",
    "\n",
    "w  = tf.constant(3)\n",
    "x = w + 2\n",
    "y = x + 5\n",
    "z = x * 3\n",
    "\n",
    "init = tf.global_variables_initializer()\n",
    "# **The ineficient way to evaluate a set of nodes**\n",
    "# By evaluating (y, z) (nodes) the following way, TensorFlow\n",
    "# has to compute 'w' and 'x' twice in order to obtain (x, z)\n",
    "with tf.Session() as sess:\n",
    "    init.run()\n",
    "    print(y.eval())\n",
    "    print(z.eval())\n",
    "    \n",
    "tf.reset_default_graph()\n",
    "w  = tf.constant(3)\n",
    "x = w + 2\n",
    "y = x + 5\n",
    "z = x * 3\n",
    "\n",
    "print()\n",
    "init = tf.global_variables_initializer()\n",
    "# **The proper way to evaluate a set of nodes**\n",
    "with tf.Session() as sess:\n",
    "    init.run()\n",
    "    xres, yres = sess.run([y, z])\n",
    "    print(xres)\n",
    "    print(yres)"
   ]
  },
  {
   "cell_type": "markdown",
   "metadata": {
    "_cell_guid": "d2f311a6-a51e-4fe2-af22-34d940d730cc",
    "_uuid": "09e054b3fe9210414fc815e7e56cbe5196f65bd9"
   },
   "source": [
    "Operations in TensorFlow are called *ops*, `tf.constant` and `tf.Variable` are called *source ops* since they take no input. *Ops* with $n$ inputs and $m$ outputs are called *tensors*"
   ]
  },
  {
   "cell_type": "markdown",
   "metadata": {
    "_cell_guid": "f1add54c-3430-45ea-b6f4-fb234d8d8896",
    "_uuid": "7f09c7db5d86a04ea651dc5561ad4dee57d87550"
   },
   "source": [
    "#### Computing $\\theta^\\star$ with the normal equation"
   ]
  },
  {
   "cell_type": "code",
   "execution_count": null,
   "metadata": {
    "_cell_guid": "f3980145-8037-4f84-aa91-0dc149911f35",
    "_uuid": "13218dd14974bd75a0ab087e382d5c1e451b903f",
    "collapsed": true
   },
   "outputs": [],
   "source": [
    "tf.reset_default_graph()\n",
    "housing = pd.read_csv(\"../input/housing.csv\").dropna()\n",
    "m, n = housing.shape\n",
    "housing_data_bias = np.c_[np.ones((m, 1)), housing.drop([\"ocean_proximity\", \"median_house_value\"], axis=1).values]\n",
    "\n",
    "# Defining the computation graph \n",
    "X = tf.constant(housing_data_bias, dtype=tf.float32, name=\"X\")\n",
    "y = tf.constant(housing.median_house_value.values.reshape(-1, 1), dtype=tf.float32, name=\"y\")\n",
    "Xtranspose = tf.transpose(X)\n",
    "theta = tf.matrix_inverse(Xtranspose @ X) @ Xtranspose @ y\n",
    "\n",
    "with tf.Session(config=tf.ConfigProto(log_device_placement=True)) as sess:\n",
    "    #print(sess.list_devices())\n",
    "    theta_star = theta.eval()\n",
    "    sess.run(theta)"
   ]
  },
  {
   "cell_type": "markdown",
   "metadata": {
    "_cell_guid": "2db47547-c58e-43b6-b34c-d29dc7d61dde",
    "_uuid": "67630970e5a58295f0da3023bb31410b2ff7f53a"
   },
   "source": [
    "#### Computing $\\theta^\\star$ with Gradient Descent"
   ]
  }
 ],
 "metadata": {
  "kernelspec": {
   "display_name": "Python 3",
   "language": "python",
   "name": "python3"
  },
  "language_info": {
   "codemirror_mode": {
    "name": "ipython",
    "version": 3
   },
   "file_extension": ".py",
   "mimetype": "text/x-python",
   "name": "python",
   "nbconvert_exporter": "python",
   "pygments_lexer": "ipython3",
   "version": "3.6.5"
  }
 },
 "nbformat": 4,
 "nbformat_minor": 1
}
