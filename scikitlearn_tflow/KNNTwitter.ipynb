{
 "cells": [
  {
   "cell_type": "markdown",
   "metadata": {},
   "source": [
    "# KNN-Twitter"
   ]
  },
  {
   "cell_type": "code",
   "execution_count": 1,
   "metadata": {},
   "outputs": [
    {
     "ename": "ModuleNotFoundError",
     "evalue": "No module named 'twitter'",
     "output_type": "error",
     "traceback": [
      "\u001b[0;31m---------------------------------------------------------------------------\u001b[0m",
      "\u001b[0;31mModuleNotFoundError\u001b[0m                       Traceback (most recent call last)",
      "\u001b[0;32m<ipython-input-1-645f6dc1896f>\u001b[0m in \u001b[0;36m<module>\u001b[0;34m()\u001b[0m\n\u001b[0;32m----> 1\u001b[0;31m \u001b[0;32mimport\u001b[0m \u001b[0mtwitter\u001b[0m\u001b[0;34m\u001b[0m\u001b[0m\n\u001b[0m",
      "\u001b[0;31mModuleNotFoundError\u001b[0m: No module named 'twitter'"
     ]
    }
   ],
   "source": [
    "import twitter"
   ]
  },
  {
   "cell_type": "code",
   "execution_count": 3,
   "metadata": {
    "collapsed": true
   },
   "outputs": [],
   "source": [
    "consumer_key = \"WfD3cKu8nJA5ICnViZQ9pX3Dd\"\n",
    "consumer_secret = \"SDtwqyF4EexmYPcus0G01w8moYFO3MAzbLd1srRbeeq4fmMAq1\"\n",
    "access_token_key = \"729517590305898496-NXwrf0XP9O56UZaKWxdeBcjRbktq7ms\"\n",
    "access_token_secret = \"cfhN1iILlvY87VcS6qZ3KfqoTiJyLxLoBlITfvx6QIByO\"\n",
    "\n",
    "api = twitter.Api(consumer_key, consumer_secret, access_token_key, access_token_secret)"
   ]
  },
  {
   "cell_type": "code",
   "execution_count": 14,
   "metadata": {},
   "outputs": [
    {
     "name": "stdout",
     "output_type": "stream",
     "text": [
      "Mbussonn\n",
      "ML_Hipster\n",
      "chanep\n",
      "bcaffo\n",
      "QFinancePapers\n",
      "scikit_learn\n",
      "fermatslibrary\n",
      "AndreDM_\n",
      "_R_Foundation\n",
      "Murex_Group\n",
      "SVBusOficial\n",
      "demishassabis\n",
      "TensorFlo\n",
      "DeepMindAI\n",
      "ProjectJupyter\n",
      "AndrewYNg\n",
      "mhallsmoore\n",
      "random_forests\n",
      "gvanrossum\n",
      "TuringFinance\n",
      "SciPyTip\n",
      "mathshistory\n",
      "mathematicsprof\n",
      "diff_eq\n",
      "briefmeister\n",
      "sullychris1\n",
      "YhatHQ\n",
      "newsycombinator\n",
      "DataSciFact\n",
      "AnalysisFact\n",
      "ProbFact\n",
      "AlgebraFact\n",
      "quandl\n",
      "quantopian\n",
      "Quantocracy\n",
      "manehr\n"
     ]
    }
   ],
   "source": [
    "users = api.GetFriends()\n",
    "for friend in api.GetFriends():\n",
    "    print(friend.screen_name)"
   ]
  },
  {
   "cell_type": "code",
   "execution_count": 83,
   "metadata": {},
   "outputs": [
    {
     "data": {
      "text/plain": [
       "[Status(ID=882784353247539201, ScreenName=el_reportero, Created=Thu Jul 06 02:12:45 +0000 2017, Text='As odd as it might appear: the PRI is attempting to portray itself as the anti-corruption party 1/2 https://t.co/xAqwRBttpO'),\n",
       " Status(ID=882784339825750016, ScreenName=Quarlitha, Created=Thu Jul 06 02:12:42 +0000 2017, Text='No más gorda (at @SmartFit_mex in Magdalena Contreras) https://t.co/GEFnjT2RGd'),\n",
       " Status(ID=882784328802906113, ScreenName=MaltaLupulo, Created=Thu Jul 06 02:12:39 +0000 2017, Text='Grato ser reconocido como BeerSomm y me traigan cerveza a temperatura de cata o chance no enfriaron suficientes… https://t.co/pLkwmicQZg'),\n",
       " Status(ID=882784319458115585, ScreenName=montecristoem, Created=Thu Jul 06 02:12:37 +0000 2017, Text=\"I'm at Expomaraton Ciudad de México https://t.co/wIDJVhh9dk\"),\n",
       " Status(ID=882784319118475265, ScreenName=iSoyHigareda, Created=Thu Jul 06 02:12:37 +0000 2017, Text='Pa cuando tú y yo acostados viendo netflix???'),\n",
       " Status(ID=882784301787500545, ScreenName=joseferchis, Created=Thu Jul 06 02:12:33 +0000 2017, Text='Ausencia total de decencia https://t.co/cVXgxRYZCL es un problema psicológico!'),\n",
       " Status(ID=882784287639994369, ScreenName=fernandeznorona, Created=Thu Jul 06 02:12:30 +0000 2017, Text='¡Pobre Venezuela! https://t.co/SS2NGxYH1B')]"
      ]
     },
     "execution_count": 83,
     "metadata": {},
     "output_type": "execute_result"
    }
   ],
   "source": [
    "search = api.GetSearch(geocode=(19.2990190, -99.1255540, \"30km\"), count=100)\n",
    "search"
   ]
  },
  {
   "cell_type": "code",
   "execution_count": 77,
   "metadata": {},
   "outputs": [
    {
     "data": {
      "text/plain": [
       "[]"
      ]
     },
     "execution_count": 77,
     "metadata": {},
     "output_type": "execute_result"
    }
   ],
   "source": [
    "api.GetSearch('?geocode=\"19.2990190,-99.1255540,10mi\"')"
   ]
  },
  {
   "cell_type": "code",
   "execution_count": 61,
   "metadata": {},
   "outputs": [
    {
     "name": "stdout",
     "output_type": "stream",
     "text": [
      "{'type': 'Point', 'coordinates': [19.41274, -99.1671]}\n",
      "None\n",
      "None\n"
     ]
    }
   ],
   "source": [
    "for s in search:\n",
    "    print(s.geo)"
   ]
  }
 ],
 "metadata": {
  "kernelspec": {
   "display_name": "Python 3",
   "language": "python",
   "name": "python3"
  },
  "language_info": {
   "codemirror_mode": {
    "name": "ipython",
    "version": 3
   },
   "file_extension": ".py",
   "mimetype": "text/x-python",
   "name": "python",
   "nbconvert_exporter": "python",
   "pygments_lexer": "ipython3",
   "version": "3.6.1"
  }
 },
 "nbformat": 4,
 "nbformat_minor": 2
}
