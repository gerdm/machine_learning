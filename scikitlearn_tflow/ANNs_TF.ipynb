{
 "cells": [
  {
   "cell_type": "markdown",
   "metadata": {},
   "source": [
    "# Intro ANNs\n",
    "## In TensorFlow"
   ]
  },
  {
   "cell_type": "code",
   "execution_count": 4,
   "metadata": {},
   "outputs": [],
   "source": [
    "import tensorflow as tf\n",
    "from tensorflow.contrib.layers import fully_connected\n",
    "from tensorflow.examples.tutorials.mnist import input_data\n",
    "from datetime import datetime"
   ]
  },
  {
   "cell_type": "code",
   "execution_count": 5,
   "metadata": {},
   "outputs": [
    {
     "name": "stdout",
     "output_type": "stream",
     "text": [
      "Successfully downloaded train-images-idx3-ubyte.gz 9912422 bytes.\n",
      "Extracting /tmp/data/train-images-idx3-ubyte.gz\n",
      "Successfully downloaded train-labels-idx1-ubyte.gz 28881 bytes.\n",
      "Extracting /tmp/data/train-labels-idx1-ubyte.gz\n",
      "Successfully downloaded t10k-images-idx3-ubyte.gz 1648877 bytes.\n",
      "Extracting /tmp/data/t10k-images-idx3-ubyte.gz\n",
      "Successfully downloaded t10k-labels-idx1-ubyte.gz 4542 bytes.\n",
      "Extracting /tmp/data/t10k-labels-idx1-ubyte.gz\n"
     ]
    }
   ],
   "source": [
    "mnist = input_data.read_data_sets(\"/tmp/data/\")"
   ]
  },
  {
   "cell_type": "markdown",
   "metadata": {},
   "source": [
    "### Step 1. Building the Computation Graph"
   ]
  },
  {
   "cell_type": "code",
   "execution_count": 3,
   "metadata": {},
   "outputs": [
    {
     "data": {
      "text/plain": [
       "'20180515'"
      ]
     },
     "execution_count": 3,
     "metadata": {},
     "output_type": "execute_result"
    }
   ],
   "source": [
    "datetime.now().strftime(\"%Y%m%d\")"
   ]
  },
  {
   "cell_type": "code",
   "execution_count": 49,
   "metadata": {},
   "outputs": [],
   "source": [
    "now = datetime.now().strftime(\"%Y%m%d\")\n",
    "outfile = f\"./tf_logs/run-{now}\"\n",
    "\n",
    "tf.reset_default_graph()\n",
    "\n",
    "n_inputs = 28 * 28\n",
    "n_hidden1 = 300\n",
    "n_hidden2 = 100\n",
    "n_outputs = 10\n",
    "\n",
    "X = tf.placeholder(tf.float32, shape=(None, n_inputs), name=\"X\")\n",
    "y = tf.placeholder(tf.int32, shape=(None), name=\"y\")\n",
    "\n",
    "with tf.name_scope(\"dnn\"):\n",
    "    hidden1 = fully_connected(X, n_hidden1, activation_fn=tf.nn.elu, \n",
    "                              scope=\"hidden1\")\n",
    "    hidden2 = fully_connected(hidden1, n_hidden2, activation_fn=tf.nn.elu,\n",
    "                              scope=\"hidden2\")\n",
    "    logits = fully_connected(hidden2, n_outputs, scope=\"outputs\",\n",
    "                             activation_fn=None)\n",
    "\n",
    "with tf.name_scope(\"loss\"):\n",
    "    xentropy = tf.nn.sparse_softmax_cross_entropy_with_logits(\n",
    "                labels=y, logits=logits)\n",
    "    loss = tf.reduce_mean(xentropy, name=\"loss\")\n",
    "\n",
    "learning_rate = 0.01\n",
    "with tf.name_scope(\"train\"):\n",
    "    optimizer = tf.train.GradientDescentOptimizer(learning_rate)\n",
    "    train_step = optimizer.minimize(loss)\n",
    "    \n",
    "with tf.name_scope(\"eval\"):\n",
    "    correct = tf.nn.in_top_k(logits, y, 1)\n",
    "    accuracy = tf.reduce_mean(tf.cast(correct, tf.float32))\n",
    "    summary_acc = tf.summary.scalar(\"Accuracy\", accuracy)\n",
    "    file_writer = tf.summary.FileWriter(outfile, tf.get_default_graph())\n",
    "    \n",
    "init = tf.global_variables_initializer()\n",
    "saver = tf.train.Saver()"
   ]
  },
  {
   "cell_type": "markdown",
   "metadata": {},
   "source": [
    "## Step 2. Execution Phase"
   ]
  },
  {
   "cell_type": "code",
   "execution_count": 50,
   "metadata": {
    "scrolled": false
   },
   "outputs": [
    {
     "name": "stdout",
     "output_type": "stream",
     "text": [
      "@Epoch 0. Train Acc: 90.000% | Test Acc: 89.345%\n",
      "@Epoch 10. Train Acc: 98.000% | Test Acc: 94.942%\n",
      "@Epoch 20. Train Acc: 94.000% | Test Acc: 96.642%%\n",
      "@Epoch 30. Train Acc: 100.000% | Test Acc: 97.555%\n",
      "@Epoch 40. Train Acc: 100.000% | Test Acc: 98.204%\n",
      "@Epoch 50. Train Acc: 100.000% | Test Acc: 98.556%\n",
      "@Epoch 60. Train Acc: 100.000% | Test Acc: 98.887%\n",
      "@Epoch 69. Train Acc: 100.000% | Test Acc: 99.167%\r"
     ]
    }
   ],
   "source": [
    "n_epochs = 70\n",
    "batch_size = 50\n",
    "batch_iterations = mnist.train.num_examples // batch_size\n",
    "\n",
    "with tf.Session() as sess:\n",
    "    sess.run(init)\n",
    "    for epoch in range(n_epochs):\n",
    "        for iteration in range(batch_iterations):\n",
    "            X_batch, y_batch = mnist.train.next_batch(batch_size)\n",
    "            sess.run(train_step, feed_dict={X: X_batch, y:y_batch})\n",
    "            \n",
    "        acc_train = sess.run(accuracy, feed_dict={X:X_batch, y:y_batch})\n",
    "        acc_test = sess.run(accuracy, feed_dict={X:mnist.train.images,\n",
    "                                                 y:mnist.train.labels})\n",
    "        end = \"\\n\" if epoch % 10 == 0 else \"\\r\"\n",
    "        print(f\"@Epoch {epoch}. Train Acc: {acc_train:0.3%} | Test Acc: {acc_test:0.3%}\", end=end)\n",
    "        tboard_loss = summary_acc.eval(feed_dict={X: X_batch, y:y_batch})\n",
    "        file_writer.add_summary(tboard_loss, epoch)    \n",
    "    save_path = saver.save(sess, \"./tmp/my_model_final.ckpt\")\n",
    "file_writer.close()"
   ]
  },
  {
   "cell_type": "markdown",
   "metadata": {},
   "source": [
    "## Batch Normalization in TensorFlow"
   ]
  },
  {
   "cell_type": "code",
   "execution_count": 51,
   "metadata": {},
   "outputs": [],
   "source": [
    "from tensorflow.contrib.layers import fully_connected, batch_norm"
   ]
  },
  {
   "cell_type": "code",
   "execution_count": 53,
   "metadata": {},
   "outputs": [],
   "source": [
    "tf.reset_default_graph()\n",
    "n_inputs = 28 * 28\n",
    "n_hidden1 = 300\n",
    "n_hidden2 = 100\n",
    "n_outputs = 10\n",
    "\n",
    "X = tf.placeholder(tf.float32, shape=(None, n_inputs), name=\"X\")\n",
    "y = tf.placeholder(tf.int32, shape=(None), name=\"y\")\n",
    "\n",
    "is_training = tf.placeholder(tf.bool, shape=(), name=\"is_training\")\n",
    "bn_params = {\n",
    "    \"is_training\": is_training,\n",
    "    \"decay\": 0.999, # The exponential decay hyperparameter\n",
    "    \"updates_collections\": None\n",
    "}\n",
    "\n",
    "with tf.name_scope(\"dnn\"):\n",
    "    ###  Argument Scopes ### \n",
    "    # In order to aviod repetition,\n",
    "    # the first parameter is a list of functions,\n",
    "    # and the other parameters will be passed to\n",
    "    # these functions automatically.\n",
    "    with tf.contrib.framework.arg_scope(\n",
    "        [fully_connected],\n",
    "        normalizer_fn=batch_norm,\n",
    "        normalizer_params=bn_params\n",
    "    ):\n",
    "        hidden1 = fully_connected(X, n_hidden1, activation_fn=tf.nn.elu,\n",
    "                                  scope=\"hidden1\")\n",
    "        hidden2 = fully_connected(hidden1, n_hidden2, activation_fn=tf.nn.elu,\n",
    "                                  scope=\"hidden2\")\n",
    "        logits = fully_connected(hidden2, n_outputs, activation_fn=None,\n",
    "                                 scope=\"logits\")\n",
    "\n",
    "with tf.name_scope(\"loss\"):\n",
    "    xentropy = tf.nn.sparse_softmax_cross_entropy_with_logits(\n",
    "        labels=y,\n",
    "        logits=logits\n",
    "    )\n",
    "    loss = tf.reduce_mean(xentropy, name=\"loss\")\n",
    "\n",
    "learning_rate = 0.01\n",
    "with tf.name_scope(\"train\"):\n",
    "    optimizer = tf.train.GradientDescentOptimizer(learning_rate)\n",
    "    train_step = optimizer.minimize(loss)\n",
    "\n",
    "with tf.name_scope(\"evaluate\"):\n",
    "    correct = tf.nn.in_top_k(logits, y, 1)\n",
    "    accuracy = tf.reduce_mean(tf.cast(correct, tf.float32))\n",
    "\n",
    "init = tf.global_variables_initializer()"
   ]
  },
  {
   "cell_type": "code",
   "execution_count": 55,
   "metadata": {},
   "outputs": [
    {
     "name": "stdout",
     "output_type": "stream",
     "text": [
      "Accuracy @Epoch 0: 87.695%\n",
      "Accuracy @Epoch 10: 89.489%\n",
      "Accuracy @Epoch 20: 87.689%\n",
      "Accuracy @Epoch 30: 90.333%\n",
      "Accuracy @Epoch 40: 88.845%\n",
      "Accuracy @Epoch 50: 89.882%\n",
      "Accuracy @Epoch 60: 89.269%\n",
      "Accuracy @Epoch 69: 87.873%\r"
     ]
    }
   ],
   "source": [
    "epochs = 70\n",
    "batch_size = 50\n",
    "batch_iterations = mnist.train.num_examples // batch_size\n",
    "\n",
    "with tf.Session() as sess:\n",
    "    for epoch in range(epochs):\n",
    "        sess.run(init)\n",
    "        for it in range(batch_iterations):\n",
    "            X_batch, y_batch = mnist.train.next_batch(batch_size)\n",
    "            sess.run(train_step,\n",
    "                     feed_dict={X:X_batch, y:y_batch, is_training:True})\n",
    "        acc_mnist = sess.run(accuracy,\n",
    "                             feed_dict={X:mnist.train.images,\n",
    "                                        y:mnist.train.labels,\n",
    "                                        is_training:False})\n",
    "        end = \"\\n\" if epoch % 10 == 0 else \"\\r\"\n",
    "        print(f\"Accuracy @Epoch {epoch}: {acc_mnist:0.3%}\", end=end)"
   ]
  },
  {
   "cell_type": "markdown",
   "metadata": {},
   "source": [
    "## Gradient Clipping\n",
    "In order to lessen the exploding gradients problem"
   ]
  },
  {
   "cell_type": "code",
   "execution_count": 15,
   "metadata": {},
   "outputs": [],
   "source": [
    "tf.reset_default_graph()\n",
    "\n",
    "n_inputs = 28 * 28\n",
    "n_hidden1 = 300\n",
    "n_hidden2 = 100\n",
    "n_outputs = 10\n",
    "\n",
    "X = tf.placeholder(tf.float32, shape=(None, n_inputs), name=\"X\")\n",
    "y = tf.placeholder(tf.int32, shape=(None), name=\"y\")\n",
    "\n",
    "with tf.name_scope(\"dnn\"):\n",
    "    hidden1 = fully_connected(X, n_hidden1, scope=\"hidden1\")\n",
    "    hidden2 = fully_connected(hidden1, n_hidden2, scope=\"hidden2\")\n",
    "    logits = fully_connected(hidden2, n_outputs, activation_fn=None,\n",
    "                             scope=\"logits\")\n",
    "    \n",
    "#### GRADIENT CLIPPING IMPLEMENTATION ####\n",
    "# In tensorflow, the optimizer’s minimize() function\n",
    "# takes care of both computing the gradients and applying them,\n",
    "# so you must instead call the optimizer’s compute_gradients()\n",
    "# method first, then create an operation to clip the gradients\n",
    "# using the clip_by_value() function, and finally create an operation\n",
    "# to apply the clipped gradients using the optimizer’s apply_gradients() method\n",
    "with tf.name_scope(\"loss\"):\n",
    "    xentropy = tf.nn.sparse_softmax_cross_entropy_with_logits(\n",
    "        labels=y, logits=logits)\n",
    "    loss = tf.reduce_mean(xentropy, name=\"loss\")\n",
    "    \n",
    "learning_rate = 0.01\n",
    "with tf.name_scope(\"train\"):\n",
    "    threshold = 1.0\n",
    "    optimizer = tf.train.GradientDescentOptimizer(learning_rate)\n",
    "    grads_and_vars = optimizer.compute_gradients(loss)\n",
    "    capped_gvs = [(tf.clip_by_value(grad, -threshold, threshold), var)\n",
    "                  for grad, var in grads_and_vars]\n",
    "    train_step = optimizer.apply_gradients(capped_gvs)\n",
    "\n",
    "with tf.name_scope(\"evaluate\"):\n",
    "    correct = tf.nn.in_top_k(logits, y, 1)\n",
    "    accuracy = tf.reduce_mean(tf.cast(correct, tf.float32))\n",
    "    \n",
    "init = tf.global_variables_initializer()"
   ]
  },
  {
   "cell_type": "code",
   "execution_count": 21,
   "metadata": {},
   "outputs": [
    {
     "name": "stdout",
     "output_type": "stream",
     "text": [
      "@Epoch 0. Test accuracy: 89.5000%\n",
      "@Epoch 10. Test accuracy: 96.5891%\n",
      "@Epoch 20. Test accuracy: 98.0891%\n",
      "@Epoch 30. Test accuracy: 98.8727%\n",
      "@Epoch 40. Test accuracy: 99.2764%\n",
      "@Epoch 50. Test accuracy: 99.6564%\n",
      "@Epoch 60. Test accuracy: 99.7618%\n",
      "@Epoch 69. Test accuracy: 99.8909%\r"
     ]
    }
   ],
   "source": [
    "n_epochs = 70\n",
    "batch_size = 50\n",
    "batch_iterations = mnist.train.num_examples // batch_size\n",
    "\n",
    "\n",
    "with tf.Session() as sess:\n",
    "    sess.run(init)\n",
    "    for epoch in range(n_epochs):\n",
    "        for it in range(batch_iterations):\n",
    "            X_batch, y_batch = mnist.train.next_batch(batch_size)\n",
    "            sess.run(train_step, feed_dict={X:X_batch, y:y_batch})\n",
    "            \n",
    "        test_acc = sess.run(accuracy,\n",
    "                            feed_dict={X:mnist.train.images,\n",
    "                                       y:mnist.train.labels})\n",
    "        end = \"\\n\" if epoch % 10 == 0 else \"\\r\"\n",
    "        print(f\"@Epoch {epoch}. Test accuracy: {test_acc:0.4%}\", end=end)"
   ]
  },
  {
   "cell_type": "markdown",
   "metadata": {},
   "source": [
    "# Exercises"
   ]
  },
  {
   "cell_type": "markdown",
   "metadata": {},
   "source": [
    "**1. Is it okay to initialize all the weights to the same value as long as that value is selected randomly using He initialization?**  \n",
    "No, since initializing all weights to the same value would not allow backprop to break the *symmetry*, i.e., for each neuron in a given layer, their values would remain the same at evey step of the learning process.\n",
    "\n",
    "**2. Is it okay to initialize the bias terms to 0?**  \n",
    "Yes. Bias neurons do not suffer from the symmetry problem presented in other neurons.\n",
    "\n",
    "\n",
    "**3. Name three advantages of the ELU activation function over ReLU.**\n",
    "1. Smooth everywhere, which in turn helps speeding up gradient descent.\n",
    "2. Has non-zero gradient at $z < 0$, which helps preventing the dying neuron problem\n",
    "3. Considering initialization with standard normal, it helps with the vanishing gradient problem, since its average value is 0,\n",
    "\n",
    "\n",
    "**4. In which cases would you want to use each of the following activation functions: ELU, leaky ReLU (and its variants), ReLU, tanh, logistic, and softmax?**\n",
    "\n",
    "**5. What may happen if you set the momentum hyperparameter too close to 1 (e.g., 0.99999) when using a MomentumOptimizer?**  \n",
    "We expect the learning rate to shoot up, since, as $\\beta \\to 1$ and $k\\to\\infty$, $m_k \\to \\infty$\n",
    "\n",
    "\n",
    "**6. Name three ways you can produce a sparse model.**\n",
    "1. Set small weights to 0\n",
    "2. Use a strong $L_1$ regularization scheme\n",
    "3. Dual Averaging\n",
    "\n",
    "**7. Does dropout slow down training? Does it slow down inference (i.e., making predictions on new instances)?**\n"
   ]
  },
  {
   "cell_type": "markdown",
   "metadata": {},
   "source": [
    "**8. Deep Learning.**\n",
    "\n",
    "a. Build a DNN with five hidden layers of 100 neurons each, He initialization, and the ELU activation function.\n",
    "\n",
    "b. Using Adam optimization and early stopping, try training it on MNIST but only on digits 0 to 4, as we will use transfer learning for digits 5 to 9 in the next exercise. You will need a softmax output layer with five neurons, and as always make sure to save checkpoints at regular intervals and save the final model so you can reuse it later.\n",
    "\n",
    "c. Tune the hyperparameters using cross-validation and see what precision you can achieve.\n",
    "\n",
    "d. Now try adding Batch Normalization and compare the learning curves: is it converging faster than before? Does it produce a better model?\n",
    "\n",
    "e. Is the model overfitting the training set? Try adding dropout to every layer and try again. Does it help?"
   ]
  },
  {
   "cell_type": "code",
   "execution_count": 11,
   "metadata": {},
   "outputs": [],
   "source": [
    "from tensorflow.contrib.layers import fully_connected"
   ]
  },
  {
   "cell_type": "code",
   "execution_count": 12,
   "metadata": {},
   "outputs": [],
   "source": [
    "tf.reset_default_graph()\n",
    "\n",
    "n_inputs = 28 * 28\n",
    "n_hidden = 100\n",
    "n_output = 5\n",
    "\n",
    "X = tf.placeholder(tf.float32, shape=(None, n_inputs), name=\"X\")\n",
    "y = tf.placeholder(tf.int32, shape=(None), name=\"y\")\n",
    "\n",
    "with tf.name_scope(\"dnn\"):\n",
    "    hidden1 = fully_connected(X, n_hidden, activation_fn=tf.nn.elu, scope=\"hidden1\")\n",
    "    hidden2 = fully_connected(hidden1, n_hidden, activation_fn=tf.nn.elu, scope=\"hidden2\")\n",
    "    hidden3 = fully_connected(hidden2, n_hidden, activation_fn=tf.nn.elu, scope=\"hidden3\")\n",
    "    hidden4 = fully_connected(hidden3, n_hidden, activation_fn=tf.nn.elu, scope=\"hidden4\")\n",
    "    hidden5 = fully_connected(hidden4, n_hidden, activation_fn=tf.nn.elu, scope=\"hidden5\")\n",
    "    output = fully_connected(hidden5, n_output, activation_fn=None, scope=\"output\")\n",
    "\n",
    "with tf.name_scope(\"loss\"):\n",
    "    xentropy = tf.nn.sparse_softmax_cross_entropy_with_logits(\n",
    "        labels=y,\n",
    "        logits=output\n",
    "    )\n",
    "    loss = tf.reduce_mean(xentropy, name=\"loss\")\n",
    "\n",
    "alpha = 0.1\n",
    "with tf.name_scope(\"train\"):\n",
    "    optimizer = tf.train.AdamOptimizer()\n",
    "\n",
    "with tf.name_scope(\"metrics\"):\n",
    "    pass"
   ]
  },
  {
   "cell_type": "markdown",
   "metadata": {},
   "source": [
    "**9. Transfer learning.**\n",
    "\n",
    "a. Create a new DNN that reuses all the pretrained hidden layers of the previous model, freezes them, and replaces the softmax output layer with a fresh new one.\n",
    "\n",
    "b. Train this new DNN on digits 5 to 9, using only 100 images per digit, and time how long it takes. Despite this small number of examples, can you achieve high precision?\n",
    "\n",
    "c. Try caching the frozen layers, and train the model again: how much faster is it now?\n",
    "\n",
    "d. Try again reusing just four hidden layers instead of five. Can you achieve a higher precision?\n",
    "\n",
    "e. Now unfreeze the top two hidden layers and continue training: can you get the model to perform even better?"
   ]
  },
  {
   "cell_type": "markdown",
   "metadata": {},
   "source": [
    "**10. Pretraining on an auxiliary task.**\n",
    "\n",
    "a. In this exercise you will build a DNN that compares two MNIST digit images and predicts whether they represent the same digit or not. Then you will reuse the lower layers of this network to train an MNIST classifier using very little training data. Start by building two DNNs (let’s call them DNN A and B), both similar to the one you built earlier but without the output layer: each DNN should have five hidden layers of 100 neurons each, He initialization, and ELU activation. Next, add a single output layer on top of both DNNs. You should use TensorFlow’s concat() function with axis=1 to concatenate the outputs of both DNNs along the horizontal axis, then feed the result to the output layer. This output layer should contain a single neuron using the logistic activation function.\n",
    "\n",
    "b. Split the MNIST training set in two sets: split #1 should containing 55,000 images, and split #2 should contain contain 5,000 images. Create a function that generates a training batch where each instance is a pair of MNIST images picked from split #1. Half of the training instances should be pairs of images that belong to the same class, while the other half should be images from different classes. For each pair, the training label should be 0 if the images are from the same class, or 1 if they are from different classes.\n",
    "\n",
    "c. Train the DNN on this training set. For each image pair, you can simultaneously feed the first image to DNN A and the second image to DNN B. The whole network will gradually learn to tell whether two images belong to the same class or not.\n",
    "\n",
    "d. Now create a new DNN by reusing and freezing the hidden layers of DNN A and adding a softmax output layer on with 10 neurons. Train this network on split #2 and see if you can achieve high performance despite having only 500 images per class."
   ]
  }
 ],
 "metadata": {
  "kernelspec": {
   "display_name": "Python 3",
   "language": "python",
   "name": "python3"
  },
  "language_info": {
   "codemirror_mode": {
    "name": "ipython",
    "version": 3
   },
   "file_extension": ".py",
   "mimetype": "text/x-python",
   "name": "python",
   "nbconvert_exporter": "python",
   "pygments_lexer": "ipython3",
   "version": "3.6.5"
  }
 },
 "nbformat": 4,
 "nbformat_minor": 2
}
