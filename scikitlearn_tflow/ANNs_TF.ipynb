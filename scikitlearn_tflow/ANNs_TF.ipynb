{
 "cells": [
  {
   "cell_type": "markdown",
   "metadata": {},
   "source": [
    "# Intro ANNs\n",
    "## In TensorFlow"
   ]
  },
  {
   "cell_type": "code",
   "execution_count": 1,
   "metadata": {},
   "outputs": [],
   "source": [
    "import tensorflow as tf\n",
    "from tensorflow.contrib.layers import fully_connected\n",
    "from tensorflow.examples.tutorials.mnist import input_data\n",
    "from datetime import datetime"
   ]
  },
  {
   "cell_type": "code",
   "execution_count": 2,
   "metadata": {},
   "outputs": [
    {
     "name": "stdout",
     "output_type": "stream",
     "text": [
      "Extracting /tmp/data/train-images-idx3-ubyte.gz\n",
      "Extracting /tmp/data/train-labels-idx1-ubyte.gz\n",
      "Extracting /tmp/data/t10k-images-idx3-ubyte.gz\n",
      "Extracting /tmp/data/t10k-labels-idx1-ubyte.gz\n"
     ]
    }
   ],
   "source": [
    "mnist = input_data.read_data_sets(\"/tmp/data/\")"
   ]
  },
  {
   "cell_type": "markdown",
   "metadata": {},
   "source": [
    "### Step 1. Building the Computation Graph"
   ]
  },
  {
   "cell_type": "code",
   "execution_count": 3,
   "metadata": {},
   "outputs": [
    {
     "data": {
      "text/plain": [
       "'20180515'"
      ]
     },
     "execution_count": 3,
     "metadata": {},
     "output_type": "execute_result"
    }
   ],
   "source": [
    "datetime.now().strftime(\"%Y%m%d\")"
   ]
  },
  {
   "cell_type": "code",
   "execution_count": 49,
   "metadata": {},
   "outputs": [],
   "source": [
    "now = datetime.now().strftime(\"%Y%m%d\")\n",
    "outfile = f\"./tf_logs/run-{now}\"\n",
    "\n",
    "tf.reset_default_graph()\n",
    "\n",
    "n_inputs = 28 * 28\n",
    "n_hidden1 = 300\n",
    "n_hidden2 = 100\n",
    "n_outputs = 10\n",
    "\n",
    "X = tf.placeholder(tf.float32, shape=(None, n_inputs), name=\"X\")\n",
    "y = tf.placeholder(tf.int32, shape=(None), name=\"y\")\n",
    "\n",
    "with tf.name_scope(\"dnn\"):\n",
    "    hidden1 = fully_connected(X, n_hidden1, activation_fn=tf.nn.elu, \n",
    "                              scope=\"hidden1\")\n",
    "    hidden2 = fully_connected(hidden1, n_hidden2, activation_fn=tf.nn.elu,\n",
    "                              scope=\"hidden2\")\n",
    "    logits = fully_connected(hidden2, n_outputs, scope=\"outputs\",\n",
    "                             activation_fn=None)\n",
    "\n",
    "with tf.name_scope(\"loss\"):\n",
    "    xentropy = tf.nn.sparse_softmax_cross_entropy_with_logits(\n",
    "                labels=y, logits=logits)\n",
    "    loss = tf.reduce_mean(xentropy, name=\"loss\")\n",
    "\n",
    "learning_rate = 0.01\n",
    "with tf.name_scope(\"train\"):\n",
    "    optimizer = tf.train.GradientDescentOptimizer(learning_rate)\n",
    "    train_step = optimizer.minimize(loss)\n",
    "    \n",
    "with tf.name_scope(\"eval\"):\n",
    "    correct = tf.nn.in_top_k(logits, y, 1)\n",
    "    accuracy = tf.reduce_mean(tf.cast(correct, tf.float32))\n",
    "    summary_acc = tf.summary.scalar(\"Accuracy\", accuracy)\n",
    "    file_writer = tf.summary.FileWriter(outfile, tf.get_default_graph())\n",
    "    \n",
    "init = tf.global_variables_initializer()\n",
    "saver = tf.train.Saver()"
   ]
  },
  {
   "cell_type": "markdown",
   "metadata": {},
   "source": [
    "## Step 2. Execution Phase"
   ]
  },
  {
   "cell_type": "code",
   "execution_count": 50,
   "metadata": {
    "scrolled": false
   },
   "outputs": [
    {
     "name": "stdout",
     "output_type": "stream",
     "text": [
      "@Epoch 0. Train Acc: 90.000% | Test Acc: 89.345%\n",
      "@Epoch 10. Train Acc: 98.000% | Test Acc: 94.942%\n",
      "@Epoch 20. Train Acc: 94.000% | Test Acc: 96.642%%\n",
      "@Epoch 30. Train Acc: 100.000% | Test Acc: 97.555%\n",
      "@Epoch 40. Train Acc: 100.000% | Test Acc: 98.204%\n",
      "@Epoch 50. Train Acc: 100.000% | Test Acc: 98.556%\n",
      "@Epoch 60. Train Acc: 100.000% | Test Acc: 98.887%\n",
      "@Epoch 69. Train Acc: 100.000% | Test Acc: 99.167%\r"
     ]
    }
   ],
   "source": [
    "n_epochs = 70\n",
    "batch_size = 50\n",
    "batch_iterations = mnist.train.num_examples // batch_size\n",
    "\n",
    "with tf.Session() as sess:\n",
    "    sess.run(init)\n",
    "    for epoch in range(n_epochs):\n",
    "        for iteration in range(batch_iterations):\n",
    "            X_batch, y_batch = mnist.train.next_batch(batch_size)\n",
    "            sess.run(train_step, feed_dict={X: X_batch, y:y_batch})\n",
    "            \n",
    "        acc_train = sess.run(accuracy, feed_dict={X:X_batch, y:y_batch})\n",
    "        acc_test = sess.run(accuracy, feed_dict={X:mnist.train.images,\n",
    "                                                 y:mnist.train.labels})\n",
    "        end = \"\\n\" if epoch % 10 == 0 else \"\\r\"\n",
    "        print(f\"@Epoch {epoch}. Train Acc: {acc_train:0.3%} | Test Acc: {acc_test:0.3%}\", end=end)\n",
    "        tboard_loss = summary_acc.eval(feed_dict={X: X_batch, y:y_batch})\n",
    "        file_writer.add_summary(tboard_loss, epoch)    \n",
    "    save_path = saver.save(sess, \"./tmp/my_model_final.ckpt\")\n",
    "file_writer.close()"
   ]
  },
  {
   "cell_type": "markdown",
   "metadata": {},
   "source": [
    "## Batch Normalization in TensorFlow"
   ]
  },
  {
   "cell_type": "code",
   "execution_count": 51,
   "metadata": {},
   "outputs": [],
   "source": [
    "from tensorflow.contrib.layers import fully_connected, batch_norm"
   ]
  },
  {
   "cell_type": "code",
   "execution_count": 53,
   "metadata": {},
   "outputs": [],
   "source": [
    "tf.reset_default_graph()\n",
    "n_inputs = 28 * 28\n",
    "n_hidden1 = 300\n",
    "n_hidden2 = 100\n",
    "n_outputs = 10\n",
    "\n",
    "X = tf.placeholder(tf.float32, shape=(None, n_inputs), name=\"X\")\n",
    "y = tf.placeholder(tf.int32, shape=(None), name=\"y\")\n",
    "\n",
    "is_training = tf.placeholder(tf.bool, shape=(), name=\"is_training\")\n",
    "bn_params = {\n",
    "    \"is_training\": is_training,\n",
    "    \"decay\": 0.999, # The exponential decay hyperparameter\n",
    "    \"updates_collections\": None\n",
    "}\n",
    "\n",
    "with tf.name_scope(\"dnn\"):\n",
    "    ###  Argument Scopes ### \n",
    "    # In order to aviod repetition,\n",
    "    # the first parameter is a list of functions,\n",
    "    # and the other parameters will be passed to\n",
    "    # these functions automatically.\n",
    "    with tf.contrib.framework.arg_scope(\n",
    "        [fully_connected],\n",
    "        normalizer_fn=batch_norm,\n",
    "        normalizer_params=bn_params\n",
    "    ):\n",
    "        hidden1 = fully_connected(X, n_hidden1, activation_fn=tf.nn.elu,\n",
    "                                  scope=\"hidden1\")\n",
    "        hidden2 = fully_connected(hidden1, n_hidden2, activation_fn=tf.nn.elu,\n",
    "                                  scope=\"hidden2\")\n",
    "        logits = fully_connected(hidden2, n_outputs, activation_fn=None,\n",
    "                                 scope=\"logits\")\n",
    "\n",
    "with tf.name_scope(\"loss\"):\n",
    "    xentropy = tf.nn.sparse_softmax_cross_entropy_with_logits(\n",
    "        labels=y,\n",
    "        logits=logits\n",
    "    )\n",
    "    loss = tf.reduce_mean(xentropy, name=\"loss\")\n",
    "\n",
    "learning_rate = 0.01\n",
    "with tf.name_scope(\"train\"):\n",
    "    optimizer = tf.train.GradientDescentOptimizer(learning_rate)\n",
    "    train_step = optimizer.minimize(loss)\n",
    "\n",
    "with tf.name_scope(\"evaluate\"):\n",
    "    correct = tf.nn.in_top_k(logits, y, 1)\n",
    "    accuracy = tf.reduce_mean(tf.cast(correct, tf.float32))\n",
    "\n",
    "init = tf.global_variables_initializer()"
   ]
  },
  {
   "cell_type": "code",
   "execution_count": 55,
   "metadata": {},
   "outputs": [
    {
     "name": "stdout",
     "output_type": "stream",
     "text": [
      "Accuracy @Epoch 0: 87.695%\n",
      "Accuracy @Epoch 10: 89.489%\n",
      "Accuracy @Epoch 20: 87.689%\n",
      "Accuracy @Epoch 30: 90.333%\n",
      "Accuracy @Epoch 40: 88.845%\n",
      "Accuracy @Epoch 50: 89.882%\n",
      "Accuracy @Epoch 60: 89.269%\n",
      "Accuracy @Epoch 69: 87.873%\r"
     ]
    }
   ],
   "source": [
    "epochs = 70\n",
    "batch_size = 50\n",
    "batch_iterations = mnist.train.num_examples // batch_size\n",
    "\n",
    "with tf.Session() as sess:\n",
    "    for epoch in range(epochs):\n",
    "        sess.run(init)\n",
    "        for it in range(batch_iterations):\n",
    "            X_batch, y_batch = mnist.train.next_batch(batch_size)\n",
    "            sess.run(train_step,\n",
    "                     feed_dict={X:X_batch, y:y_batch, is_training:True})\n",
    "        acc_mnist = sess.run(accuracy,\n",
    "                             feed_dict={X:mnist.train.images,\n",
    "                                        y:mnist.train.labels,\n",
    "                                        is_training:False})\n",
    "        end = \"\\n\" if epoch % 10 == 0 else \"\\r\"\n",
    "        print(f\"Accuracy @Epoch {epoch}: {acc_mnist:0.3%}\", end=end)"
   ]
  },
  {
   "cell_type": "markdown",
   "metadata": {},
   "source": [
    "## Gradient Clipping\n",
    "In order to lessen the exploding gradients problem"
   ]
  },
  {
   "cell_type": "code",
   "execution_count": 15,
   "metadata": {},
   "outputs": [],
   "source": [
    "tf.reset_default_graph()\n",
    "\n",
    "n_inputs = 28 * 28\n",
    "n_hidden1 = 300\n",
    "n_hidden2 = 100\n",
    "n_outputs = 10\n",
    "\n",
    "X = tf.placeholder(tf.float32, shape=(None, n_inputs), name=\"X\")\n",
    "y = tf.placeholder(tf.int32, shape=(None), name=\"y\")\n",
    "\n",
    "with tf.name_scope(\"dnn\"):\n",
    "    hidden1 = fully_connected(X, n_hidden1, scope=\"hidden1\")\n",
    "    hidden2 = fully_connected(hidden1, n_hidden2, scope=\"hidden2\")\n",
    "    logits = fully_connected(hidden2, n_outputs, activation_fn=None,\n",
    "                             scope=\"logits\")\n",
    "    \n",
    "#### GRADIENT CLIPPING IMPLEMENTATION ####\n",
    "# In tensorflow, the optimizer’s minimize() function\n",
    "# takes care of both computing the gradients and applying them,\n",
    "# so you must instead call the optimizer’s compute_gradients()\n",
    "# method first, then create an operation to clip the gradients\n",
    "# using the clip_by_value() function, and finally create an operation\n",
    "# to apply the clipped gradients using the optimizer’s apply_gradients() method\n",
    "with tf.name_scope(\"loss\"):\n",
    "    xentropy = tf.nn.sparse_softmax_cross_entropy_with_logits(\n",
    "        labels=y, logits=logits)\n",
    "    loss = tf.reduce_mean(xentropy, name=\"loss\")\n",
    "    \n",
    "learning_rate = 0.01\n",
    "with tf.name_scope(\"train\"):\n",
    "    threshold = 1.0\n",
    "    optimizer = tf.train.GradientDescentOptimizer(learning_rate)\n",
    "    grads_and_vars = optimizer.compute_gradients(loss)\n",
    "    capped_gvs = [(tf.clip_by_value(grad, -threshold, threshold), var)\n",
    "                  for grad, var in grads_and_vars]\n",
    "    train_step = optimizer.apply_gradients(capped_gvs)\n",
    "\n",
    "with tf.name_scope(\"evaluate\"):\n",
    "    correct = tf.nn.in_top_k(logits, y, 1)\n",
    "    accuracy = tf.reduce_mean(tf.cast(correct, tf.float32))\n",
    "    \n",
    "init = tf.global_variables_initializer()"
   ]
  },
  {
   "cell_type": "code",
   "execution_count": 21,
   "metadata": {},
   "outputs": [
    {
     "name": "stdout",
     "output_type": "stream",
     "text": [
      "@Epoch 0. Test accuracy: 89.5000%\n",
      "@Epoch 10. Test accuracy: 96.5891%\n",
      "@Epoch 20. Test accuracy: 98.0891%\n",
      "@Epoch 30. Test accuracy: 98.8727%\n",
      "@Epoch 40. Test accuracy: 99.2764%\n",
      "@Epoch 50. Test accuracy: 99.6564%\n",
      "@Epoch 60. Test accuracy: 99.7618%\n",
      "@Epoch 69. Test accuracy: 99.8909%\r"
     ]
    }
   ],
   "source": [
    "n_epochs = 70\n",
    "batch_size = 50\n",
    "batch_iterations = mnist.train.num_examples // batch_size\n",
    "\n",
    "\n",
    "with tf.Session() as sess:\n",
    "    sess.run(init)\n",
    "    for epoch in range(n_epochs):\n",
    "        for it in range(batch_iterations):\n",
    "            X_batch, y_batch = mnist.train.next_batch(batch_size)\n",
    "            sess.run(train_step, feed_dict={X:X_batch, y:y_batch})\n",
    "            \n",
    "        test_acc = sess.run(accuracy,\n",
    "                            feed_dict={X:mnist.train.images,\n",
    "                                       y:mnist.train.labels})\n",
    "        end = \"\\n\" if epoch % 10 == 0 else \"\\r\"\n",
    "        print(f\"@Epoch {epoch}. Test accuracy: {test_acc:0.4%}\", end=end)"
   ]
  }
 ],
 "metadata": {
  "kernelspec": {
   "display_name": "Python 3",
   "language": "python",
   "name": "python3"
  },
  "language_info": {
   "codemirror_mode": {
    "name": "ipython",
    "version": 3
   },
   "file_extension": ".py",
   "mimetype": "text/x-python",
   "name": "python",
   "nbconvert_exporter": "python",
   "pygments_lexer": "ipython3",
   "version": "3.6.5"
  }
 },
 "nbformat": 4,
 "nbformat_minor": 2
}
