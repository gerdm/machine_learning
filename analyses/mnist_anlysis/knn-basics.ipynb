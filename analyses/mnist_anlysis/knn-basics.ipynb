{
 "cells": [
  {
   "cell_type": "markdown",
   "metadata": {},
   "source": [
    "# KNN basics "
   ]
  },
  {
   "cell_type": "code",
   "execution_count": 310,
   "metadata": {
    "collapsed": true
   },
   "outputs": [],
   "source": [
    "import numpy as np\n",
    "from numpy.random import seed, randn\n",
    "\n",
    "import matplotlib.pyplot as plt\n",
    "from matplotlib import cm\n",
    "from matplotlib.colors import Normalize"
   ]
  },
  {
   "cell_type": "code",
   "execution_count": 388,
   "metadata": {},
   "outputs": [],
   "source": [
    "seed(314)\n",
    "nvals = 30\n",
    "X1 = randn(2,nvals) + 0.6\n",
    "X2 = randn(2,nvals) - 0.6\n",
    "\n",
    "X = np.c_[X1, X2]\n",
    "Y = np.r_[np.ones(nvals), np.zeros(nvals)]"
   ]
  },
  {
   "cell_type": "code",
   "execution_count": 495,
   "metadata": {},
   "outputs": [],
   "source": [
    "def distance(x0, X): return np.sqrt(np.sum((x0 - X) ** 2, axis=0))\n",
    "\n",
    "class KNN:\n",
    "    def __init__(self, Xtrain, Ytrain, nneighbors):\n",
    "        \"\"\"\n",
    "        Xtrain: nXm numpy array with n datapoints and m\n",
    "            examples\n",
    "        Ytrain: 1xm numpy array with m different classes\n",
    "        \"\"\"\n",
    "        self.Xtrain = Xtrain\n",
    "        self.Ytrain = Ytrain\n",
    "        self.nneighbors = nneighbors\n",
    "    \n",
    "    def knn_ix(self, xpred):\n",
    "        \"\"\"\n",
    "        A simple implementation of the K-nearest-neighbors\n",
    "        algorithm that returns the indices witht the closest\n",
    "        k-neighbors\n",
    "\n",
    "        Params\n",
    "        ------\n",
    "        \"\"\"\n",
    "        distances = distance(xpred, self.Xtrain)\n",
    "        kclosest = np.argsort(distances)[:self.nneighbors]\n",
    "\n",
    "        return kclosest\n",
    "\n",
    "    def pred(self, xpred):\n",
    "        \n",
    "        xpred = xpred.reshape(*xpred.shape)\n",
    "        closest_ix = self.knn_ix(xpred)\n",
    "        return np.round(np.mean(self.Ytrain[closest_ix]))\n",
    "    \n",
    "\n",
    "    def plot_closest_neigh(self, xpred):\n",
    "        \"\"\"\n",
    "        Plot the actual classes and the prediction of a single\n",
    "        point based on its closest n neighbors\n",
    "        \"\"\"\n",
    "        miny = np.min(self.Ytrain)\n",
    "        maxy = np.max(self.Ytrain)\n",
    "        normalized = Normalize(miny, maxy, clip=True)\n",
    "        colormap = cm.ScalarMappable(normalized, cmap=cm.coolwarm)\n",
    "\n",
    "        ypred = self.pred(xpred)\n",
    "        colors=[colormap.to_rgba(y) for y in self.Ytrain]\n",
    "        knnix = self.knn_ix(xpred)\n",
    "        notknnix = [x for x in range(14) if x not in self.knn_ix(x0)]\n",
    "        \n",
    "        plt.scatter(*xpred, c=colormap.to_rgba(ypred) , s=90)\n",
    "        plt.scatter(*self.Xtrain, c=colors)\n",
    "        for ix in knnix:\n",
    "            plt.plot(*np.c_[xpred, self.Xtrain[:,ix]], linewidth=1,\n",
    "                     c=\"black\", alpha=0.7)\n"
   ]
  },
  {
   "cell_type": "code",
   "execution_count": 497,
   "metadata": {},
   "outputs": [
    {
     "data": {
      "text/plain": [
       "1.0"
      ]
     },
     "execution_count": 497,
     "metadata": {},
     "output_type": "execute_result"
    }
   ],
   "source": [
    "kmodel = KNN(X, Y, 10)\n",
    "kmodel.pred(x0)"
   ]
  },
  {
   "cell_type": "code",
   "execution_count": 478,
   "metadata": {},
   "outputs": [
    {
     "data": {
      "text/plain": [
       "array([[ 1. ],\n",
       "       [-0.5]])"
      ]
     },
     "execution_count": 478,
     "metadata": {},
     "output_type": "execute_result"
    }
   ],
   "source": [
    "x0"
   ]
  },
  {
   "cell_type": "code",
   "execution_count": 472,
   "metadata": {},
   "outputs": [
    {
     "data": {
      "application/vnd.jupyter.widget-view+json": {
       "model_id": "be47f0cec8b8431ab6b7708725d9ffc5",
       "version_major": 2,
       "version_minor": 0
      },
      "text/plain": [
       "A Jupyter Widget"
      ]
     },
     "metadata": {},
     "output_type": "display_data"
    },
    {
     "data": {
      "text/plain": [
       "<function __main__.interact_knn>"
      ]
     },
     "execution_count": 472,
     "metadata": {},
     "output_type": "execute_result"
    }
   ],
   "source": [
    "from ipywidgets import interact, IntSlider, FloatSlider\n",
    "\n",
    "def interact_knn(x, y, neigh):\n",
    "    kmodel = KNN(X, Y, neigh)\n",
    "    x0 = np.array([[x, y]]).T\n",
    "    \n",
    "    plt.figure(figsize=(10,7))\n",
    "    kmodel.plot_closest_neigh(x0)\n",
    "    plt.show()\n",
    "    \n",
    "interact(interact_knn,\n",
    "         x = FloatSlider(min=-2, max=2, value=1, step=0.2),\n",
    "         y = FloatSlider(min=-2, max=2, value=-0.5, step=0.2),\n",
    "         neigh=IntSlider(min=1, max=20, value=5))"
   ]
  }
 ],
 "metadata": {
  "kernelspec": {
   "display_name": "Python 3",
   "language": "python",
   "name": "python3"
  },
  "language_info": {
   "codemirror_mode": {
    "name": "ipython",
    "version": 3
   },
   "file_extension": ".py",
   "mimetype": "text/x-python",
   "name": "python",
   "nbconvert_exporter": "python",
   "pygments_lexer": "ipython3",
   "version": "3.6.2"
  }
 },
 "nbformat": 4,
 "nbformat_minor": 2
}
