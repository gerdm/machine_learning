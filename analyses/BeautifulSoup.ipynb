{
 "cells": [
  {
   "cell_type": "code",
   "execution_count": 255,
   "metadata": {},
   "outputs": [],
   "source": [
    "import pandas as pd\n",
    "import numpy as np\n",
    "import requests\n",
    "import re\n",
    "from bs4 import BeautifulSoup as bs\n",
    "from unidecode import unidecode\n",
    "from collections import Counter"
   ]
  },
  {
   "cell_type": "markdown",
   "metadata": {},
   "source": [
    "In this notebook, we will try to collect all of the Authors listed on Project Gutemberg's website using the BeautifulSoup library."
   ]
  },
  {
   "cell_type": "markdown",
   "metadata": {},
   "source": [
    "## Extracting the Information"
   ]
  },
  {
   "cell_type": "code",
   "execution_count": 58,
   "metadata": {},
   "outputs": [],
   "source": [
    "authweb = \"http://www.gutenberg.org/browse/authors/c\"\n",
    "r = requests.get(authweb).text\n",
    "soup = bs(r, \"html.parser\")"
   ]
  },
  {
   "cell_type": "code",
   "execution_count": 59,
   "metadata": {},
   "outputs": [
    {
     "name": "stdout",
     "output_type": "stream",
     "text": [
      "<!DOCTYPE HTML PUBLIC \"-//W3C//DTD HTML 4.01//EN\" \"http://www.w3.org/TR/html4/strict.dtd\">\n",
      "<html lang=\"en\">\n",
      " <head>\n",
      "  <meta content=\"text/html; charset=utf-8\" http-equiv=\"Content-Type\"/>\n",
      "  <meta content=\"ebooks, ebook, books, book, free, online, audio\" name=\"keywords\"/>\n",
      "  <meta content=\"33000+ free ebooks online\" name=\"description\"/>\n",
      "  <meta content=\"public\" name=\"classification\"/>\n",
      "  <meta content=\"text/css\" http-equiv=\"Content-Style-Type\"/>\n",
      "  <script type=\"application/javascript\">\n",
      "   if (top != self) {\n",
      "        top.location.replace ('http://www.gutenberg.org');\n",
      "        alert ('Project Gutenberg is a FREE service with NO membership required. If you paid somebody else to get here, make them give you your money back!');\n",
      "      }\n",
      "  </script>\n",
      "  <link href=\"/css/pg-002.css\" rel=\"stylesheet\" type=\"text/css\"/>\n"
     ]
    }
   ],
   "source": [
    "print(soup.prettify()[:812])"
   ]
  },
  {
   "cell_type": "markdown",
   "metadata": {},
   "source": [
    "BeautifulSoup has various types of elements. The most common to work with are the 'Tag' element, which may contain other nested Tags, and the 'NavigableString' type, which is text found in the HTML document"
   ]
  },
  {
   "cell_type": "code",
   "execution_count": 60,
   "metadata": {},
   "outputs": [
    {
     "name": "stdout",
     "output_type": "stream",
     "text": [
      "<title>Browse By Author: C - Project Gutenberg</title>\t <class 'bs4.element.Tag'>\n"
     ]
    }
   ],
   "source": [
    "print(f\"{soup.title}\\t {type(soup.title)}\")"
   ]
  },
  {
   "cell_type": "code",
   "execution_count": 61,
   "metadata": {},
   "outputs": [
    {
     "name": "stdout",
     "output_type": "stream",
     "text": [
      "Browse By Author: C - Project Gutenberg\t <class 'bs4.element.NavigableString'>\n"
     ]
    }
   ],
   "source": [
    "print(f\"{soup.title.string}\\t {type(soup.title.string)}\")"
   ]
  },
  {
   "cell_type": "code",
   "execution_count": 71,
   "metadata": {},
   "outputs": [],
   "source": [
    "def match_author(link, author):\n",
    "    \"\"\"\n",
    "    Given a 'bs4.element.Tag' element 'a', the\n",
    "    tag it's expected to have a string to match\n",
    "    given an author. For example:\n",
    "    '<a name=\"a45634\">Saar, Ferdinand von, 1833-1906</a>'\n",
    "    \n",
    "    Parameters\n",
    "    ----------\n",
    "    link: bs4.element.Tag\n",
    "        The link which contains the name of the author\n",
    "    author: string\n",
    "        Name (possible partial name) of the author to compare\n",
    "    Returns\n",
    "    -------\n",
    "    \"\"\"\n",
    "    if link is None:\n",
    "        return False\n",
    "    else:\n",
    "        author_match = link.string\n",
    "        return author in author_match\n",
    "\n",
    "def titles_languages_links(soup, author):\n",
    "    \"\"\"\n",
    "    Given a 'bs4.BeautifulSoup' element of a webage \n",
    "    of authors from projectGutemberg, return all the\n",
    "    languages, links and titiles of every book of the\n",
    "    author\n",
    "    \"\"\"\n",
    "    titles, languages, links = list(), list(), list()\n",
    "    # Compiled regex expression to remove parenthesis included in \n",
    "    # the specified language and '(as author)' or any other related match\n",
    "    subre = re.compile(\"( \\(as [A-Za-z]+\\)|\\(|\\))\")\n",
    "    h2_vect = soup.find_all(\"h2\")\n",
    "    for h2 in h2_vect:\n",
    "        h2_link = h2.a\n",
    "        if match_author(h2_link, author):\n",
    "            # The first sibling of h2 is a new line (\"\\n\"), the\n",
    "            # second sibling is a list of elements, out of which we\n",
    "            # care about those who have a 'pgdbetext' class \n",
    "            elements = h2.next_sibling.next_sibling.find_all(attrs = {\"class\":\"pgdbetext\"})\n",
    "            for element in elements:\n",
    "                titles.append(element.a.text)\n",
    "                links.append(element.a.get(\"href\"))\n",
    "                languages.append(subre.sub(\"\", element.contents[1].strip()))\n",
    "    return titles, languages, links\n",
    "\n",
    "def author_dataframe(author, soup, remove_duplicates=True):\n",
    "    \"\"\"\n",
    "    Obtain a dataframe with columns: title, lanuage and link\n",
    "    for a given author\n",
    "    \"\"\"\n",
    "    headers = [\"title\", \"language\", \"link\"]\n",
    "    auth_titles = pd.DataFrame({key: values for key, values in\n",
    "                            zip(headers, titles_languages_links(soup, author))})\n",
    "    if remove_duplicates:\n",
    "        auth_titles = auth_titles[np.logical_not(auth_titles.duplicated(\"title\"))]\n",
    "    \n",
    "    return auth_titles"
   ]
  },
  {
   "cell_type": "code",
   "execution_count": 85,
   "metadata": {},
   "outputs": [
    {
     "data": {
      "text/html": [
       "<div>\n",
       "<style scoped>\n",
       "    .dataframe tbody tr th:only-of-type {\n",
       "        vertical-align: middle;\n",
       "    }\n",
       "\n",
       "    .dataframe tbody tr th {\n",
       "        vertical-align: top;\n",
       "    }\n",
       "\n",
       "    .dataframe thead th {\n",
       "        text-align: right;\n",
       "    }\n",
       "</style>\n",
       "<table border=\"1\" class=\"dataframe\">\n",
       "  <thead>\n",
       "    <tr style=\"text-align: right;\">\n",
       "      <th></th>\n",
       "      <th>language</th>\n",
       "      <th>link</th>\n",
       "      <th>title</th>\n",
       "    </tr>\n",
       "  </thead>\n",
       "  <tbody>\n",
       "    <tr>\n",
       "      <th>0</th>\n",
       "      <td>Finnish</td>\n",
       "      <td>/ebooks/45203</td>\n",
       "      <td>Älykkään ritarin Don Quijote de la Manchan elä...</td>\n",
       "    </tr>\n",
       "    <tr>\n",
       "      <th>1</th>\n",
       "      <td>Dutch</td>\n",
       "      <td>/ebooks/28469</td>\n",
       "      <td>Don Quichot van La Mancha</td>\n",
       "    </tr>\n",
       "    <tr>\n",
       "      <th>2</th>\n",
       "      <td>Spanish</td>\n",
       "      <td>/ebooks/2000</td>\n",
       "      <td>Don Quijote</td>\n",
       "    </tr>\n",
       "    <tr>\n",
       "      <th>3</th>\n",
       "      <td>English</td>\n",
       "      <td>/ebooks/996</td>\n",
       "      <td>Don Quixote</td>\n",
       "    </tr>\n",
       "    <tr>\n",
       "      <th>4</th>\n",
       "      <td>English</td>\n",
       "      <td>/ebooks/14420</td>\n",
       "      <td>The Exemplary Novels of Cervantes</td>\n",
       "    </tr>\n",
       "  </tbody>\n",
       "</table>\n",
       "</div>"
      ],
      "text/plain": [
       "  language           link                                              title\n",
       "0  Finnish  /ebooks/45203  Älykkään ritarin Don Quijote de la Manchan elä...\n",
       "1    Dutch  /ebooks/28469                          Don Quichot van La Mancha\n",
       "2  Spanish   /ebooks/2000                                        Don Quijote\n",
       "3  English    /ebooks/996                                        Don Quixote\n",
       "4  English  /ebooks/14420                  The Exemplary Novels of Cervantes"
      ]
     },
     "execution_count": 85,
     "metadata": {},
     "output_type": "execute_result"
    }
   ],
   "source": [
    "authweb = \"http://www.gutenberg.org/browse/authors/c\"\n",
    "r = requests.get(authweb).text\n",
    "soup = bs(r, \"html.parser\")\n",
    "\n",
    "author = \"Cervantes Saavedra, Miguel\"\n",
    "authordf = author_dataframe(author, soup)\n",
    "authordf.head()"
   ]
  },
  {
   "cell_type": "markdown",
   "metadata": {},
   "source": [
    "## Extracting Specific book information"
   ]
  },
  {
   "cell_type": "code",
   "execution_count": 243,
   "metadata": {},
   "outputs": [],
   "source": [
    "book_title = \"Don Quijote\"\n",
    "book_link = authordf.query(f\"language == 'Spanish' and title == '{book_title}'\").link.iloc[0]\n",
    "bookid = re.sub(\"[^0-9]\", \"\", book_link)\n",
    "bookweb = f\"http://www.gutenberg.org/cache/epub/{bookid}/pg{bookid}.txt\"\n",
    "r = requests.get(bookweb)\n",
    "book = r.text"
   ]
  },
  {
   "cell_type": "code",
   "execution_count": 244,
   "metadata": {},
   "outputs": [
    {
     "name": "stdout",
     "output_type": "stream",
     "text": [
      "TASA\n",
      "End of Project Gutenberg's\n"
     ]
    }
   ],
   "source": [
    "start_string = (r\"TASA\"\n",
    "                .format(book_title=book_title.upper()))\n",
    "end_string = (r\"End of Project Gutenberg's\"\n",
    "                .format(book_title=book_title.upper()))\n",
    "print(start_string)\n",
    "print(end_string)"
   ]
  },
  {
   "cell_type": "markdown",
   "metadata": {},
   "source": [
    "### Clean book\n",
    "For this part, we will clean the book by:\n",
    "* removing uncessary parts of the book such as headers and footers;\n",
    "* replacing accents;\n",
    "* lowercasing letters\n",
    "\n",
    "We start by splitting the book: indexing the book from the beggining of the first chapter named, in this case, 'TASA', and end before PG's footer, which is not part of the book"
   ]
  },
  {
   "cell_type": "markdown",
   "metadata": {},
   "source": [
    "#### Slicing"
   ]
  },
  {
   "cell_type": "code",
   "execution_count": 245,
   "metadata": {},
   "outputs": [
    {
     "name": "stdout",
     "output_type": "stream",
     "text": [
      "TASA\r\n",
      "\r\n",
      "Yo, Juan Gallo de Andrada, escribano de Cámara del Rey nuestro señor, de\r\n",
      "los que residen en su Consejo, certifico y doy fe que, habiendo vist\n"
     ]
    }
   ],
   "source": [
    "start_index = re.search(start_string, book).span()[0]\n",
    "end_index = re.search(end_string, book).span()[0]\n",
    "book = book[start_index: end_index]\n",
    "\n",
    "print(book[:150])"
   ]
  },
  {
   "cell_type": "markdown",
   "metadata": {},
   "source": [
    "#### Remove newline sequences"
   ]
  },
  {
   "cell_type": "markdown",
   "metadata": {},
   "source": [
    "As we note from the sample shown, the book contains many whitespaces. Specifically, those whitespaces are comprised with the newline sequence `\\r\\n`."
   ]
  },
  {
   "cell_type": "code",
   "execution_count": 247,
   "metadata": {},
   "outputs": [
    {
     "name": "stdout",
     "output_type": "stream",
     "text": [
      "TASA Yo, Juan Gallo de Andrada, escribano de Cámara del Rey nuestro señor, de los que residen en su Consejo, certifico y doy fe que, habiendo visto po\n"
     ]
    }
   ],
   "source": [
    "# Replacing all instances of newline sequences\n",
    "book = re.sub(r\"(\\r\\n)+\", \" \", book)\n",
    "print(book[:150])"
   ]
  },
  {
   "cell_type": "markdown",
   "metadata": {},
   "source": [
    "#### Replacing accents"
   ]
  },
  {
   "cell_type": "code",
   "execution_count": 248,
   "metadata": {},
   "outputs": [
    {
     "name": "stdout",
     "output_type": "stream",
     "text": [
      "TASA Yo, Juan Gallo de Andrada, escribano de Camara del Rey nuestro senor, de los que residen en su Consejo, certifico y doy fe que, habiendo visto po\n"
     ]
    }
   ],
   "source": [
    "book = unidecode(book)\n",
    "print(book[:150])"
   ]
  },
  {
   "cell_type": "markdown",
   "metadata": {},
   "source": [
    "#### Removing puntuation marks"
   ]
  },
  {
   "cell_type": "code",
   "execution_count": 249,
   "metadata": {},
   "outputs": [
    {
     "name": "stdout",
     "output_type": "stream",
     "text": [
      "TASA Yo Juan Gallo de Andrada escribano de Camara del Rey nuestro senor de los que residen en su Consejo certifico y doy fe que habiendo visto por los\n"
     ]
    }
   ],
   "source": [
    "book = re.sub(r\"[^\\w\\s]\", \"\", book)\n",
    "print(book[:150])"
   ]
  },
  {
   "cell_type": "markdown",
   "metadata": {},
   "source": [
    "#### Lowercasing"
   ]
  },
  {
   "cell_type": "code",
   "execution_count": 253,
   "metadata": {},
   "outputs": [
    {
     "name": "stdout",
     "output_type": "stream",
     "text": [
      "tasa yo juan gallo de andrada escribano de camara del rey nuestro senor de los que residen en su consejo certifico y doy fe que habiendo visto por los\n"
     ]
    }
   ],
   "source": [
    "book = book.lower()\n",
    "print(book[:150])"
   ]
  },
  {
   "cell_type": "markdown",
   "metadata": {},
   "source": [
    "Looking a bigger sample of the cleaned book"
   ]
  },
  {
   "cell_type": "code",
   "execution_count": 254,
   "metadata": {},
   "outputs": [
    {
     "data": {
      "text/plain": [
       "'tasa yo juan gallo de andrada escribano de camara del rey nuestro senor de los que residen en su consejo certifico y doy fe que habiendo visto por los senores del un libro intitulado el ingenioso hidalgo de la mancha compuesto por miguel de cervantes saavedra tasaron cada pliego del dicho libro a tres maravedis y medio el cual tiene ochenta y tres pliegos que al dicho precio monta el dicho libro docientos y noventa maravedis y medio en que se ha de vender en papel y dieron licencia para que a es'"
      ]
     },
     "execution_count": 254,
     "metadata": {},
     "output_type": "execute_result"
    }
   ],
   "source": [
    "book[:500]"
   ]
  },
  {
   "cell_type": "markdown",
   "metadata": {},
   "source": [
    "## Ngram Analysis"
   ]
  },
  {
   "cell_type": "code",
   "execution_count": 258,
   "metadata": {},
   "outputs": [
    {
     "data": {
      "text/plain": [
       "['tasa',\n",
       " 'yo',\n",
       " 'juan',\n",
       " 'gallo',\n",
       " 'de',\n",
       " 'andrada',\n",
       " 'escribano',\n",
       " 'de',\n",
       " 'camara',\n",
       " 'del']"
      ]
     },
     "execution_count": 258,
     "metadata": {},
     "output_type": "execute_result"
    }
   ],
   "source": [
    "book_list = book.split(\" \")\n",
    "book_list[:10]"
   ]
  },
  {
   "cell_type": "code",
   "execution_count": 262,
   "metadata": {},
   "outputs": [
    {
     "data": {
      "text/plain": [
       "[('que', 21475),\n",
       " ('de', 18297),\n",
       " ('y', 18188),\n",
       " ('la', 10362),\n",
       " ('a', 9823),\n",
       " ('el', 9487),\n",
       " ('en', 8241),\n",
       " ('no', 6335),\n",
       " ('se', 5078),\n",
       " ('los', 4748)]"
      ]
     },
     "execution_count": 262,
     "metadata": {},
     "output_type": "execute_result"
    }
   ],
   "source": [
    "book_1g = Counter(book_list)\n",
    "book_1g.most_common(10)"
   ]
  }
 ],
 "metadata": {
  "kernelspec": {
   "display_name": "Python 3",
   "language": "python",
   "name": "python3"
  },
  "language_info": {
   "codemirror_mode": {
    "name": "ipython",
    "version": 3
   },
   "file_extension": ".py",
   "mimetype": "text/x-python",
   "name": "python",
   "nbconvert_exporter": "python",
   "pygments_lexer": "ipython3",
   "version": "3.6.3"
  }
 },
 "nbformat": 4,
 "nbformat_minor": 2
}
