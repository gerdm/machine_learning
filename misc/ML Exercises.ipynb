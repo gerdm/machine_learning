{
 "cells": [
  {
   "cell_type": "markdown",
   "metadata": {},
   "source": [
    "## Bishop Exercises"
   ]
  },
  {
   "cell_type": "code",
   "execution_count": 38,
   "metadata": {},
   "outputs": [],
   "source": [
    "import numpy as np\n",
    "from numpy.random import choice, seed"
   ]
  },
  {
   "cell_type": "markdown",
   "metadata": {},
   "source": [
    "**1.3**. Suppose that we have three coloured boxes r (red), b (blue), and g (green). Box r contains 3 apples, 4 oranges, and 3 limes, box b contains 1 apple, 1 orange, and 0 limes, and box g contains 3 apples, 3 oranges, and 4 limes. If a box is chosen at random with probabilities p(r) = 0.2, p(b) = 0.2, p(g) = 0.6, and a piece of fruit is removed from the box (with equal probability of selecting any of the items in the box), then what is the probability of selecting an apple? If we observe that the selected fruit is in fact an orange, what is the probability that it came from the green box?"
   ]
  },
  {
   "cell_type": "markdown",
   "metadata": {},
   "source": [
    "**The theoretical Answer**  \n",
    "$$\n",
    "\\begin{align}\n",
    "    \\mathbb{P}(\\text{Apple}) &= \\mathbb{P}(\\text{Apple}, R) + \\mathbb{P}(\\text{Apple}, B) + \\mathbb{P}(\\text{Apple}, G)\\\\\n",
    "    & = \\mathbb{P}(R) \\ \\mathbb{P}(\\text{Apple} | R) + \\mathbb{P}(B) \\ \\mathbb{P}(\\text{Apple} | B) + \\mathbb{P}(G) \\ \\mathbb{P}(\\text{Apple} | G) \\\\\n",
    "    & = 0.2 \\left(\\frac{3}{10}\\right) + 0.2 \\left(\\frac{1}{2}\\right) + 0.6 \\left(\\frac{3}{10}\\right) \\\\\n",
    "    &= 0.34\n",
    "\\end{align}\n",
    "$$"
   ]
  },
  {
   "cell_type": "code",
   "execution_count": 101,
   "metadata": {},
   "outputs": [
    {
     "name": "stdout",
     "output_type": "stream",
     "text": [
      "The sample probability is: 34.05% with std of 0.44635%\n",
      "CPU times: user 3.77 s, sys: 2.84 ms, total: 3.77 s\n",
      "Wall time: 3.77 s\n"
     ]
    }
   ],
   "source": [
    "%%time\n",
    "seed(1643)\n",
    "# The computational approximation\n",
    "boxes = {\n",
    "    \"r\": [\"apples\"] * 3 + [\"oranges\"] * 4 + [\"limes\"] * 3,\n",
    "    \"b\": [\"apples\"] * 1 + [\"oranges\"] * 1 + [\"limes\"] * 0,\n",
    "    \"g\": [\"apples\"] * 3 + [\"oranges\"] * 3 + [\"limes\"] * 4\n",
    "}\n",
    "\n",
    "nrounds = 100\n",
    "nsamples = 10_000\n",
    "boxes_prob = {\"r\": 0.2, \"b\": 0.2, \"g\": 0.6}\n",
    "\n",
    "sample_probs = []\n",
    "for round_i in range(nrounds):\n",
    "    target = 0\n",
    "    box_color_selction = choice(list(boxes_prob.keys()), size=nsamples, p=list(boxes_prob.values()))\n",
    "    for color in box_color_selction:\n",
    "        if choice(boxes[color]) == \"apples\":\n",
    "            target += 1\n",
    "    sample_probs.append(target / nsamples)\n",
    "\n",
    "sample_probs = np.array(sample_probs)\n",
    "print(f\"The sample probability is: {sample_probs.mean():0.2%} with std of {sample_probs.std():0.5%}\")"
   ]
  }
 ],
 "metadata": {
  "kernelspec": {
   "display_name": "Python 3",
   "language": "python",
   "name": "python3"
  },
  "language_info": {
   "codemirror_mode": {
    "name": "ipython",
    "version": 3
   },
   "file_extension": ".py",
   "mimetype": "text/x-python",
   "name": "python",
   "nbconvert_exporter": "python",
   "pygments_lexer": "ipython3",
   "version": "3.6.6"
  }
 },
 "nbformat": 4,
 "nbformat_minor": 2
}
