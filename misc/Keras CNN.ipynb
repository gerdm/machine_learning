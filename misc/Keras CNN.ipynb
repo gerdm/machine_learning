{
 "cells": [
  {
   "cell_type": "markdown",
   "metadata": {},
   "source": [
    "# CNN With Keras"
   ]
  },
  {
   "cell_type": "code",
   "execution_count": 16,
   "metadata": {},
   "outputs": [],
   "source": [
    "import tensorflow as tf\n",
    "from tensorflow import keras\n",
    "from tensorflow.keras.models import Model\n",
    "from tensorflow.keras.layers import (Input, ZeroPadding2D, Conv2D, BatchNormalization,\n",
    "                                     MaxPooling2D, Dense, Flatten, Activation)\n",
    "from tensorflow.keras.utils import to_categorical\n",
    "from sklearn.metrics import confusion_matrix\n",
    "import matplotlib.pyplot as plt\n",
    "import seaborn as sns\n",
    "import numpy as np"
   ]
  },
  {
   "cell_type": "code",
   "execution_count": 17,
   "metadata": {},
   "outputs": [],
   "source": [
    "(X_train, y_train), (X_test, y_test) = tf.keras.datasets.mnist.load_data()"
   ]
  },
  {
   "cell_type": "code",
   "execution_count": 18,
   "metadata": {},
   "outputs": [
    {
     "data": {
      "image/png": "[encoded data removed]",
      "text/plain": [
       "<Figure size 432x288 with 4 Axes>"
      ]
     },
     "metadata": {},
     "output_type": "display_data"
    }
   ],
   "source": [
    "np.random.seed(31415)\n",
    "fig = plt.figure()\n",
    "samp_ixs = np.random.randint(0, X_train.shape[0], size=4)\n",
    "for ix, img_ix in enumerate(samp_ixs):\n",
    "    ax = fig.add_subplot(2, 2, ix + 1)\n",
    "    ax.imshow(X_train[img_ix])\n",
    "    ax.set_title(f\"Img: {y_train[img_ix]}\")\n",
    "    ax.axis(\"off\")"
   ]
  },
  {
   "cell_type": "code",
   "execution_count": 19,
   "metadata": {},
   "outputs": [],
   "source": [
    "X_train, X_test = X_train.reshape(-1, 28, 28, 1) / 255.0, X_test.reshape(-1, 28, 28, 1) / 255.0\n",
    "y_train, y_test = to_categorical(y_train), to_categorical(y_test)\n",
    "X_train, X_cv = X_train[:59000], X_train[59000:]\n",
    "y_train, y_cv = y_train[:59000], y_train[59000:]"
   ]
  },
  {
   "cell_type": "code",
   "execution_count": 20,
   "metadata": {},
   "outputs": [],
   "source": [
    "X_input = Input((28, 28, 1))\n",
    "X = ZeroPadding2D((3, 3))(X_input)\n",
    "X = Conv2D(32, (7, 7), name=\"conv0\")(X)\n",
    "X = BatchNormalization(axis=3, name=\"bn0\")(X)\n",
    "X = Activation(\"relu\")(X)\n",
    "X = MaxPooling2D(pool_size=(2, 2))(X)\n",
    "X = Flatten()(X)\n",
    "X = Dense(10, activation=\"softmax\", name=\"output\")(X)\n",
    "\n",
    "model = Model(inputs=X_input, outputs=X)"
   ]
  },
  {
   "cell_type": "code",
   "execution_count": 24,
   "metadata": {},
   "outputs": [
    {
     "name": "stdout",
     "output_type": "stream",
     "text": [
      "Train on 59000 samples, validate on 1000 samples\n",
      "Epoch 1/10\n",
      "59000/59000 [==============================] - 62s 1ms/step - loss: 0.0589 - acc: 0.9818 - val_loss: 0.0718 - val_acc: 0.9870\n",
      "Epoch 2/10\n",
      "59000/59000 [==============================] - 61s 1ms/step - loss: 0.0410 - acc: 0.9867 - val_loss: 0.0630 - val_acc: 0.9870\n",
      "Epoch 3/10\n",
      "59000/59000 [==============================] - 61s 1ms/step - loss: 0.0305 - acc: 0.9902 - val_loss: 0.0535 - val_acc: 0.9910\n",
      "Epoch 4/10\n",
      "59000/59000 [==============================] - 61s 1ms/step - loss: 0.0246 - acc: 0.9923 - val_loss: 0.0615 - val_acc: 0.9860\n",
      "Epoch 5/10\n",
      "59000/59000 [==============================] - 61s 1ms/step - loss: 0.0201 - acc: 0.9936 - val_loss: 0.0702 - val_acc: 0.9900\n",
      "Epoch 6/10\n",
      "59000/59000 [==============================] - 61s 1ms/step - loss: 0.0175 - acc: 0.9942 - val_loss: 0.0627 - val_acc: 0.9910\n",
      "Epoch 7/10\n",
      "59000/59000 [==============================] - 61s 1ms/step - loss: 0.0141 - acc: 0.9953 - val_loss: 0.0669 - val_acc: 0.9880\n",
      "Epoch 8/10\n",
      "59000/59000 [==============================] - 61s 1ms/step - loss: 0.0116 - acc: 0.9962 - val_loss: 0.0640 - val_acc: 0.9900\n",
      "Epoch 9/10\n",
      "59000/59000 [==============================] - 61s 1ms/step - loss: 0.0099 - acc: 0.9968 - val_loss: 0.0671 - val_acc: 0.9910\n",
      "Epoch 10/10\n",
      "59000/59000 [==============================] - 61s 1ms/step - loss: 0.0095 - acc: 0.9966 - val_loss: 0.0729 - val_acc: 0.9910\n",
      "CPU times: user 40min 3s, sys: 2min 40s, total: 42min 43s\n",
      "Wall time: 10min 12s\n"
     ]
    }
   ],
   "source": [
    "%%time\n",
    "model.compile(\"Adam\", \"categorical_crossentropy\", metrics=[\"accuracy\"])\n",
    "model.fit(X_train, y_train, validation_data=(X_cv, y_cv), epochs=10);"
   ]
  },
  {
   "cell_type": "code",
   "execution_count": 25,
   "metadata": {},
   "outputs": [],
   "source": [
    "y_pred_cv = model.predict(X_cv).argmax(axis=1)\n",
    "y_cv = y_cv.argmax(axis=1)"
   ]
  },
  {
   "cell_type": "code",
   "execution_count": 26,
   "metadata": {},
   "outputs": [
    {
     "data": {
      "image/png": "[encoded data removed]",
      "text/plain": [
       "<Figure size 1080x720 with 2 Axes>"
      ]
     },
     "metadata": {},
     "output_type": "display_data"
    }
   ],
   "source": [
    "cm = confusion_matrix(y_cv, y_pred_cv)\n",
    "cm = cm * (1 - np.identity(len(cm)))\n",
    "plt.figure(figsize=(15,10))\n",
    "sns.heatmap(cm, annot=True)\n",
    "plt.title(\"CV Errors\");"
   ]
  },
  {
   "cell_type": "code",
   "execution_count": 27,
   "metadata": {},
   "outputs": [],
   "source": [
    "where_errs = y_pred_cv != y_cv\n",
    "X_errs = X_cv[where_errs]\n",
    "y_true_errs = y_cv[where_errs]\n",
    "y_pred_errs = y_pred_cv[where_errs]"
   ]
  },
  {
   "cell_type": "code",
   "execution_count": 28,
   "metadata": {},
   "outputs": [
    {
     "data": {
      "text/plain": [
       "array([6, 5, 8, 9, 2, 5, 5, 5, 4])"
      ]
     },
     "execution_count": 28,
     "metadata": {},
     "output_type": "execute_result"
    }
   ],
   "source": [
    "y_true_errs"
   ]
  },
  {
   "cell_type": "code",
   "execution_count": 29,
   "metadata": {},
   "outputs": [
    {
     "data": {
      "text/plain": [
       "array([4, 0, 5, 5, 0, 3, 3, 0, 7])"
      ]
     },
     "execution_count": 29,
     "metadata": {},
     "output_type": "execute_result"
    }
   ],
   "source": [
    "y_pred_errs"
   ]
  },
  {
   "cell_type": "code",
   "execution_count": 30,
   "metadata": {},
   "outputs": [
    {
     "data": {
      "text/html": [
       "<div>\n",
       "<style scoped>\n",
       "    .dataframe tbody tr th:only-of-type {\n",
       "        vertical-align: middle;\n",
       "    }\n",
       "\n",
       "    .dataframe tbody tr th {\n",
       "        vertical-align: top;\n",
       "    }\n",
       "\n",
       "    .dataframe thead th {\n",
       "        text-align: right;\n",
       "    }\n",
       "</style>\n",
       "<table border=\"1\" class=\"dataframe\">\n",
       "  <thead>\n",
       "    <tr style=\"text-align: right;\">\n",
       "      <th></th>\n",
       "      <th>True</th>\n",
       "      <th>Pred</th>\n",
       "    </tr>\n",
       "  </thead>\n",
       "  <tbody>\n",
       "    <tr>\n",
       "      <th>0</th>\n",
       "      <td>6</td>\n",
       "      <td>4</td>\n",
       "    </tr>\n",
       "    <tr>\n",
       "      <th>1</th>\n",
       "      <td>5</td>\n",
       "      <td>0</td>\n",
       "    </tr>\n",
       "    <tr>\n",
       "      <th>2</th>\n",
       "      <td>8</td>\n",
       "      <td>5</td>\n",
       "    </tr>\n",
       "    <tr>\n",
       "      <th>3</th>\n",
       "      <td>9</td>\n",
       "      <td>5</td>\n",
       "    </tr>\n",
       "    <tr>\n",
       "      <th>4</th>\n",
       "      <td>2</td>\n",
       "      <td>0</td>\n",
       "    </tr>\n",
       "    <tr>\n",
       "      <th>5</th>\n",
       "      <td>5</td>\n",
       "      <td>3</td>\n",
       "    </tr>\n",
       "    <tr>\n",
       "      <th>6</th>\n",
       "      <td>5</td>\n",
       "      <td>3</td>\n",
       "    </tr>\n",
       "    <tr>\n",
       "      <th>7</th>\n",
       "      <td>5</td>\n",
       "      <td>0</td>\n",
       "    </tr>\n",
       "    <tr>\n",
       "      <th>8</th>\n",
       "      <td>4</td>\n",
       "      <td>7</td>\n",
       "    </tr>\n",
       "  </tbody>\n",
       "</table>\n",
       "</div>"
      ],
      "text/plain": [
       "   True  Pred\n",
       "0     6     4\n",
       "1     5     0\n",
       "2     8     5\n",
       "3     9     5\n",
       "4     2     0\n",
       "5     5     3\n",
       "6     5     3\n",
       "7     5     0\n",
       "8     4     7"
      ]
     },
     "execution_count": 30,
     "metadata": {},
     "output_type": "execute_result"
    }
   ],
   "source": [
    "import pandas as pd\n",
    "pd.DataFrame(np.c_[y_true_errs, y_pred_errs], columns=[\"True\", \"Pred\"])"
   ]
  },
  {
   "cell_type": "code",
   "execution_count": 37,
   "metadata": {},
   "outputs": [
    {
     "data": {
      "image/png": "[encoded data removed]",
      "text/plain": [
       "<Figure size 432x432 with 9 Axes>"
      ]
     },
     "metadata": {},
     "output_type": "display_data"
    }
   ],
   "source": [
    "fig = plt.figure(figsize=(6,6))\n",
    "for i in range(9):\n",
    "    ax = fig.add_subplot(3, 3, i + 1)\n",
    "    ax.set_title(f\"({i}) Predicted: {y_pred_errs[i]}\")\n",
    "    ax.imshow(X_errs[i].reshape(28,28))\n",
    "    ax.axis(\"off\")\n",
    "    \n",
    "plt.tight_layout()"
   ]
  }
 ],
 "metadata": {
  "kernelspec": {
   "display_name": "Python 3",
   "language": "python",
   "name": "python3"
  },
  "language_info": {
   "codemirror_mode": {
    "name": "ipython",
    "version": 3
   },
   "file_extension": ".py",
   "mimetype": "text/x-python",
   "name": "python",
   "nbconvert_exporter": "python",
   "pygments_lexer": "ipython3",
   "version": "3.6.6"
  }
 },
 "nbformat": 4,
 "nbformat_minor": 2
}
