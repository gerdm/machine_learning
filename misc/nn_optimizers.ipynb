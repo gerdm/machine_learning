{
 "cells": [
  {
   "cell_type": "markdown",
   "metadata": {},
   "source": [
    "# Optimizers\n",
    "\n",
    "In this notebook we will be comparing the most common optimizer to train feed-forward neural networks."
   ]
  },
  {
   "cell_type": "code",
   "execution_count": 1,
   "metadata": {},
   "outputs": [],
   "source": [
    "import numpy as np\n",
    "import matplotlib.pyplot as plt"
   ]
  },
  {
   "cell_type": "markdown",
   "metadata": {},
   "source": [
    "To test these optimizers, let us consider the following function and its respective gradient matrix.\n",
    "\n",
    "$$\n",
    "    f(x, y) = x^2 + 2xy + y^2\n",
    "$$\n",
    "\n",
    "$$\n",
    "    \\nabla f = \\begin{bmatrix} 2x + 2y \\\\ 2y + 2x\\end{bmatrix}\n",
    "$$"
   ]
  },
  {
   "cell_type": "code",
   "execution_count": 192,
   "metadata": {},
   "outputs": [],
   "source": [
    "def f(x, y): return 0.4 * x ** 2 + x * y + 1.3 * y ** 2\n",
    "X, Y = np.mgrid[-4: 4:0.1, -4: 4:0.1]"
   ]
  },
  {
   "cell_type": "code",
   "execution_count": 91,
   "metadata": {},
   "outputs": [],
   "source": [
    "def gradf(f, *xv, epsilon=1e-6):\n",
    "    \"\"\"\n",
    "    Approximate the numerical gradient of f\n",
    "    at around xv\n",
    "    \n",
    "    Parameters\n",
    "    ----------\n",
    "    f: function\n",
    "        vectorized and derivable function\n",
    "    xv: the evaluating points\n",
    "    \n",
    "    Returns\n",
    "    -------\n",
    "    np.array of shape (len(xv),);\n",
    "    \"\"\"\n",
    "    nx = len(xv)\n",
    "    xv_stack = np.array([xv for _ in range(nx)]).reshape(-1, nx)\n",
    "    xv_stack_pos = (xv_stack + np.eye(nx) * epsilon).T\n",
    "    xv_stack_neg = (xv_stack - np.eye(nx) * epsilon).T\n",
    "    grad = (f(*xv_stack_pos) - f(*xv_stack_neg)) / (2 * epsilon)\n",
    "    return grad"
   ]
  },
  {
   "cell_type": "markdown",
   "metadata": {},
   "source": [
    "### *Plain Vanilla* Gradient-Descent\n",
    "The update rule for the gradient descent is given by:\n",
    "$$\n",
    "    x:= x - \\alpha\\nabla f(x)\n",
    "$$\n",
    "\n",
    "With\n",
    "* $\\alpha$, the learning rate"
   ]
  },
  {
   "cell_type": "code",
   "execution_count": 193,
   "metadata": {},
   "outputs": [
    {
     "name": "stdout",
     "output_type": "stream",
     "text": [
      "Total steps taken: 1,387\n"
     ]
    },
    {
     "data": {
      "image/png": "[encoded data removed]",
      "text/plain": [
       "<Figure size 432x288 with 1 Axes>"
      ]
     },
     "metadata": {},
     "output_type": "display_data"
    }
   ],
   "source": [
    "x0 = np.array([-3, -3])\n",
    "alpha = 0.1\n",
    "learning_history = [x0]\n",
    "f1, f0 = f(*x0), 1e6\n",
    "while abs(f1 / f0 - 1) > 1e-2:\n",
    "    x0 = x0 - alpha * gradf(f, *x0)\n",
    "    learning_history.append(x0)\n",
    "    f0, f1 = f1, f(*x0)\n",
    "\n",
    "plt.contourf(X, Y, f(X, Y), 50)\n",
    "plt.scatter(*np.r_[learning_history].T, color=\"tab:red\", marker=\"x\")\n",
    "print(f\"Total steps taken: {len(learning_history):,}\")"
   ]
  },
  {
   "cell_type": "markdown",
   "metadata": {},
   "source": [
    "### Momentum Optimization\n",
    "The update rule for the momentum optimization is given by:\n",
    "\n",
    "$$\n",
    "    \\begin{align}\n",
    "    m &:= \\beta m + \\alpha \\nabla f(x)\\\\\n",
    "    x &:= x - m\n",
    "    \\end{align}\n",
    "$$\n",
    "\n",
    "With,\n",
    "* $\\alpha$: learning rate\n",
    "* $\\beta$: momentum\n",
    "\n",
    "The *momentum* coefficient, $\\beta \\in [0, 1)$, is used as an acceleration hyperparameter. The higher $\\beta$ is, the less friction is. To see comprehend this, consider $\\nabla f(x)$ fixed and let $m_{k}$ be the momentum term at the $k$-th iteration. Since\n",
    "\n",
    "$$\n",
    "    \\begin{align}\n",
    "    m_n &= \\beta m_{n-1} + \\alpha \\nabla f(x)\\\\\n",
    "        &= \\beta \\left(\\beta m_{n-2} + \\alpha \\nabla f(x) \\right) + \\alpha \\nabla f(x) \\\\\n",
    "        &= \\beta^2 m_{n-2} + \\beta \\alpha \\nabla f(x) + \\alpha \\nabla f(x)\\\\\n",
    "        &= \\beta^3 m_{n-3} + \\beta^2 \\alpha \\nabla f(x) + \\beta \\alpha \\nabla f(x) + \\alpha \\nabla f(x)\\\\\n",
    "        &= \\ldots\n",
    "    \\end{align}\n",
    "$$\n",
    "\n",
    "In general,\n",
    "$$\n",
    "    m_n = \\beta^{n} m_0 + \\alpha \\nabla f(x) \\sum_{k=0}^{n-1} \\beta^k\n",
    "$$\n",
    "\n",
    "Considering $m_0 = 1$ and taking $n\\to\\infty$, i.e., the *terminal* velocity, we see that\n",
    "$$\n",
    "    \\begin{align}\n",
    "    \\lim_{n\\to\\infty} m_n &= \\lim_{n\\to\\infty} \\beta^{n} + \\alpha \\nabla f(x) \\sum_{k=0}^{n-1} \\beta^k \\\\\n",
    "    &=\\lim_{n\\to\\infty} \\alpha \\nabla f(x) \\sum_{k=0}^{n-1} \\beta^k\\\\\n",
    "    \\end{align}\n",
    "$$\n",
    "\n",
    "Recalling that $\\sum_{k=0}^{n-1}\\beta^k = \\frac{1 - \\beta^n}{1 - \\beta}$, we conclude that\n",
    "\n",
    "$$\n",
    "    \\lim_{n\\to\\infty} m_n = \\frac{\\alpha \\nabla f}{1 - \\beta}\n",
    "$$\n",
    "\n",
    "E.g., for $\\beta =0.99$, this would imply going 100x faster than gradient descent!"
   ]
  },
  {
   "cell_type": "code",
   "execution_count": 211,
   "metadata": {},
   "outputs": [
    {
     "name": "stdout",
     "output_type": "stream",
     "text": [
      "Total steps taken: 656\n"
     ]
    },
    {
     "data": {
      "image/png": "[encoded data removed]",
      "text/plain": [
       "<Figure size 432x288 with 1 Axes>"
      ]
     },
     "metadata": {},
     "output_type": "display_data"
    }
   ],
   "source": [
    "x0 = np.array([-3, -3])\n",
    "learning_history = [x0]\n",
    "f1, f0 = f(*x0), 1e6\n",
    "\n",
    "alpha, beta = 0.1, 0.5\n",
    "m = 1\n",
    "f1, f0 = f(*x0), 1e6\n",
    "while abs(f1 / f0 - 1) > 1e-2:\n",
    "    m = beta * m + alpha * gradf(f, *x0)\n",
    "    x0 = x0 - m\n",
    "    learning_history.append(x0)\n",
    "    f0, f1 = f1, f(*x0)\n",
    "plt.contourf(X, Y, f(X, Y), 50)\n",
    "plt.scatter(*np.r_[learning_history].T, color=\"tab:red\", marker=\"x\")\n",
    "print(f\"Total steps taken: {len(learning_history):,}\")"
   ]
  }
 ],
 "metadata": {
  "kernelspec": {
   "display_name": "Python 3",
   "language": "python",
   "name": "python3"
  },
  "language_info": {
   "codemirror_mode": {
    "name": "ipython",
    "version": 3
   },
   "file_extension": ".py",
   "mimetype": "text/x-python",
   "name": "python",
   "nbconvert_exporter": "python",
   "pygments_lexer": "ipython3",
   "version": "3.6.5"
  }
 },
 "nbformat": 4,
 "nbformat_minor": 2
}
