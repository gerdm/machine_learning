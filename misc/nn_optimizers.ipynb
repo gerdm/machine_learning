{
 "cells": [
  {
   "cell_type": "markdown",
   "metadata": {},
   "source": [
    "# Optimizers\n",
    "\n",
    "In this notebook we will be comparing the most common optimizer to train feed-forward neural networks."
   ]
  },
  {
   "cell_type": "code",
   "execution_count": 1,
   "metadata": {},
   "outputs": [],
   "source": [
    "import numpy as np\n",
    "import matplotlib.pyplot as plt"
   ]
  },
  {
   "cell_type": "markdown",
   "metadata": {},
   "source": [
    "$$\n",
    "    f(x, y) = x^2 + 2xy + y^2\n",
    "$$\n",
    "\n",
    "$$\n",
    "    \\nabla f = \\begin{bmatrix} 2x + 2y \\\\ 2y + 2x\\end{bmatrix}\n",
    "$$"
   ]
  },
  {
   "cell_type": "code",
   "execution_count": 20,
   "metadata": {},
   "outputs": [
    {
     "data": {
      "text/plain": [
       "<matplotlib.collections.PathCollection at 0x11c7c8fd0>"
      ]
     },
     "execution_count": 20,
     "metadata": {},
     "output_type": "execute_result"
    },
    {
     "data": {
      "image/png": "[encoded data removed]",
      "text/plain": [
       "<Figure size 432x288 with 1 Axes>"
      ]
     },
     "metadata": {},
     "output_type": "display_data"
    }
   ],
   "source": [
    "def f(x, y): return x ** 2 + 2 * x * y + y ** 2\n",
    "\n",
    "X, Y = np.mgrid[-2: 2:0.1, -2: 2:0.1]\n",
    "\n",
    "plt.contourf(X, Y, f(X, Y), 50)\n",
    "plt.scatter(-1.7, -1,5, c=\"tab:red\")"
   ]
  },
  {
   "cell_type": "code",
   "execution_count": 78,
   "metadata": {},
   "outputs": [],
   "source": [
    "def gradf(f, *xv, epsilon=1e-6):\n",
    "    \"\"\"\n",
    "    Approximate the numerical gradient of f\n",
    "    \"\"\"\n",
    "    nx = len(xv)\n",
    "    xv_stack = np.array([xv for _ in range(nx)]).reshape(-1, nx)\n",
    "    xv_stack_pos = (xv_stack + np.eye(nx) * epsilon).T\n",
    "    xv_stack_neg = (xv_stack - np.eye(nx) * epsilon).T\n",
    "    grad = (f(*xv_stack_pos) - f(*xv_stack_neg)) / (2 * epsilon)\n",
    "    return grad"
   ]
  },
  {
   "cell_type": "code",
   "execution_count": 79,
   "metadata": {},
   "outputs": [
    {
     "data": {
      "text/plain": [
       "array([ 6.,  6.])"
      ]
     },
     "execution_count": 79,
     "metadata": {},
     "output_type": "execute_result"
    }
   ],
   "source": [
    "gradf(f, 1, 2)"
   ]
  },
  {
   "cell_type": "code",
   "execution_count": 67,
   "metadata": {},
   "outputs": [
    {
     "data": {
      "text/plain": [
       "array([ 9.000006,  9.000006])"
      ]
     },
     "execution_count": 67,
     "metadata": {},
     "output_type": "execute_result"
    }
   ],
   "source": [
    "f(*gradf(f, 1, 2).T)"
   ]
  },
  {
   "cell_type": "code",
   "execution_count": 54,
   "metadata": {},
   "outputs": [
    {
     "data": {
      "text/plain": [
       "array([[ 1.000001,  2.      ,  3.      ],\n",
       "       [ 1.      ,  2.000001,  3.      ],\n",
       "       [ 1.      ,  2.      ,  3.000001]])"
      ]
     },
     "execution_count": 54,
     "metadata": {},
     "output_type": "execute_result"
    }
   ],
   "source": [
    "xv = (1, 2, 3)\n",
    "epsilon = 1e-6\n",
    "np.array([xv for i in range(len(xv))]).reshape(-1, 3) + np.eye(3) * epsilon"
   ]
  }
 ],
 "metadata": {
  "kernelspec": {
   "display_name": "Python 3",
   "language": "python",
   "name": "python3"
  },
  "language_info": {
   "codemirror_mode": {
    "name": "ipython",
    "version": 3
   },
   "file_extension": ".py",
   "mimetype": "text/x-python",
   "name": "python",
   "nbconvert_exporter": "python",
   "pygments_lexer": "ipython3",
   "version": "3.6.5"
  }
 },
 "nbformat": 4,
 "nbformat_minor": 2
}
