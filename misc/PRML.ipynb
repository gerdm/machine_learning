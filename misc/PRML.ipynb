{
 "cells": [
  {
   "cell_type": "markdown",
   "metadata": {},
   "source": [
    "# PRML"
   ]
  },
  {
   "cell_type": "code",
   "execution_count": 1,
   "metadata": {},
   "outputs": [],
   "source": [
    "import numpy as np\n",
    "import matplotlib.pyplot as plt"
   ]
  },
  {
   "cell_type": "code",
   "execution_count": 2,
   "metadata": {},
   "outputs": [],
   "source": [
    "from itertools import combinations_with_replacement\n",
    "import sympy\n",
    "sympy.init_printing()"
   ]
  },
  {
   "cell_type": "markdown",
   "metadata": {},
   "source": [
    "### Exercise 1.15\n",
    "The $M$-th order term for a $D$-dimensional polynomial is given by\n",
    "$$\n",
    "    \\sum_{i_1=1}^D \\sum_{i_2=1}^D \\dots \\sum_{i_M=1}^D w_{i_1,i_2,\\ldots,i_M}x_{i_1}x_{i_2}\\ldots x_{i_M}\n",
    "$$\n",
    "Show that we can rewrite the last expresion by removing redundant terms in the form:\n",
    "$$\n",
    "    \\sum_{i_1=1}^D \\sum_{i_2=1}^{i_1} \\dots \\sum_{i_M=1}^{i_{M-1}} \\tilde w_{i_1,i_2,\\ldots,i_M}x_{i_1}x_{i_2}\\ldots x_{i_M}\n",
    "$$\n",
    "\n",
    "Note: the number of independent parameters is significantly fewer due to the many interchange symmetries of the factor $x_{i_1}x_{i_2}\\ldots x_{i_M}$"
   ]
  },
  {
   "cell_type": "code",
   "execution_count": 2,
   "metadata": {},
   "outputs": [],
   "source": [
    "terms = range(1, 4)\n",
    "i, j, k = symbols(\"i j k\", integer=True)\n",
    "what = IndexedBase(\"\\hat{w}\")\n",
    "x = IndexedBase(\"x\")"
   ]
  },
  {
   "cell_type": "code",
   "execution_count": 3,
   "metadata": {},
   "outputs": [],
   "source": [
    "def extract(iterable: list, elements: list) -> list:\n",
    "    \"\"\"\n",
    "    Extract and convert elements from a multi-level\n",
    "    list into a 1D list\n",
    "    \"\"\"\n",
    "    for el in iterable:\n",
    "        if type(el) == list:\n",
    "            extract(el, elements)\n",
    "        else:\n",
    "            elements.append(el)\n",
    "    return elements"
   ]
  },
  {
   "cell_type": "code",
   "execution_count": 4,
   "metadata": {},
   "outputs": [],
   "source": [
    "def term2d(i, j): return Indexed(\"\\hat{w}\", i, j) * Indexed(\"x\", i) * Indexed(\"x\", j)\n",
    "def term3d(i, j, k): return Indexed(\"\\hat{w}\", i, j, k) * Indexed(\"x\", i) * Indexed(\"x\", j) * Indexed(\"x\", k)"
   ]
  },
  {
   "cell_type": "markdown",
   "metadata": {},
   "source": [
    "#### For $D=2$, $M=3$"
   ]
  },
  {
   "cell_type": "code",
   "execution_count": 5,
   "metadata": {},
   "outputs": [
    {
     "data": {
      "image/png": "[encoded data removed]",
      "text/latex": [
       "$$\\sum_{\\substack{1 \\leq i \\leq 3\\\\1 \\leq j \\leq i}} {\\hat{w}}_{i,j} {x}_{i} {x}_{j}$$"
      ],
      "text/plain": [
       "  i     3                          \n",
       " ___   ___                         \n",
       " ╲     ╲                           \n",
       "  ╲     ╲   \\hat{w}[i, j]⋅x[i]⋅x[j]\n",
       "  ╱     ╱                          \n",
       " ╱     ╱                           \n",
       " ‾‾‾   ‾‾‾                         \n",
       "j = 1 i = 1                        "
      ]
     },
     "execution_count": 5,
     "metadata": {},
     "output_type": "execute_result"
    }
   ],
   "source": [
    "Sum(term2d(i, j), (i, 1, 3), (j, 1, i))"
   ]
  },
  {
   "cell_type": "code",
   "execution_count": 6,
   "metadata": {},
   "outputs": [
    {
     "data": {
      "image/png": "[encoded data removed]",
      "text/latex": [
       "$${\\hat{w}}_{1,1} {x}_{1}^{2} + {\\hat{w}}_{2,1} {x}_{1} {x}_{2} + {\\hat{w}}_{2,2} {x}_{2}^{2} + {\\hat{w}}_{3,1} {x}_{1} {x}_{3} + {\\hat{w}}_{3,2} {x}_{2} {x}_{3} + {\\hat{w}}_{3,3} {x}_{3}^{2}$$"
      ],
      "text/plain": [
       "                  2                                               2           \n",
       "\\hat{w}[1, 1]⋅x[1]  + \\hat{w}[2, 1]⋅x[1]⋅x[2] + \\hat{w}[2, 2]⋅x[2]  + \\hat{w}[\n",
       "\n",
       "                                                              2\n",
       "3, 1]⋅x[1]⋅x[3] + \\hat{w}[3, 2]⋅x[2]⋅x[3] + \\hat{w}[3, 3]⋅x[3] "
      ]
     },
     "execution_count": 6,
     "metadata": {},
     "output_type": "execute_result"
    }
   ],
   "source": [
    "elements = [[term2d(i, j) for j in range(1, i + 1)] for i in terms]\n",
    "simple_term = sum(extract(elements, []))\n",
    "simple_term"
   ]
  },
  {
   "cell_type": "code",
   "execution_count": 17,
   "metadata": {},
   "outputs": [
    {
     "data": {
      "image/png": "[encoded data removed]",
      "text/latex": [
       "$$\\sum_{\\substack{1 \\leq i \\leq 3\\\\1 \\leq j \\leq 3}} {\\hat{w}}_{i,j} {x}_{i} {x}_{j}$$"
      ],
      "text/plain": [
       "  3     3                          \n",
       " ___   ___                         \n",
       " ╲     ╲                           \n",
       "  ╲     ╲   \\hat{w}[i, j]⋅x[i]⋅x[j]\n",
       "  ╱     ╱                          \n",
       " ╱     ╱                           \n",
       " ‾‾‾   ‾‾‾                         \n",
       "j = 1 i = 1                        "
      ]
     },
     "execution_count": 17,
     "metadata": {},
     "output_type": "execute_result"
    }
   ],
   "source": [
    "Sum(term2d(i, j), (i, 1, 3), (j, 1, 3))"
   ]
  },
  {
   "cell_type": "code",
   "execution_count": 8,
   "metadata": {},
   "outputs": [
    {
     "data": {
      "image/png": "[encoded data removed]",
      "text/latex": [
       "$${\\hat{w}}_{1,1} {x}_{1}^{2} + {\\hat{w}}_{1,2} {x}_{1} {x}_{2} + {\\hat{w}}_{1,3} {x}_{1} {x}_{3} + {\\hat{w}}_{2,1} {x}_{1} {x}_{2} + {\\hat{w}}_{2,2} {x}_{2}^{2} + {\\hat{w}}_{2,3} {x}_{2} {x}_{3} + {\\hat{w}}_{3,1} {x}_{1} {x}_{3} + {\\hat{w}}_{3,2} {x}_{2} {x}_{3} + {\\hat{w}}_{3,3} {x}_{3}^{2}$$"
      ],
      "text/plain": [
       "                  2                                                           \n",
       "\\hat{w}[1, 1]⋅x[1]  + \\hat{w}[1, 2]⋅x[1]⋅x[2] + \\hat{w}[1, 3]⋅x[1]⋅x[3] + \\hat\n",
       "\n",
       "                                        2                                     \n",
       "{w}[2, 1]⋅x[1]⋅x[2] + \\hat{w}[2, 2]⋅x[2]  + \\hat{w}[2, 3]⋅x[2]⋅x[3] + \\hat{w}[\n",
       "\n",
       "                                                              2\n",
       "3, 1]⋅x[1]⋅x[3] + \\hat{w}[3, 2]⋅x[2]⋅x[3] + \\hat{w}[3, 3]⋅x[3] "
      ]
     },
     "execution_count": 8,
     "metadata": {},
     "output_type": "execute_result"
    }
   ],
   "source": [
    "full_term =  summation(term2d(i, j), (i, 1, 3), (j, 1, 3))\n",
    "full_term"
   ]
  },
  {
   "cell_type": "code",
   "execution_count": 9,
   "metadata": {},
   "outputs": [
    {
     "data": {
      "image/png": "[encoded data removed]",
      "text/latex": [
       "$${\\hat{w}}_{1,1} {x}_{1}^{2} + 2 {\\hat{w}}_{1,2} {x}_{1} {x}_{2} + 2 {\\hat{w}}_{1,3} {x}_{1} {x}_{3} + {\\hat{w}}_{2,2} {x}_{2}^{2} + 2 {\\hat{w}}_{2,3} {x}_{2} {x}_{3} + {\\hat{w}}_{3,3} {x}_{3}^{2}$$"
      ],
      "text/plain": [
       "                  2                                                           \n",
       "\\hat{w}[1, 1]⋅x[1]  + 2⋅\\hat{w}[1, 2]⋅x[1]⋅x[2] + 2⋅\\hat{w}[1, 3]⋅x[1]⋅x[3] + \n",
       "\n",
       "                  2                                                 2\n",
       "\\hat{w}[2, 2]⋅x[2]  + 2⋅\\hat{w}[2, 3]⋅x[2]⋅x[3] + \\hat{w}[3, 3]⋅x[3] "
      ]
     },
     "execution_count": 9,
     "metadata": {},
     "output_type": "execute_result"
    }
   ],
   "source": [
    "replacement = {what[x, y]: what[y, x] for x, y in ([2, 1], [3, 1], [3, 2])}\n",
    "full_term.xreplace(replacement) "
   ]
  },
  {
   "cell_type": "code",
   "execution_count": 10,
   "metadata": {},
   "outputs": [
    {
     "data": {
      "image/png": "[encoded data removed]",
      "text/latex": [
       "$$\\left({\\hat{w}}_{1,2} + {\\hat{w}}_{2,1}\\right) {x}_{1} {x}_{2} + \\left({\\hat{w}}_{1,3} + {\\hat{w}}_{3,1}\\right) {x}_{1} {x}_{3} + \\left({\\hat{w}}_{2,3} + {\\hat{w}}_{3,2}\\right) {x}_{2} {x}_{3} + {\\hat{w}}_{1,1} {x}_{1}^{2} + {\\hat{w}}_{2,2} {x}_{2}^{2} + {\\hat{w}}_{3,3} {x}_{3}^{2}$$"
      ],
      "text/plain": [
       "                                                                              \n",
       "(\\hat{w}[1, 2] + \\hat{w}[2, 1])⋅x[1]⋅x[2] + (\\hat{w}[1, 3] + \\hat{w}[3, 1])⋅x[\n",
       "\n",
       "                                                                        2     \n",
       "1]⋅x[3] + (\\hat{w}[2, 3] + \\hat{w}[3, 2])⋅x[2]⋅x[3] + \\hat{w}[1, 1]⋅x[1]  + \\h\n",
       "\n",
       "                2                     2\n",
       "at{w}[2, 2]⋅x[2]  + \\hat{w}[3, 3]⋅x[3] "
      ]
     },
     "execution_count": 10,
     "metadata": {},
     "output_type": "execute_result"
    }
   ],
   "source": [
    "collect(full_term, [x[1]*x[2], x[1] * x[3], x[2] * x[3]])"
   ]
  },
  {
   "cell_type": "markdown",
   "metadata": {},
   "source": [
    "-------"
   ]
  },
  {
   "cell_type": "markdown",
   "metadata": {},
   "source": [
    "#### For $D=3$, $M=3$"
   ]
  },
  {
   "cell_type": "code",
   "execution_count": 11,
   "metadata": {},
   "outputs": [
    {
     "data": {
      "image/png": "[encoded data removed]",
      "text/latex": [
       "$$\\sum_{\\substack{1 \\leq i \\leq 3\\\\1 \\leq j \\leq i\\\\1 \\leq k \\leq j}} {\\hat{w}}_{i,j,k} {x}_{i} {x}_{j} {x}_{k}$$"
      ],
      "text/plain": [
       "  j     i     3                                  \n",
       " ___   ___   ___                                 \n",
       " ╲     ╲     ╲                                   \n",
       "  ╲     ╲     ╲   \\hat{w}[i, j, k]⋅x[i]⋅x[j]⋅x[k]\n",
       "  ╱     ╱     ╱                                  \n",
       " ╱     ╱     ╱                                   \n",
       " ‾‾‾   ‾‾‾   ‾‾‾                                 \n",
       "k = 1 j = 1 i = 1                                "
      ]
     },
     "execution_count": 11,
     "metadata": {},
     "output_type": "execute_result"
    }
   ],
   "source": [
    "Sum(term3d(i, j, k), (i, 1, 3), (j, 1, i), (k, 1, j))"
   ]
  },
  {
   "cell_type": "code",
   "execution_count": 12,
   "metadata": {},
   "outputs": [
    {
     "data": {
      "image/png": "[encoded data removed]",
      "text/latex": [
       "$${\\hat{w}}_{1,1,1} {x}_{1}^{3} + {\\hat{w}}_{2,1,1} {x}_{1}^{2} {x}_{2} + {\\hat{w}}_{2,2,1} {x}_{1} {x}_{2}^{2} + {\\hat{w}}_{2,2,2} {x}_{2}^{3} + {\\hat{w}}_{3,1,1} {x}_{1}^{2} {x}_{3} + {\\hat{w}}_{3,2,1} {x}_{1} {x}_{2} {x}_{3} + {\\hat{w}}_{3,2,2} {x}_{2}^{2} {x}_{3} + {\\hat{w}}_{3,3,1} {x}_{1} {x}_{3}^{2} + {\\hat{w}}_{3,3,2} {x}_{2} {x}_{3}^{2} + {\\hat{w}}_{3,3,3} {x}_{3}^{3}$$"
      ],
      "text/plain": [
       "                     3                        2                               \n",
       "\\hat{w}[1, 1, 1]⋅x[1]  + \\hat{w}[2, 1, 1]⋅x[1] ⋅x[2] + \\hat{w}[2, 2, 1]⋅x[1]⋅x\n",
       "\n",
       "   2                        3                        2                        \n",
       "[2]  + \\hat{w}[2, 2, 2]⋅x[2]  + \\hat{w}[3, 1, 1]⋅x[1] ⋅x[3] + \\hat{w}[3, 2, 1]\n",
       "\n",
       "                                       2                                  2   \n",
       "⋅x[1]⋅x[2]⋅x[3] + \\hat{w}[3, 2, 2]⋅x[2] ⋅x[3] + \\hat{w}[3, 3, 1]⋅x[1]⋅x[3]  + \n",
       "\n",
       "                          2                        3\n",
       "\\hat{w}[3, 3, 2]⋅x[2]⋅x[3]  + \\hat{w}[3, 3, 3]⋅x[3] "
      ]
     },
     "execution_count": 12,
     "metadata": {},
     "output_type": "execute_result"
    }
   ],
   "source": [
    "elements = [[[term3d(i, j, k) for k in range(1, j + 1)] for j in range(1 + i)] for i in terms]\n",
    "simple_term = sum(extract(elements, []))\n",
    "simple_term"
   ]
  },
  {
   "cell_type": "code",
   "execution_count": 13,
   "metadata": {},
   "outputs": [
    {
     "data": {
      "image/png": "[encoded data removed]",
      "text/latex": [
       "$$\\sum_{\\substack{1 \\leq i \\leq 3\\\\1 \\leq j \\leq 3\\\\1 \\leq k \\leq 3}} {\\hat{w}}_{i,j,k} {x}_{i} {x}_{j} {x}_{k}$$"
      ],
      "text/plain": [
       "  3     3     3                                  \n",
       " ___   ___   ___                                 \n",
       " ╲     ╲     ╲                                   \n",
       "  ╲     ╲     ╲   \\hat{w}[i, j, k]⋅x[i]⋅x[j]⋅x[k]\n",
       "  ╱     ╱     ╱                                  \n",
       " ╱     ╱     ╱                                   \n",
       " ‾‾‾   ‾‾‾   ‾‾‾                                 \n",
       "k = 1 j = 1 i = 1                                "
      ]
     },
     "execution_count": 13,
     "metadata": {},
     "output_type": "execute_result"
    }
   ],
   "source": [
    "Sum(term3d(i, j, k), (i, 1, 3), (j, 1, 3), (k, 1, 3))"
   ]
  },
  {
   "cell_type": "code",
   "execution_count": 14,
   "metadata": {},
   "outputs": [
    {
     "data": {
      "image/png": "[encoded data removed]",
      "text/latex": [
       "$${\\hat{w}}_{1,1,1} {x}_{1}^{3} + {\\hat{w}}_{1,1,2} {x}_{1}^{2} {x}_{2} + {\\hat{w}}_{1,1,3} {x}_{1}^{2} {x}_{3} + {\\hat{w}}_{1,2,1} {x}_{1}^{2} {x}_{2} + {\\hat{w}}_{1,2,2} {x}_{1} {x}_{2}^{2} + {\\hat{w}}_{1,2,3} {x}_{1} {x}_{2} {x}_{3} + {\\hat{w}}_{1,3,1} {x}_{1}^{2} {x}_{3} + {\\hat{w}}_{1,3,2} {x}_{1} {x}_{2} {x}_{3} + {\\hat{w}}_{1,3,3} {x}_{1} {x}_{3}^{2} + {\\hat{w}}_{2,1,1} {x}_{1}^{2} {x}_{2} + {\\hat{w}}_{2,1,2} {x}_{1} {x}_{2}^{2} + {\\hat{w}}_{2,1,3} {x}_{1} {x}_{2} {x}_{3} + {\\hat{w}}_{2,2,1} {x}_{1} {x}_{2}^{2} + {\\hat{w}}_{2,2,2} {x}_{2}^{3} + {\\hat{w}}_{2,2,3} {x}_{2}^{2} {x}_{3} + {\\hat{w}}_{2,3,1} {x}_{1} {x}_{2} {x}_{3} + {\\hat{w}}_{2,3,2} {x}_{2}^{2} {x}_{3} + {\\hat{w}}_{2,3,3} {x}_{2} {x}_{3}^{2} + {\\hat{w}}_{3,1,1} {x}_{1}^{2} {x}_{3} + {\\hat{w}}_{3,1,2} {x}_{1} {x}_{2} {x}_{3} + {\\hat{w}}_{3,1,3} {x}_{1} {x}_{3}^{2} + {\\hat{w}}_{3,2,1} {x}_{1} {x}_{2} {x}_{3} + {\\hat{w}}_{3,2,2} {x}_{2}^{2} {x}_{3} + {\\hat{w}}_{3,2,3} {x}_{2} {x}_{3}^{2} + {\\hat{w}}_{3,3,1} {x}_{1} {x}_{3}^{2} + {\\hat{w}}_{3,3,2} {x}_{2} {x}_{3}^{2} + {\\hat{w}}_{3,3,3} {x}_{3}^{3}$$"
      ],
      "text/plain": [
       "                     3                        2                             2 \n",
       "\\hat{w}[1, 1, 1]⋅x[1]  + \\hat{w}[1, 1, 2]⋅x[1] ⋅x[2] + \\hat{w}[1, 1, 3]⋅x[1] ⋅\n",
       "\n",
       "                            2                                  2              \n",
       "x[3] + \\hat{w}[1, 2, 1]⋅x[1] ⋅x[2] + \\hat{w}[1, 2, 2]⋅x[1]⋅x[2]  + \\hat{w}[1, \n",
       "\n",
       "                                            2                                 \n",
       "2, 3]⋅x[1]⋅x[2]⋅x[3] + \\hat{w}[1, 3, 1]⋅x[1] ⋅x[3] + \\hat{w}[1, 3, 2]⋅x[1]⋅x[2\n",
       "\n",
       "                                   2                        2                 \n",
       "]⋅x[3] + \\hat{w}[1, 3, 3]⋅x[1]⋅x[3]  + \\hat{w}[2, 1, 1]⋅x[1] ⋅x[2] + \\hat{w}[2\n",
       "\n",
       "                 2                                                            \n",
       ", 1, 2]⋅x[1]⋅x[2]  + \\hat{w}[2, 1, 3]⋅x[1]⋅x[2]⋅x[3] + \\hat{w}[2, 2, 1]⋅x[1]⋅x\n",
       "\n",
       "   2                        3                        2                        \n",
       "[2]  + \\hat{w}[2, 2, 2]⋅x[2]  + \\hat{w}[2, 2, 3]⋅x[2] ⋅x[3] + \\hat{w}[2, 3, 1]\n",
       "\n",
       "                                       2                                  2   \n",
       "⋅x[1]⋅x[2]⋅x[3] + \\hat{w}[2, 3, 2]⋅x[2] ⋅x[3] + \\hat{w}[2, 3, 3]⋅x[2]⋅x[3]  + \n",
       "\n",
       "                     2                                                        \n",
       "\\hat{w}[3, 1, 1]⋅x[1] ⋅x[3] + \\hat{w}[3, 1, 2]⋅x[1]⋅x[2]⋅x[3] + \\hat{w}[3, 1, \n",
       "\n",
       "            2                                                          2      \n",
       "3]⋅x[1]⋅x[3]  + \\hat{w}[3, 2, 1]⋅x[1]⋅x[2]⋅x[3] + \\hat{w}[3, 2, 2]⋅x[2] ⋅x[3] \n",
       "\n",
       "                            2                             2                   \n",
       "+ \\hat{w}[3, 2, 3]⋅x[2]⋅x[3]  + \\hat{w}[3, 3, 1]⋅x[1]⋅x[3]  + \\hat{w}[3, 3, 2]\n",
       "\n",
       "          2                        3\n",
       "⋅x[2]⋅x[3]  + \\hat{w}[3, 3, 3]⋅x[3] "
      ]
     },
     "execution_count": 14,
     "metadata": {},
     "output_type": "execute_result"
    }
   ],
   "source": [
    "full_term = summation(term3d(i, j, k), (i, 1, 3), (j, 1, 3), (k, 1, 3))\n",
    "full_term"
   ]
  },
  {
   "cell_type": "code",
   "execution_count": 16,
   "metadata": {},
   "outputs": [
    {
     "data": {
      "image/png": "[encoded data removed]",
      "text/latex": [
       "$$\\left({\\hat{w}}_{1,1,2} + {\\hat{w}}_{1,2,1} + {\\hat{w}}_{2,1,1}\\right) {x}_{1}^{2} {x}_{2} + \\left({\\hat{w}}_{1,1,3} + {\\hat{w}}_{1,3,1} + {\\hat{w}}_{3,1,1}\\right) {x}_{1}^{2} {x}_{3} + \\left({\\hat{w}}_{1,2,2} + {\\hat{w}}_{2,1,2} + {\\hat{w}}_{2,2,1}\\right) {x}_{1} {x}_{2}^{2} + \\left({\\hat{w}}_{1,3,3} + {\\hat{w}}_{3,1,3} + {\\hat{w}}_{3,3,1}\\right) {x}_{1} {x}_{3}^{2} + \\left({\\hat{w}}_{2,2,3} + {\\hat{w}}_{2,3,2} + {\\hat{w}}_{3,2,2}\\right) {x}_{2}^{2} {x}_{3} + \\left({\\hat{w}}_{2,3,3} + {\\hat{w}}_{3,2,3} + {\\hat{w}}_{3,3,2}\\right) {x}_{2} {x}_{3}^{2} + \\left({\\hat{w}}_{1,2,3} + {\\hat{w}}_{1,3,2} + {\\hat{w}}_{2,1,3} + {\\hat{w}}_{2,3,1} + {\\hat{w}}_{3,1,2} + {\\hat{w}}_{3,2,1}\\right) {x}_{1} {x}_{2} {x}_{3} + {\\hat{w}}_{1,1,1} {x}_{1}^{3} + {\\hat{w}}_{2,2,2} {x}_{2}^{3} + {\\hat{w}}_{3,3,3} {x}_{3}^{3}$$"
      ],
      "text/plain": [
       "                                                             2                \n",
       "(\\hat{w}[1, 1, 2] + \\hat{w}[1, 2, 1] + \\hat{w}[2, 1, 1])⋅x[1] ⋅x[2] + (\\hat{w}\n",
       "\n",
       "                                                     2                        \n",
       "[1, 1, 3] + \\hat{w}[1, 3, 1] + \\hat{w}[3, 1, 1])⋅x[1] ⋅x[3] + (\\hat{w}[1, 2, 2\n",
       "\n",
       "                                                  2                           \n",
       "] + \\hat{w}[2, 1, 2] + \\hat{w}[2, 2, 1])⋅x[1]⋅x[2]  + (\\hat{w}[1, 3, 3] + \\hat\n",
       "\n",
       "                                          2                                   \n",
       "{w}[3, 1, 3] + \\hat{w}[3, 3, 1])⋅x[1]⋅x[3]  + (\\hat{w}[2, 2, 3] + \\hat{w}[2, 3\n",
       "\n",
       "                             2                                                \n",
       ", 2] + \\hat{w}[3, 2, 2])⋅x[2] ⋅x[3] + (\\hat{w}[2, 3, 3] + \\hat{w}[3, 2, 3] + \\\n",
       "\n",
       "                          2                                                   \n",
       "hat{w}[3, 3, 2])⋅x[2]⋅x[3]  + (\\hat{w}[1, 2, 3] + \\hat{w}[1, 3, 2] + \\hat{w}[2\n",
       "\n",
       "                                                                              \n",
       ", 1, 3] + \\hat{w}[2, 3, 1] + \\hat{w}[3, 1, 2] + \\hat{w}[3, 2, 1])⋅x[1]⋅x[2]⋅x[\n",
       "\n",
       "                          3                        3                        3\n",
       "3] + \\hat{w}[1, 1, 1]⋅x[1]  + \\hat{w}[2, 2, 2]⋅x[2]  + \\hat{w}[3, 3, 3]⋅x[3] "
      ]
     },
     "execution_count": 16,
     "metadata": {},
     "output_type": "execute_result"
    }
   ],
   "source": [
    "groupping = [x[a] *  x[b] * x[c] for a, b, c in combinations_with_replacement([1, 2, 3], r=3)]\n",
    "collect(full_term, groupping, exact=True)"
   ]
  },
  {
   "cell_type": "markdown",
   "metadata": {},
   "source": [
    "### Exercise 1.18\n",
    "By considering\n",
    "$$\n",
    "    \\prod_{i=1}^D \\int_{-\\infty}^{\\infty}e^{-x_i^2} dx_i = S_D \\int_{0}^\\infty e^{-r^2}r^{D-1}dr\n",
    "$$\n",
    "\n",
    "We can show that the surface area $S_D$ and the volume $V_D$ of a unit radius in $D$ dimensions is given by\n",
    "\n",
    "$$\n",
    "    S_D = \\frac{2\\pi^{D/2}}{\\Gamma(D/2)}\n",
    "$$\n",
    "\n",
    "$$\n",
    "    V_D = \\frac{S_D}{D}\n",
    "$$"
   ]
  },
  {
   "cell_type": "code",
   "execution_count": 6,
   "metadata": {},
   "outputs": [],
   "source": [
    "from scipy.special import gamma\n",
    "\n",
    "D = np.linspace(0.1, 20, 1000)\n",
    "Sd = 2 * np.pi * D / gamma(D / 2)\n",
    "Vd = Sd / D"
   ]
  },
  {
   "cell_type": "code",
   "execution_count": 36,
   "metadata": {},
   "outputs": [
    {
     "data": {
      "image/png": "[encoded data removed]",
      "text/plain": [
       "<Figure size 1080x360 with 2 Axes>"
      ]
     },
     "metadata": {
      "needs_background": "light"
     },
     "output_type": "display_data"
    }
   ],
   "source": [
    "fig = plt.figure(figsize=(15, 5))\n",
    "\n",
    "ax = fig.add_subplot(1, 2, 1)\n",
    "ax.plot(D, Sd)\n",
    "ax.set_title(\"Surface Area for unit sphere in $D$ dimensions\")\n",
    "ax.set_xlabel(\"$D$\")\n",
    "ax.set_ylabel(\"$S_D$\")\n",
    "ax.grid(alpha=0.4)\n",
    "\n",
    "ax = fig.add_subplot(1, 2, 2)\n",
    "ax.plot(D, Vd)\n",
    "ax.set_title(\"Volume of a unit sphere in $D$ dimensions\")\n",
    "ax.set_xlabel(\"$D$\")\n",
    "ax.set_ylabel(\"$V_D$\")\n",
    "ax.grid(alpha=0.4)"
   ]
  },
  {
   "cell_type": "markdown",
   "metadata": {},
   "source": [
    "### Exercise 1.20\n",
    "By considering\n",
    "$$\n",
    "    p(\\mathbf{x}) = \\frac{1}{\\left(2\\pi\\sigma^2\\right)^{D/2}}\\exp{\\left(-\\frac{||\\mathbf{x}||^2}{2\\sigma^2}\\right)}\n",
    "$$\n",
    "\n",
    "Show that the integralof the probability density over a thin shell of radius $r$ and thickness $\\varepsilon$, where $\\varepsilon \\ll 1$, is given by $p(r)\\varepsilon$ where\n",
    "\n",
    "$$\n",
    "    p(r) = \\frac{S_Dr^{D-1}}{\\left(2\\pi\\sigma^2\\right)^{D/2}}\\exp\\left(-\\frac{-r^2}{2\\sigma^2}\\right)\n",
    "$$"
   ]
  },
  {
   "cell_type": "code",
   "execution_count": 10,
   "metadata": {},
   "outputs": [],
   "source": [
    "from sympy import cos, sin\n",
    "t1, t2, t3, r = sympy.symbols(\"theta1 theta2 theta3 r\")\n",
    "x1 = r * cos(t1)\n",
    "x2 = r * sin(t1) * cos(t2)\n",
    "x3 = r * sin(t1) * sin(t2) * cos(t3)\n",
    "x4 = r * sin(t1) * sin(t2) * sin(t3)"
   ]
  },
  {
   "cell_type": "code",
   "execution_count": 20,
   "metadata": {},
   "outputs": [
    {
     "data": {
      "image/png": "[encoded data removed]",
      "text/latex": [
       "$$r^{2} \\sin^{2}{\\left (\\theta_{1} \\right )} \\sin^{2}{\\left (\\theta_{2} \\right )} \\sin^{2}{\\left (\\theta_{3} \\right )} + r^{2} \\sin^{2}{\\left (\\theta_{1} \\right )} \\sin^{2}{\\left (\\theta_{2} \\right )} \\cos^{2}{\\left (\\theta_{3} \\right )} + r^{2} \\sin^{2}{\\left (\\theta_{1} \\right )} \\cos^{2}{\\left (\\theta_{2} \\right )} + r^{2} \\cos^{2}{\\left (\\theta_{1} \\right )}$$"
      ],
      "text/plain": [
       " 2    2        2        2        2    2        2        2        2    2       \n",
       "r ⋅sin (θ₁)⋅sin (θ₂)⋅sin (θ₃) + r ⋅sin (θ₁)⋅sin (θ₂)⋅cos (θ₃) + r ⋅sin (θ₁)⋅co\n",
       "\n",
       " 2        2    2    \n",
       "s (θ₂) + r ⋅cos (θ₁)"
      ]
     },
     "execution_count": 20,
     "metadata": {},
     "output_type": "execute_result"
    }
   ],
   "source": [
    "X2 = sum([x**2 for x in [x1, x2, x3, x4]])\n",
    "X2"
   ]
  },
  {
   "cell_type": "code",
   "execution_count": 21,
   "metadata": {},
   "outputs": [
    {
     "data": {
      "image/png": "[encoded data removed]",
      "text/latex": [
       "$$r^{2}$$"
      ],
      "text/plain": [
       " 2\n",
       "r "
      ]
     },
     "execution_count": 21,
     "metadata": {},
     "output_type": "execute_result"
    }
   ],
   "source": [
    "X2.simplify()"
   ]
  }
 ],
 "metadata": {
  "kernelspec": {
   "display_name": "Python 3",
   "language": "python",
   "name": "python3"
  },
  "language_info": {
   "codemirror_mode": {
    "name": "ipython",
    "version": 3
   },
   "file_extension": ".py",
   "mimetype": "text/x-python",
   "name": "python",
   "nbconvert_exporter": "python",
   "pygments_lexer": "ipython3",
   "version": "3.6.6"
  }
 },
 "nbformat": 4,
 "nbformat_minor": 2
}
