{
 "cells": [
  {
   "cell_type": "markdown",
   "metadata": {},
   "source": [
    "# CART\n",
    "\n",
    "In this notebook we give a take on the CART algorithm used to train decision trees. The aim of the notebook is to understand how the learning of the tree happens. To do so, we write a highly-recursive, high-memory class `RTree` that fits a decision tree.\n",
    "\n",
    "The objective function for a _greedy_ decision tree model is given by $(i, j)$ such that \n",
    "\n",
    "$$\n",
    "    \\min_{i, j}\\left[\\sum_{\\{i | x_i \\in R_1(j, s)\\}}(y_i - \\hat c_1)^2 + \\sum_{\\{i | x_i \\in R_2(j, s)\\}}(y_i - \\hat c_2)^2\\right]\n",
    "$$\n",
    "\n",
    "Where,\n",
    "\n",
    "$$\n",
    "    \\hat c_k = \\frac{1}{N_k}\\sum_{\\{n|x_n\\in R_k(j, s)\\}} x_n\n",
    "$$\n",
    "\n",
    "That is, our search algorithm's goal is to find, for each input dimension $j$, the value $s$ that minimizes the error term"
   ]
  },
  {
   "cell_type": "code",
   "execution_count": 475,
   "metadata": {},
   "outputs": [],
   "source": [
    "import numpy as np\n",
    "from numpy.random import seed, multivariate_normal\n",
    "import matplotlib.pyplot as plt\n",
    "from matplotlib import style"
   ]
  },
  {
   "cell_type": "code",
   "execution_count": 476,
   "metadata": {},
   "outputs": [],
   "source": [
    "%config InlineBackend.figure_format = \"retina\"\n",
    "style.use(\"seaborn-white\")\n",
    "plt.rcParams.update({'font.size': 15})"
   ]
  },
  {
   "cell_type": "code",
   "execution_count": 548,
   "metadata": {},
   "outputs": [],
   "source": [
    "import warnings\n",
    "class RTree:\n",
    "    def __init__(self, X, y, depth):\n",
    "        \"\"\"\n",
    "        X: Numpy array\n",
    "            Dataset of shape (N, K)\n",
    "        y: Numpy array\n",
    "            Dataset of shape (N,)\n",
    "        \"\"\"\n",
    "        super().__init__()\n",
    "        self.X = X\n",
    "        self.y = y\n",
    "        self.left = None\n",
    "        self.right = None\n",
    "        self.info = None\n",
    "        self.depth = depth\n",
    "        self.trained_subtree = False\n",
    "    \n",
    "    @property\n",
    "    def nterminal_nodes(self):\n",
    "        return 2 ** self.depth\n",
    "        \n",
    "    def fit(self):\n",
    "        pass\n",
    "    \n",
    "    def _prune(self):\n",
    "        pass\n",
    "    \n",
    "    def predict(self, x):\n",
    "        pass\n",
    "    \n",
    "    def fit_subtrees(self):\n",
    "        \"\"\"\n",
    "        Fit the current node of the tree, i.e., store at\n",
    "        self.info (s, E, j) (cutoff point, error term, input dimension)\n",
    "        and prepare the left and right subtree to be fit.\n",
    "        \n",
    "        If self.depth == 0 we stop the recursive process.\n",
    "        Meaning we've reached a terminal node\n",
    "        \"\"\"\n",
    "        self.find_min_err()\n",
    "        s, _, j = self.info\n",
    "        # Elements belonging to R1\n",
    "        R1 = self.Ri(j, s)\n",
    "        yR1 = self.y[R1]\n",
    "        XR1 = self.X[R1, :]\n",
    "        # Elements belonging to R2\n",
    "        R2 = ~R1\n",
    "        yR2 = self.y[R2]\n",
    "        XR2 = self.X[R2, :]\n",
    "        \n",
    "        # Stop splitting the input dimension if there is no element\n",
    "        # inside a region\n",
    "        empty_subset = True if len(yR1) < 1 or len(yR2) < 1 else False\n",
    "        if not empty_subset and self.depth >= 1:\n",
    "            self.left = RTree(XR1, yR1, self.depth - 1)\n",
    "            self.right = RTree(XR2, yR2, self.depth - 1)\n",
    "\n",
    "            self.left.fit_subtrees()\n",
    "            self.right.fit_subtrees()\n",
    "\n",
    "    \n",
    "    def find_min_err(self):\n",
    "        \"\"\"\n",
    "        For the current subtree, find the cutoffpoint s'\n",
    "        the error term that minimizes the criteria and\n",
    "        the input dimension j that results in the lowest\n",
    "        mean of squares error.\n",
    "        \"\"\"\n",
    "        if not self.trained_subtree:\n",
    "            # cutoff point, error value, dim\n",
    "            dimerr = [(*self._min_err_j(j), j) for j in range(self.X.shape[1])]\n",
    "            self.info = min(dimerr, key=lambda v: v[1])\n",
    "            self.data = \"*\"\n",
    "            self.trained_subtree = True\n",
    "        else:\n",
    "            warnings.warn(\"Subtree already trained. You can find the cutoffpoint, err, j at RTree.data\")\n",
    "        \n",
    "    def _min_err_j(self, j):\n",
    "        \"\"\"\n",
    "        Considering the j-th input dimension of our traning dataset,\n",
    "        find the cutoff point s' such that minimizes the objetive error function\n",
    "        \n",
    "        Returns\n",
    "        -------\n",
    "        (float, float):\n",
    "            Return a tuple with two elements: the optimal cutoffpoint s'\n",
    "            and the error value when evaluating self.Ri(j, s')\n",
    "        \"\"\"\n",
    "        Xj = self.X[:, j]\n",
    "        smin, smax = Xj.min(), Xj.max() * 0.99\n",
    "        sdom = np.linspace(smin, smax, 100)\n",
    "        sprime_tuple = min([(s, self.E(j, s)) for s in sdom], key=lambda v: v[1])\n",
    "        # cutoff point, error value\n",
    "        return sprime_tuple\n",
    "        \n",
    "    def Ri(self, j, s):\n",
    "        \"\"\"\n",
    "        Compute whether each of the observations belong to either\n",
    "        R1 or R2.\n",
    "        We assign an observation x to be in R1 if x_j <= s; otherwise we\n",
    "        assign it to R2. In other words, we define Ri ⊆ X as:\n",
    "            \n",
    "        R1 = {x | x_j <= s};\n",
    "        R2 = X - R1\n",
    "        \n",
    "        Note that the negative of the function, i.e., ~self.Ri(j, s)\n",
    "        will return true for which values in the training dataset belong\n",
    "        to R2. \n",
    "        \n",
    "        Parameters\n",
    "        ----------\n",
    "        j: int\n",
    "            the j-th input dimension of X\n",
    "        s: float\n",
    "            cutoff point\n",
    "        \n",
    "        Returns\n",
    "        -------\n",
    "        np.array(N,) of dtype bool:\n",
    "            Return a boolean numpy array of the training dataset\n",
    "            for which traning examples belong to R1.\n",
    "        \"\"\"\n",
    "        return self.X[:, j] <= s\n",
    "    \n",
    "    @staticmethod\n",
    "    def RSS(y):\n",
    "        \"\"\"\n",
    "        Compute the mean residual sum of squares error\n",
    "        \n",
    "        Parameters\n",
    "        ----------\n",
    "        y: np.array(N,)\n",
    "        \n",
    "        Returns\n",
    "        -------\n",
    "        float: mean residual error\n",
    "        \"\"\"\n",
    "        rss = 0 if len(y) == 0 else np.mean((y - y.mean()) ** 2)\n",
    "        return rss\n",
    "    \n",
    "    def E(self, j, s):\n",
    "        \"\"\"\n",
    "        Compute the objective error function for a decision tree model\n",
    "        considering an index j in [0, .., D -1] and a cutoff point s.\n",
    "\n",
    "        Parameters\n",
    "        ----------\n",
    "        j: int\n",
    "            The dimension to evaluate\n",
    "        s: float\n",
    "            The cutoff point\n",
    "        \"\"\"\n",
    "        yR1 = self.y[self.Ri(j, s)] # Elements belonging to R1\n",
    "        yR2 = self.y[~self.Ri(j, s)] # Elements belonging to R2\n",
    "        return self.RSS(yR1) + self.RSS(yR2)"
   ]
  },
  {
   "cell_type": "code",
   "execution_count": 549,
   "metadata": {},
   "outputs": [],
   "source": [
    "seed(314)\n",
    "D1 = multivariate_normal([-1 , 1], np.identity(2) * 0.2, 50)\n",
    "D2 = multivariate_normal([ 1 ,-1], np.identity(2) * 0.2, 50)\n",
    "D3 = multivariate_normal([-1 ,-1], np.identity(2) * 0.2, 50)\n",
    "D4 = multivariate_normal([ 1,  1], np.identity(2) * 0.2, 50)\n",
    "y1 = np.random.randn(50) + 3\n",
    "y2 = np.random.randn(50) - 4\n",
    "y3 = np.random.randn(50) - 8\n",
    "y4 = np.random.randn(50) + 10\n",
    "\n",
    "D = np.r_[D1,D2, D3, D4]\n",
    "y = np.r_[y1, y2, y3, y4]"
   ]
  },
  {
   "cell_type": "markdown",
   "metadata": {},
   "source": [
    "Under this first version of the `RTree` class, we can fit a depth-2 regression tree as follows:"
   ]
  },
  {
   "cell_type": "code",
   "execution_count": 550,
   "metadata": {},
   "outputs": [],
   "source": [
    "tree = RTree(D, y, 2)\n",
    "tree.fit_subtrees()"
   ]
  },
  {
   "cell_type": "markdown",
   "metadata": {},
   "source": [
    "For a depth-2 regression treee we have"
   ]
  },
  {
   "cell_type": "code",
   "execution_count": 551,
   "metadata": {},
   "outputs": [
    {
     "data": {
      "text/plain": [
       "4"
      ]
     },
     "execution_count": 551,
     "metadata": {},
     "output_type": "execute_result"
    }
   ],
   "source": [
    "tree.nterminal_nodes"
   ]
  },
  {
   "cell_type": "markdown",
   "metadata": {},
   "source": [
    "Under `tree.data`, we can find the cutoff point, the error term and the objetive dimension:"
   ]
  },
  {
   "cell_type": "code",
   "execution_count": 553,
   "metadata": {},
   "outputs": [
    {
     "data": {
      "text/plain": [
       "(0.16861316808986837, 22.428994493267734, 1)"
      ]
     },
     "execution_count": 553,
     "metadata": {},
     "output_type": "execute_result"
    }
   ],
   "source": [
    "tree.info"
   ]
  },
  {
   "cell_type": "markdown",
   "metadata": {},
   "source": [
    "The results above show that, for a depth-1 tree, the _locally_ optimum cutoffpoint would be at around `0.17` along the y-axis. If a new observation `x` were to be such that its second entry is less than `0.17` (`x[1] <= 0.17`), we estimate a value `yhat` of "
   ]
  },
  {
   "cell_type": "code",
   "execution_count": 554,
   "metadata": {},
   "outputs": [
    {
     "data": {
      "text/plain": [
       "-5.748803773471802"
      ]
     },
     "execution_count": 554,
     "metadata": {},
     "output_type": "execute_result"
    }
   ],
   "source": [
    "tree.left.y.mean()"
   ]
  },
  {
   "cell_type": "markdown",
   "metadata": {},
   "source": [
    "On the other hand, if `x[1] > 0.17`, we estimate `yhat` as"
   ]
  },
  {
   "cell_type": "code",
   "execution_count": 555,
   "metadata": {},
   "outputs": [
    {
     "data": {
      "text/plain": [
       "6.476684221043483"
      ]
     },
     "execution_count": 555,
     "metadata": {},
     "output_type": "execute_result"
    }
   ],
   "source": [
    "tree.right.y.mean()"
   ]
  },
  {
   "cell_type": "code",
   "execution_count": 556,
   "metadata": {},
   "outputs": [
    {
     "data": {
      "text/plain": [
       "<matplotlib.colorbar.Colorbar at 0x11c9372e8>"
      ]
     },
     "execution_count": 556,
     "metadata": {},
     "output_type": "execute_result"
    },
    {
     "data": {
      "image/png": "[encoded data removed]",
      "text/plain": [
       "<Figure size 432x288 with 2 Axes>"
      ]
     },
     "metadata": {
      "image/png": {
       "height": 267,
       "width": 366
      }
     },
     "output_type": "display_data"
    }
   ],
   "source": [
    "plt.scatter(*D.T, c=y, cmap=\"viridis\")\n",
    "plt.xlabel(\"$x_1$\")\n",
    "plt.ylabel(\"$x_2$\")\n",
    "\n",
    "plt.axhline(y=tree.data[0], c=\"tab:gray\")\n",
    "plt.colorbar()"
   ]
  },
  {
   "cell_type": "markdown",
   "metadata": {},
   "source": [
    "For a depth-2 regression tree (as in this example), and given a new observation `x`. From its first level we know that the first cutoffpoint happens at its second dimension with value `0.17`.\n",
    "\n",
    "If `x[1] <= 0.17` then we consider the **second** cutoffpoint "
   ]
  },
  {
   "cell_type": "code",
   "execution_count": 558,
   "metadata": {},
   "outputs": [
    {
     "data": {
      "text/plain": [
       "(-0.07028726517232764, 8.397848955410351, 0)"
      ]
     },
     "execution_count": 558,
     "metadata": {},
     "output_type": "execute_result"
    }
   ],
   "source": [
    "tree.left.info"
   ]
  },
  {
   "cell_type": "markdown",
   "metadata": {},
   "source": [
    "The second cutoff point, for `x[1] <= 0.17`, happens that the first input dimension at around `-0.07`.  \n",
    "Hence, for `x[1] <= 0.17 and x[0] <= -0.07`, we estimate `yhat` as"
   ]
  },
  {
   "cell_type": "code",
   "execution_count": 559,
   "metadata": {},
   "outputs": [
    {
     "data": {
      "text/plain": [
       "-7.8150199660642"
      ]
     },
     "execution_count": 559,
     "metadata": {},
     "output_type": "execute_result"
    }
   ],
   "source": [
    "tree.left.left.y.mean()"
   ]
  },
  {
   "cell_type": "markdown",
   "metadata": {},
   "source": [
    "On the other hand, for `x[1] <= 0.17 and x[0] > -0.07` we estimate `yhat` as "
   ]
  },
  {
   "cell_type": "code",
   "execution_count": 560,
   "metadata": {},
   "outputs": [
    {
     "data": {
      "text/plain": [
       "-3.6825875808794066"
      ]
     },
     "execution_count": 560,
     "metadata": {},
     "output_type": "execute_result"
    }
   ],
   "source": [
    "tree.left.right.y.mean()"
   ]
  },
  {
   "cell_type": "markdown",
   "metadata": {},
   "source": [
    "Similarly for `x[1] > 0.17 and x[0] <= -0.07` we have"
   ]
  },
  {
   "cell_type": "code",
   "execution_count": 561,
   "metadata": {},
   "outputs": [
    {
     "data": {
      "text/plain": [
       "2.8574605757872753"
      ]
     },
     "execution_count": 561,
     "metadata": {},
     "output_type": "execute_result"
    }
   ],
   "source": [
    "tree.right.left.y.mean()"
   ]
  },
  {
   "cell_type": "markdown",
   "metadata": {},
   "source": [
    "And finally, for `x[1] > 0.17 and x[0] > -0.07` we have"
   ]
  },
  {
   "cell_type": "code",
   "execution_count": 562,
   "metadata": {},
   "outputs": [
    {
     "data": {
      "text/plain": [
       "10.095907866299692"
      ]
     },
     "execution_count": 562,
     "metadata": {},
     "output_type": "execute_result"
    }
   ],
   "source": [
    "tree.right.right.y.mean()"
   ]
  },
  {
   "cell_type": "markdown",
   "metadata": {},
   "source": [
    "Thus partitioning $\\mathbb{R}^2$ as follows:"
   ]
  },
  {
   "cell_type": "code",
   "execution_count": 563,
   "metadata": {
    "scrolled": true
   },
   "outputs": [
    {
     "data": {
      "text/plain": [
       "<matplotlib.colorbar.Colorbar at 0x11ea64240>"
      ]
     },
     "execution_count": 563,
     "metadata": {},
     "output_type": "execute_result"
    },
    {
     "data": {
      "image/png": "[encoded data removed]",
      "text/plain": [
       "<Figure size 432x288 with 2 Axes>"
      ]
     },
     "metadata": {
      "image/png": {
       "height": 267,
       "width": 377
      }
     },
     "output_type": "display_data"
    }
   ],
   "source": [
    "plt.scatter(*D.T, c=y, cmap=\"viridis\")\n",
    "plt.xlabel(\"$x_1$\")\n",
    "plt.ylabel(\"$x_2$\")\n",
    "\n",
    "ymin, ymax = plt.ylim()\n",
    "plt.axhline(y=tree.info[0], c=\"tab:gray\")\n",
    "plt.vlines(x=tree.left.info[0], ymin=ymin, ymax=tree.info[0], color=\"tab:gray\")\n",
    "plt.vlines(x=tree.right.info[0], ymin=tree.info[0], ymax=ymax, color=\"tab:gray\")\n",
    "plt.ylim(ymin, ymax)\n",
    "plt.colorbar()"
   ]
  },
  {
   "cell_type": "markdown",
   "metadata": {},
   "source": [
    "## `RTree` so far"
   ]
  },
  {
   "cell_type": "code",
   "execution_count": 564,
   "metadata": {},
   "outputs": [],
   "source": [
    "rtree = RTree(D, y, 4)\n",
    "rtree.fit_subtrees()"
   ]
  },
  {
   "cell_type": "markdown",
   "metadata": {},
   "source": [
    "A helper function to count the number of terminal nodes inside a non-pruned tree"
   ]
  },
  {
   "cell_type": "code",
   "execution_count": 565,
   "metadata": {},
   "outputs": [],
   "source": [
    "def _count_terminal_nodes(subtree, part_counter=0, hist=\"\"):\n",
    "    if subtree.left is None and subtree.right is None:\n",
    "        print(hist)\n",
    "        return 1\n",
    "    # we've reached a left terminal node; we continue on the\n",
    "    # left branch\n",
    "    elif subtree.left is None:\n",
    "        return _count_terminal_nodes(subtree.right, part_counter + 1, hist=hist+\"R\")\n",
    "    # we've reached a right terminal node; we continue on the\n",
    "    # right branch\n",
    "    elif subtree.right is None:\n",
    "        return _count_terminal_nodes(subtree.left, part_counter + 1, hist=hist+\"L\")\n",
    "    else:\n",
    "        return _count_terminal_nodes(subtree.left , part_counter, hist=hist+\"L\") + \\\n",
    "               _count_terminal_nodes(subtree.right, part_counter, hist=hist+\"R\")"
   ]
  },
  {
   "cell_type": "code",
   "execution_count": 566,
   "metadata": {},
   "outputs": [],
   "source": [
    "from tree import Node\n",
    "class Tree(Node):\n",
    "    def __init__(self, data=None):\n",
    "        super().__init__(data)\n",
    "        \n",
    "tree = Tree(\"*\")\n",
    "tree.left = Tree(\"L\")\n",
    "tree.left.right = Tree(\"LR\")\n",
    "tree.left.left = Tree(\"LL\")\n",
    "tree.left.left.left = Tree(\"LLL\")\n",
    "tree.left.left.right = Tree(\"LLR\")\n",
    "\n",
    "tree.right = Tree(\"R\")\n",
    "tree.right.left = Tree(\"RL\")\n",
    "tree.right.left.right = Tree(\"RLR\")\n",
    "tree.right.left.left = Tree(\"RLL\")\n",
    "tree.right.right = Tree(\"RR\")\n",
    "tree.right.right.left = Tree(\"RRL\")"
   ]
  },
  {
   "cell_type": "code",
   "execution_count": 567,
   "metadata": {
    "scrolled": false
   },
   "outputs": [
    {
     "name": "stdout",
     "output_type": "stream",
     "text": [
      "LLL\n",
      "LLR\n",
      "LR\n",
      "RLL\n",
      "RLR\n",
      "RRL\n"
     ]
    },
    {
     "data": {
      "text/plain": [
       "6"
      ]
     },
     "execution_count": 567,
     "metadata": {},
     "output_type": "execute_result"
    }
   ],
   "source": [
    "_count_terminal_nodes(tree)"
   ]
  },
  {
   "cell_type": "code",
   "execution_count": 569,
   "metadata": {},
   "outputs": [
    {
     "name": "stdout",
     "output_type": "stream",
     "text": [
      "          ______*______ \n",
      "         /             \\\n",
      "      __L__           __R__ \n",
      "     /     \\         /     \\\n",
      "   LL      LR      RL      RR \n",
      "   / \\             / \\     /  \n",
      " LLL LLR         RLL RLR RRL    "
     ]
    }
   ],
   "source": [
    "tree.prettyPrint()"
   ]
  },
  {
   "cell_type": "code",
   "execution_count": 570,
   "metadata": {},
   "outputs": [
    {
     "name": "stdout",
     "output_type": "stream",
     "text": [
      "LLL\n",
      "LLR\n",
      "LRL\n",
      "LRRL\n",
      "LRRR\n",
      "RLL\n",
      "RLRL\n",
      "RLRR\n",
      "RRLL\n",
      "RRLR\n",
      "RRR\n"
     ]
    },
    {
     "data": {
      "text/plain": [
       "11"
      ]
     },
     "execution_count": 570,
     "metadata": {},
     "output_type": "execute_result"
    }
   ],
   "source": [
    "_count_terminal_nodes(rtree)"
   ]
  },
  {
   "cell_type": "code",
   "execution_count": 571,
   "metadata": {},
   "outputs": [],
   "source": [
    "class RTreev2(RTree, Node):\n",
    "    def __init__(self, X, y, depth):\n",
    "        RTree.__init__(self, X, y, depth)\n",
    "        Node.__init__(self)\n",
    "    \n",
    "    def fit_subtrees(self):\n",
    "        super().fit_subtrees()"
   ]
  },
  {
   "cell_type": "code",
   "execution_count": 585,
   "metadata": {},
   "outputs": [],
   "source": [
    "trv2 = RTreev2(D, y, 4)\n",
    "trv2.fit_subtrees()"
   ]
  },
  {
   "cell_type": "code",
   "execution_count": 586,
   "metadata": {},
   "outputs": [
    {
     "name": "stdout",
     "output_type": "stream",
     "text": [
      "                  ______________*______________ \n",
      "                 /                             \\\n",
      "          ______*______                   ______*______ \n",
      "         /             \\                 /             \\\n",
      "      __*__           __*__           __*__           __*__ \n",
      "     /     \\         /     \\         /     \\         /     \\\n",
      "    *       *       *       *       *       *       *       * \n",
      "                           / \\             / \\     / \\        \n",
      "                          *   *           *   *   *   *         "
     ]
    }
   ],
   "source": [
    "trv2.prettyPrint()"
   ]
  },
  {
   "cell_type": "markdown",
   "metadata": {},
   "source": [
    "## References\n",
    "* https://www.microsoft.com/en-us/research/wp-content/uploads/2016/12/splits.pdf\n",
    "* https://github.com/jdmcpeek/pretty-print-binary-tree"
   ]
  }
 ],
 "metadata": {
  "kernelspec": {
   "display_name": "Python 3",
   "language": "python",
   "name": "python3"
  },
  "language_info": {
   "codemirror_mode": {
    "name": "ipython",
    "version": 3
   },
   "file_extension": ".py",
   "mimetype": "text/x-python",
   "name": "python",
   "nbconvert_exporter": "python",
   "pygments_lexer": "ipython3",
   "version": "3.6.8"
  }
 },
 "nbformat": 4,
 "nbformat_minor": 2
}
